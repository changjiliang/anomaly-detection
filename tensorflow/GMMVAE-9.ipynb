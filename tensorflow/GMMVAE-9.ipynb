{
 "cells": [
  {
   "cell_type": "code",
   "execution_count": 1,
   "metadata": {},
   "outputs": [
    {
     "name": "stderr",
     "output_type": "stream",
     "text": [
      "Using TensorFlow backend.\n"
     ]
    }
   ],
   "source": [
    "import matplotlib\n",
    "# matplotlib.use('agg')\n",
    "import pandas as pd\n",
    "from dipy.segment.metric import mdf\n",
    "from fastdtw import dtw\n",
    "matplotlib.use('TkAgg')\n",
    "import matplotlib.pyplot as plt\n",
    "import tensorflow as tf\n",
    "import numpy as np\n",
    "from keras.datasets import mnist\n",
    "from utils.partition import *\n",
    "from model.GMVAE import *\n",
    "import os\n",
    "from scipy.io import loadmat\n",
    "os.environ[\"TF_CPP_MIN_LOG_LEVEL\"]='2'\n",
    "tf.compat.v1.logging.set_verbosity(tf.compat.v1.logging.ERROR)"
   ]
  },
  {
   "cell_type": "code",
   "execution_count": 3,
   "metadata": {
    "collapsed": true,
    "jupyter": {
     "outputs_hidden": true,
     "source_hidden": true
    }
   },
   "outputs": [
    {
     "name": "stdout",
     "output_type": "stream",
     "text": [
      "Loading mnist dataset...\n"
     ]
    },
    {
     "ename": "FileNotFoundError",
     "evalue": "[Errno 2] No such file or directory: 'test4.npy'",
     "output_type": "error",
     "traceback": [
      "\u001b[1;31m---------------------------------------------------------------------------\u001b[0m",
      "\u001b[1;31mFileNotFoundError\u001b[0m                         Traceback (most recent call last)",
      "\u001b[1;32m<ipython-input-3-a67beeb93bcd>\u001b[0m in \u001b[0;36m<module>\u001b[1;34m\u001b[0m\n\u001b[0;32m     84\u001b[0m     \u001b[0mx_train\u001b[0m\u001b[1;33m=\u001b[0m\u001b[0mnp\u001b[0m\u001b[1;33m.\u001b[0m\u001b[0mload\u001b[0m\u001b[1;33m(\u001b[0m\u001b[1;34m\"x_scale4.npy\"\u001b[0m\u001b[1;33m)\u001b[0m\u001b[1;33m\u001b[0m\u001b[1;33m\u001b[0m\u001b[0m\n\u001b[0;32m     85\u001b[0m     \u001b[0my_train\u001b[0m\u001b[1;33m=\u001b[0m\u001b[0mnp\u001b[0m\u001b[1;33m.\u001b[0m\u001b[0mload\u001b[0m\u001b[1;33m(\u001b[0m\u001b[1;34m\"y_label4.npy\"\u001b[0m\u001b[1;33m)\u001b[0m\u001b[1;33m\u001b[0m\u001b[1;33m\u001b[0m\u001b[0m\n\u001b[1;32m---> 86\u001b[1;33m     \u001b[0mx_test\u001b[0m \u001b[1;33m=\u001b[0m  \u001b[0mnp\u001b[0m\u001b[1;33m.\u001b[0m\u001b[0mload\u001b[0m\u001b[1;33m(\u001b[0m\u001b[1;34m\"test4.npy\"\u001b[0m\u001b[1;33m)\u001b[0m\u001b[1;33m\u001b[0m\u001b[1;33m\u001b[0m\u001b[0m\n\u001b[0m\u001b[0;32m     87\u001b[0m     \u001b[0my_test\u001b[0m \u001b[1;33m=\u001b[0m  \u001b[0mnp\u001b[0m\u001b[1;33m.\u001b[0m\u001b[0mload\u001b[0m\u001b[1;33m(\u001b[0m\u001b[1;34m\"y_test4.npy\"\u001b[0m\u001b[1;33m)\u001b[0m\u001b[1;33m\u001b[0m\u001b[1;33m\u001b[0m\u001b[0m\n\u001b[0;32m     88\u001b[0m \u001b[1;33m\u001b[0m\u001b[0m\n",
      "\u001b[1;32mC:\\software\\Anaconda3\\envs\\BY\\lib\\site-packages\\numpy\\lib\\npyio.py\u001b[0m in \u001b[0;36mload\u001b[1;34m(file, mmap_mode, allow_pickle, fix_imports, encoding)\u001b[0m\n\u001b[0;32m    382\u001b[0m     \u001b[0mown_fid\u001b[0m \u001b[1;33m=\u001b[0m \u001b[1;32mFalse\u001b[0m\u001b[1;33m\u001b[0m\u001b[1;33m\u001b[0m\u001b[0m\n\u001b[0;32m    383\u001b[0m     \u001b[1;32mif\u001b[0m \u001b[0misinstance\u001b[0m\u001b[1;33m(\u001b[0m\u001b[0mfile\u001b[0m\u001b[1;33m,\u001b[0m \u001b[0mbasestring\u001b[0m\u001b[1;33m)\u001b[0m\u001b[1;33m:\u001b[0m\u001b[1;33m\u001b[0m\u001b[1;33m\u001b[0m\u001b[0m\n\u001b[1;32m--> 384\u001b[1;33m         \u001b[0mfid\u001b[0m \u001b[1;33m=\u001b[0m \u001b[0mopen\u001b[0m\u001b[1;33m(\u001b[0m\u001b[0mfile\u001b[0m\u001b[1;33m,\u001b[0m \u001b[1;34m\"rb\"\u001b[0m\u001b[1;33m)\u001b[0m\u001b[1;33m\u001b[0m\u001b[1;33m\u001b[0m\u001b[0m\n\u001b[0m\u001b[0;32m    385\u001b[0m         \u001b[0mown_fid\u001b[0m \u001b[1;33m=\u001b[0m \u001b[1;32mTrue\u001b[0m\u001b[1;33m\u001b[0m\u001b[1;33m\u001b[0m\u001b[0m\n\u001b[0;32m    386\u001b[0m     \u001b[1;32melif\u001b[0m \u001b[0mis_pathlib_path\u001b[0m\u001b[1;33m(\u001b[0m\u001b[0mfile\u001b[0m\u001b[1;33m)\u001b[0m\u001b[1;33m:\u001b[0m\u001b[1;33m\u001b[0m\u001b[1;33m\u001b[0m\u001b[0m\n",
      "\u001b[1;31mFileNotFoundError\u001b[0m: [Errno 2] No such file or directory: 'test4.npy'"
     ]
    }
   ],
   "source": [
    "def del_all_flags(FLAGS):\n",
    "    flags_dict = FLAGS._flags()\n",
    "    keys_list = [keys for keys in flags_dict]\n",
    "    for keys in keys_list:\n",
    "        FLAGS.__delattr__(keys)\n",
    "\n",
    "\n",
    "del_all_flags(tf.flags.FLAGS)\n",
    "\n",
    "flags = tf.flags\n",
    "PARAMETERS = flags.FLAGS\n",
    "tf.app.flags.DEFINE_string('f', '', 'kernel')\n",
    "#########################################################\n",
    "## Input Parameters\n",
    "#########################################################\n",
    "\n",
    "## Dataset\n",
    "flags.DEFINE_string('dataset', 'mnist', 'Specify the desired dataset (mnist)')\n",
    "flags.DEFINE_integer('seed', -1, 'Random Seed')\n",
    "\n",
    "## GPU\n",
    "flags.DEFINE_integer('gpu', 1, 'Using Cuda, 1 to enable')\n",
    "flags.DEFINE_integer('gpuID', 0, 'Set GPU Id to use')\n",
    "\n",
    "## Training\n",
    "flags.DEFINE_integer('batch_size', 64, 'Batch size of training data')\n",
    "flags.DEFINE_integer('num_epochs', 150, 'Number of epochs in training phase')\n",
    "flags.DEFINE_float('learning_rate', 1e-3, 'Learning rate for training')\n",
    "flags.DEFINE_float('decay_epoch', -1,\n",
    "                   'Reduces the learning rate every decay_epoch')\n",
    "flags.DEFINE_float('lr_decay', 0.5, 'Learning rate decay for training')\n",
    "\n",
    "## Architecture\n",
    "flags.DEFINE_integer('num_classes', 4, 'Number of clusters')\n",
    "flags.DEFINE_integer('gaussian_size', 64,\n",
    "                     'Size of the gaussian learnt by the network')\n",
    "\n",
    "## Partition parameters\n",
    "flags.DEFINE_float(\n",
    "    'train_proportion', 1.0,\n",
    "    'Proportion of examples to consider for training only  (0.0-1.0)')\n",
    "flags.DEFINE_integer('batch_size_val', 50, 'Batch size of validation data')\n",
    "flags.DEFINE_integer('batch_size_test', 50, 'Batch size of test data')\n",
    "\n",
    "## Gumbel parameters\n",
    "flags.DEFINE_float(\n",
    "    'temperature', 1.0,\n",
    "    'Initial temperature used in gumbel-softmax (recommended 0.5-1.0)')\n",
    "flags.DEFINE_integer('decay_temperature', 1,\n",
    "                     'Set 1 to decay gumbel temperature at every epoch')\n",
    "flags.DEFINE_integer('hard_gumbel', 0, 'Hard version of gumbel-softmax')\n",
    "flags.DEFINE_float('min_temperature', 0.5,\n",
    "                   'Minimum temperature of gumbel-softmax after annealing')\n",
    "flags.DEFINE_float('decay_temp_rate', 0.00693,\n",
    "                   'Temperature decay rate at every epoch')\n",
    "\n",
    "## Loss function parameters\n",
    "flags.DEFINE_string('loss_type', 'bce',\n",
    "                    'Desired loss function to train (mse, bce)')\n",
    "flags.DEFINE_float('w_gaussian', 1.0, 'Weight of Gaussian regularization')\n",
    "flags.DEFINE_float('w_categorical', 1.0,\n",
    "                   'Weight of Categorical regularization')\n",
    "flags.DEFINE_float('w_reconstruction', 1.0, 'Weight of Reconstruction loss')\n",
    "\n",
    "## Others\n",
    "flags.DEFINE_integer('verbose', 0, \"Print extra information at every epoch.\")\n",
    "flags.DEFINE_integer('random_search_it', 20, 'Iterations of random search')\n",
    "\n",
    "if PARAMETERS.gpu == 1:\n",
    "    os.environ[\"CUDA_VISIBLE_DEVICES\"] = str(PARAMETERS.gpuID)\n",
    "\n",
    "if PARAMETERS.seed < 0:\n",
    "    np.random.seed(None)\n",
    "else:\n",
    "    np.random.seed(PARAMETERS.seed)\n",
    "\n",
    "#########################################################\n",
    "## Read Data\n",
    "#########################################################\n",
    "if PARAMETERS.dataset == \"mnist\":\n",
    "    print(\"Loading mnist dataset...\")\n",
    "    # load mnist data\n",
    "    # (x_train, y_train), (x_test, y_test) = mnist.load_data()\n",
    "    x_train=np.load(\"x_scale4.npy\")\n",
    "    y_train=np.load(\"y_label4.npy\")\n",
    "    x_test =  np.load(\"test4.npy\")\n",
    "    y_test =  np.load(\"y_test4.npy\")\n",
    "\n",
    "    # x_train = x_train / 255.0\n",
    "    # x_test = x_test / 255.0\n",
    "else:\n",
    "    raise \"invalid dataset, valid datasets are: mnist\"\n",
    "\n",
    "## Set datatypes\n",
    "x_train = x_train.astype(np.float32)\n",
    "x_test = x_test.astype(np.float32)\n",
    "y_train = y_train.astype(np.int64)\n",
    "y_test = y_test.astype(np.int64)\n",
    "\n",
    "## Flatten data\n",
    "x_train = flatten_array(x_train)\n",
    "x_test = flatten_array(x_test)\n",
    "\n",
    "#########################################################\n",
    "## Data Partition\n",
    "#########################################################\n",
    "test_data, test_labels = x_test, y_test\n",
    "\n",
    "if PARAMETERS.train_proportion == 1.0:\n",
    "    train_data, train_labels, val_data, val_labels = x_train, y_train, x_test, y_test\n",
    "else:\n",
    "    train_data, train_labels, val_data, val_labels = partition_train_val(\n",
    "        x_train, y_train, PARAMETERS.train_proportion, PARAMETERS.num_classes)\n",
    "\n",
    "if PARAMETERS.verbose == 1:\n",
    "    print(\"Train size: %dx%d\" % (train_data.shape[0], train_data.shape[1]))\n",
    "    if PARAMETERS.train_proportion < 1.0:\n",
    "        print(\"Validation size: %dx%d\" %\n",
    "              (val_data.shape[0], val_data.shape[1]))\n",
    "    print(\"Test size: %dx%d\" % (test_data.shape[0], test_data.shape[1]))\n",
    "\n",
    "#########################################################\n",
    "## Train and Test Model\n",
    "#########################################################\n",
    "tf.reset_default_graph()\n",
    "if PARAMETERS.seed > -1:\n",
    "    tf.set_random_seed(PARAMETERS.seed)\n",
    "\n",
    "## Model Initialization\n",
    "gmvae = GMVAE(PARAMETERS)\n",
    "\n",
    "## Training Phase\n",
    "history_loss = gmvae.train(train_data, train_labels, val_data, val_labels)\n",
    "\n",
    "## Testing Phase\n",
    "accuracy, nmi = gmvae.test(test_data, test_labels, PARAMETERS.batch_size_test)\n",
    "\n",
    "print(\"Testing phase...\")\n",
    "print(\"Accuracy: %.5lf,  NMI: %.5lf\" % (accuracy, nmi))\n"
   ]
  },
  {
   "cell_type": "code",
   "execution_count": 2,
   "metadata": {
    "collapsed": true,
    "jupyter": {
     "outputs_hidden": true
    }
   },
   "outputs": [
    {
     "name": "stdout",
     "output_type": "stream",
     "text": [
      "Loading mnist dataset...\n",
      "WARNING: Entity <bound method Dense.call of <tensorflow.python.layers.core.Dense object at 0x0000029F3AE75668>> could not be transformed and will be executed as-is. Please report this to the AutgoGraph team. When filing the bug, set the verbosity to 10 (on Linux, `export AUTOGRAPH_VERBOSITY=10`) and attach the full output. Cause: converting <bound method Dense.call of <tensorflow.python.layers.core.Dense object at 0x0000029F3AE75668>>: AssertionError: Bad argument number for Name: 3, expecting 4\n",
      "WARNING: Entity <bound method Dense.call of <tensorflow.python.layers.core.Dense object at 0x0000029F3AD1BAC8>> could not be transformed and will be executed as-is. Please report this to the AutgoGraph team. When filing the bug, set the verbosity to 10 (on Linux, `export AUTOGRAPH_VERBOSITY=10`) and attach the full output. Cause: converting <bound method Dense.call of <tensorflow.python.layers.core.Dense object at 0x0000029F3AD1BAC8>>: AssertionError: Bad argument number for Name: 3, expecting 4\n",
      "WARNING: Entity <bound method Dense.call of <tensorflow.python.layers.core.Dense object at 0x0000029F3AD1BAC8>> could not be transformed and will be executed as-is. Please report this to the AutgoGraph team. When filing the bug, set the verbosity to 10 (on Linux, `export AUTOGRAPH_VERBOSITY=10`) and attach the full output. Cause: converting <bound method Dense.call of <tensorflow.python.layers.core.Dense object at 0x0000029F3AD1BAC8>>: AssertionError: Bad argument number for Name: 3, expecting 4\n",
      "WARNING: Entity <bound method Dense.call of <tensorflow.python.layers.core.Dense object at 0x0000029F3B22AEF0>> could not be transformed and will be executed as-is. Please report this to the AutgoGraph team. When filing the bug, set the verbosity to 10 (on Linux, `export AUTOGRAPH_VERBOSITY=10`) and attach the full output. Cause: converting <bound method Dense.call of <tensorflow.python.layers.core.Dense object at 0x0000029F3B22AEF0>>: AssertionError: Bad argument number for Name: 3, expecting 4\n",
      "WARNING: Entity <bound method Dense.call of <tensorflow.python.layers.core.Dense object at 0x0000029F3AD2F860>> could not be transformed and will be executed as-is. Please report this to the AutgoGraph team. When filing the bug, set the verbosity to 10 (on Linux, `export AUTOGRAPH_VERBOSITY=10`) and attach the full output. Cause: converting <bound method Dense.call of <tensorflow.python.layers.core.Dense object at 0x0000029F3AD2F860>>: AssertionError: Bad argument number for Name: 3, expecting 4\n",
      "WARNING: Entity <bound method Dense.call of <tensorflow.python.layers.core.Dense object at 0x0000029F3AEA6BA8>> could not be transformed and will be executed as-is. Please report this to the AutgoGraph team. When filing the bug, set the verbosity to 10 (on Linux, `export AUTOGRAPH_VERBOSITY=10`) and attach the full output. Cause: converting <bound method Dense.call of <tensorflow.python.layers.core.Dense object at 0x0000029F3AEA6BA8>>: AssertionError: Bad argument number for Name: 3, expecting 4\n",
      "WARNING: Entity <bound method Dense.call of <tensorflow.python.layers.core.Dense object at 0x0000029F3AEA6BA8>> could not be transformed and will be executed as-is. Please report this to the AutgoGraph team. When filing the bug, set the verbosity to 10 (on Linux, `export AUTOGRAPH_VERBOSITY=10`) and attach the full output. Cause: converting <bound method Dense.call of <tensorflow.python.layers.core.Dense object at 0x0000029F3AEA6BA8>>: AssertionError: Bad argument number for Name: 3, expecting 4\n",
      "WARNING: Entity <bound method Dense.call of <tensorflow.python.layers.core.Dense object at 0x0000029F3AE75630>> could not be transformed and will be executed as-is. Please report this to the AutgoGraph team. When filing the bug, set the verbosity to 10 (on Linux, `export AUTOGRAPH_VERBOSITY=10`) and attach the full output. Cause: converting <bound method Dense.call of <tensorflow.python.layers.core.Dense object at 0x0000029F3AE75630>>: AssertionError: Bad argument number for Name: 3, expecting 4\n",
      "WARNING: Entity <bound method Dense.call of <tensorflow.python.layers.core.Dense object at 0x0000029F3AE75630>> could not be transformed and will be executed as-is. Please report this to the AutgoGraph team. When filing the bug, set the verbosity to 10 (on Linux, `export AUTOGRAPH_VERBOSITY=10`) and attach the full output. Cause: converting <bound method Dense.call of <tensorflow.python.layers.core.Dense object at 0x0000029F3AE75630>>: AssertionError: Bad argument number for Name: 3, expecting 4\n",
      "WARNING: Entity <bound method Dense.call of <tensorflow.python.layers.core.Dense object at 0x0000029F3AE75978>> could not be transformed and will be executed as-is. Please report this to the AutgoGraph team. When filing the bug, set the verbosity to 10 (on Linux, `export AUTOGRAPH_VERBOSITY=10`) and attach the full output. Cause: converting <bound method Dense.call of <tensorflow.python.layers.core.Dense object at 0x0000029F3AE75978>>: AssertionError: Bad argument number for Name: 3, expecting 4\n",
      "WARNING: Entity <bound method Dense.call of <tensorflow.python.layers.core.Dense object at 0x0000029F3AD2FD30>> could not be transformed and will be executed as-is. Please report this to the AutgoGraph team. When filing the bug, set the verbosity to 10 (on Linux, `export AUTOGRAPH_VERBOSITY=10`) and attach the full output. Cause: converting <bound method Dense.call of <tensorflow.python.layers.core.Dense object at 0x0000029F3AD2FD30>>: AssertionError: Bad argument number for Name: 3, expecting 4\n",
      "WARNING: Entity <bound method Dense.call of <tensorflow.python.layers.core.Dense object at 0x0000029F3AD2FD30>> could not be transformed and will be executed as-is. Please report this to the AutgoGraph team. When filing the bug, set the verbosity to 10 (on Linux, `export AUTOGRAPH_VERBOSITY=10`) and attach the full output. Cause: converting <bound method Dense.call of <tensorflow.python.layers.core.Dense object at 0x0000029F3AD2FD30>>: AssertionError: Bad argument number for Name: 3, expecting 4\n",
      "WARNING: Entity <bound method Dense.call of <tensorflow.python.layers.core.Dense object at 0x0000029F3B68FDD8>> could not be transformed and will be executed as-is. Please report this to the AutgoGraph team. When filing the bug, set the verbosity to 10 (on Linux, `export AUTOGRAPH_VERBOSITY=10`) and attach the full output. Cause: converting <bound method Dense.call of <tensorflow.python.layers.core.Dense object at 0x0000029F3B68FDD8>>: AssertionError: Bad argument number for Name: 3, expecting 4\n",
      "WARNING: Entity <bound method Dense.call of <tensorflow.python.layers.core.Dense object at 0x0000029F3CE855C0>> could not be transformed and will be executed as-is. Please report this to the AutgoGraph team. When filing the bug, set the verbosity to 10 (on Linux, `export AUTOGRAPH_VERBOSITY=10`) and attach the full output. Cause: converting <bound method Dense.call of <tensorflow.python.layers.core.Dense object at 0x0000029F3CE855C0>>: AssertionError: Bad argument number for Name: 3, expecting 4\n",
      "WARNING: Entity <bound method Dense.call of <tensorflow.python.layers.core.Dense object at 0x0000029F3CE855C0>> could not be transformed and will be executed as-is. Please report this to the AutgoGraph team. When filing the bug, set the verbosity to 10 (on Linux, `export AUTOGRAPH_VERBOSITY=10`) and attach the full output. Cause: converting <bound method Dense.call of <tensorflow.python.layers.core.Dense object at 0x0000029F3CE855C0>>: AssertionError: Bad argument number for Name: 3, expecting 4\n",
      "WARNING: Entity <bound method Dense.call of <tensorflow.python.layers.core.Dense object at 0x0000029F3CD85FD0>> could not be transformed and will be executed as-is. Please report this to the AutgoGraph team. When filing the bug, set the verbosity to 10 (on Linux, `export AUTOGRAPH_VERBOSITY=10`) and attach the full output. Cause: converting <bound method Dense.call of <tensorflow.python.layers.core.Dense object at 0x0000029F3CD85FD0>>: AssertionError: Bad argument number for Name: 3, expecting 4\n",
      "WARNING: Entity <bound method Dense.call of <tensorflow.python.layers.core.Dense object at 0x0000029F3CD85FD0>> could not be transformed and will be executed as-is. Please report this to the AutgoGraph team. When filing the bug, set the verbosity to 10 (on Linux, `export AUTOGRAPH_VERBOSITY=10`) and attach the full output. Cause: converting <bound method Dense.call of <tensorflow.python.layers.core.Dense object at 0x0000029F3CD85FD0>>: AssertionError: Bad argument number for Name: 3, expecting 4\n",
      "WARNING: Entity <bound method Dense.call of <tensorflow.python.layers.core.Dense object at 0x0000029F3CD85FD0>> could not be transformed and will be executed as-is. Please report this to the AutgoGraph team. When filing the bug, set the verbosity to 10 (on Linux, `export AUTOGRAPH_VERBOSITY=10`) and attach the full output. Cause: converting <bound method Dense.call of <tensorflow.python.layers.core.Dense object at 0x0000029F3CD85FD0>>: AssertionError: Bad argument number for Name: 3, expecting 4\n",
      "WARNING: Entity <bound method Dense.call of <tensorflow.python.layers.core.Dense object at 0x0000029F3CD85FD0>> could not be transformed and will be executed as-is. Please report this to the AutgoGraph team. When filing the bug, set the verbosity to 10 (on Linux, `export AUTOGRAPH_VERBOSITY=10`) and attach the full output. Cause: converting <bound method Dense.call of <tensorflow.python.layers.core.Dense object at 0x0000029F3CD85FD0>>: AssertionError: Bad argument number for Name: 3, expecting 4\n",
      "WARNING: Entity <bound method Dense.call of <tensorflow.python.layers.core.Dense object at 0x0000029F3B69D940>> could not be transformed and will be executed as-is. Please report this to the AutgoGraph team. When filing the bug, set the verbosity to 10 (on Linux, `export AUTOGRAPH_VERBOSITY=10`) and attach the full output. Cause: converting <bound method Dense.call of <tensorflow.python.layers.core.Dense object at 0x0000029F3B69D940>>: AssertionError: Bad argument number for Name: 3, expecting 4\n",
      "WARNING: Entity <bound method Dense.call of <tensorflow.python.layers.core.Dense object at 0x0000029F3B69D940>> could not be transformed and will be executed as-is. Please report this to the AutgoGraph team. When filing the bug, set the verbosity to 10 (on Linux, `export AUTOGRAPH_VERBOSITY=10`) and attach the full output. Cause: converting <bound method Dense.call of <tensorflow.python.layers.core.Dense object at 0x0000029F3B69D940>>: AssertionError: Bad argument number for Name: 3, expecting 4\n",
      "WARNING: Entity <bound method Dense.call of <tensorflow.python.layers.core.Dense object at 0x0000029F3CD2B1D0>> could not be transformed and will be executed as-is. Please report this to the AutgoGraph team. When filing the bug, set the verbosity to 10 (on Linux, `export AUTOGRAPH_VERBOSITY=10`) and attach the full output. Cause: converting <bound method Dense.call of <tensorflow.python.layers.core.Dense object at 0x0000029F3CD2B1D0>>: AssertionError: Bad argument number for Name: 3, expecting 4\n",
      "WARNING: Entity <bound method Dense.call of <tensorflow.python.layers.core.Dense object at 0x0000029F3CDF7B00>> could not be transformed and will be executed as-is. Please report this to the AutgoGraph team. When filing the bug, set the verbosity to 10 (on Linux, `export AUTOGRAPH_VERBOSITY=10`) and attach the full output. Cause: converting <bound method Dense.call of <tensorflow.python.layers.core.Dense object at 0x0000029F3CDF7B00>>: AssertionError: Bad argument number for Name: 3, expecting 4\n",
      "WARNING: Entity <bound method Dense.call of <tensorflow.python.layers.core.Dense object at 0x0000029F3CD2B1D0>> could not be transformed and will be executed as-is. Please report this to the AutgoGraph team. When filing the bug, set the verbosity to 10 (on Linux, `export AUTOGRAPH_VERBOSITY=10`) and attach the full output. Cause: converting <bound method Dense.call of <tensorflow.python.layers.core.Dense object at 0x0000029F3CD2B1D0>>: AssertionError: Bad argument number for Name: 3, expecting 4\n",
      "Training phase...\n",
      "(Epoch 1 / 100) Train Loss: 64.32565; Val Loss: 64.05032   Train ACC: 0.28493; Val ACC: 0.20000   Train NMI: 0.00000; Val NMI: 0.00000\n",
      "(Epoch 2 / 100) Train Loss: 63.15116; Val Loss: 63.89474   Train ACC: 0.28554; Val ACC: 0.20000   Train NMI: 0.00000; Val NMI: 0.00000\n",
      "(Epoch 3 / 100) Train Loss: 62.76838; Val Loss: 63.04191   Train ACC: 0.28554; Val ACC: 0.20000   Train NMI: 0.00000; Val NMI: 0.00000\n",
      "(Epoch 4 / 100) Train Loss: 62.37618; Val Loss: 62.96083   Train ACC: 0.28462; Val ACC: 0.20000   Train NMI: 0.00000; Val NMI: 0.00000\n",
      "(Epoch 5 / 100) Train Loss: 62.13655; Val Loss: 62.51428   Train ACC: 0.28676; Val ACC: 0.20000   Train NMI: 0.00000; Val NMI: 0.00000\n",
      "(Epoch 6 / 100) Train Loss: 61.95889; Val Loss: 62.44288   Train ACC: 0.28554; Val ACC: 0.20000   Train NMI: 0.00000; Val NMI: 0.00000\n",
      "(Epoch 7 / 100) Train Loss: 61.70401; Val Loss: 62.08905   Train ACC: 0.28585; Val ACC: 0.20000   Train NMI: 0.00000; Val NMI: 0.00000\n",
      "(Epoch 8 / 100) Train Loss: 61.58666; Val Loss: 61.92546   Train ACC: 0.28523; Val ACC: 0.20000   Train NMI: 0.00000; Val NMI: 0.00000\n",
      "(Epoch 9 / 100) Train Loss: 61.50504; Val Loss: 61.62908   Train ACC: 0.28493; Val ACC: 0.20000   Train NMI: 0.00000; Val NMI: 0.00000\n",
      "(Epoch 10 / 100) Train Loss: 61.44892; Val Loss: 61.70232   Train ACC: 0.28707; Val ACC: 0.20000   Train NMI: 0.00000; Val NMI: 0.00000\n",
      "(Epoch 11 / 100) Train Loss: 61.44013; Val Loss: 61.66991   Train ACC: 0.28493; Val ACC: 0.20000   Train NMI: 0.00000; Val NMI: 0.00000\n",
      "(Epoch 12 / 100) Train Loss: 61.38152; Val Loss: 61.84146   Train ACC: 0.28523; Val ACC: 0.20000   Train NMI: 0.00000; Val NMI: 0.00000\n",
      "(Epoch 13 / 100) Train Loss: 61.28359; Val Loss: 61.51293   Train ACC: 0.28523; Val ACC: 0.20000   Train NMI: 0.00000; Val NMI: 0.00000\n",
      "(Epoch 14 / 100) Train Loss: 61.28757; Val Loss: 61.75016   Train ACC: 0.28615; Val ACC: 0.20000   Train NMI: 0.00000; Val NMI: 0.00000\n",
      "(Epoch 15 / 100) Train Loss: 61.25387; Val Loss: 61.48743   Train ACC: 0.28585; Val ACC: 0.20000   Train NMI: 0.00000; Val NMI: 0.00000\n",
      "(Epoch 16 / 100) Train Loss: 61.16745; Val Loss: 61.44681   Train ACC: 0.28585; Val ACC: 0.20000   Train NMI: 0.00000; Val NMI: 0.00000\n",
      "(Epoch 17 / 100) Train Loss: 61.09906; Val Loss: 61.45583   Train ACC: 0.28646; Val ACC: 0.20000   Train NMI: 0.00000; Val NMI: 0.00000\n",
      "(Epoch 18 / 100) Train Loss: 61.05621; Val Loss: 61.32071   Train ACC: 0.28554; Val ACC: 0.20000   Train NMI: 0.00000; Val NMI: 0.00000\n",
      "(Epoch 19 / 100) Train Loss: 61.03074; Val Loss: 61.30092   Train ACC: 0.28554; Val ACC: 0.20000   Train NMI: 0.00000; Val NMI: 0.00000\n",
      "(Epoch 20 / 100) Train Loss: 61.00942; Val Loss: 61.28291   Train ACC: 0.28554; Val ACC: 0.20000   Train NMI: 0.00000; Val NMI: 0.00000\n",
      "(Epoch 21 / 100) Train Loss: 60.91365; Val Loss: 61.08862   Train ACC: 0.28554; Val ACC: 0.20000   Train NMI: 0.00000; Val NMI: 0.00000\n",
      "(Epoch 22 / 100) Train Loss: 60.87603; Val Loss: 61.16712   Train ACC: 0.28585; Val ACC: 0.20000   Train NMI: 0.00000; Val NMI: 0.00000\n",
      "(Epoch 23 / 100) Train Loss: 60.79706; Val Loss: 60.95319   Train ACC: 0.28401; Val ACC: 0.20000   Train NMI: 0.00000; Val NMI: 0.00000\n",
      "(Epoch 24 / 100) Train Loss: 60.73704; Val Loss: 60.90568   Train ACC: 0.28615; Val ACC: 0.20000   Train NMI: 0.00000; Val NMI: 0.00000\n",
      "(Epoch 25 / 100) Train Loss: 60.69787; Val Loss: 60.96281   Train ACC: 0.28554; Val ACC: 0.20000   Train NMI: 0.00000; Val NMI: 0.00000\n",
      "(Epoch 26 / 100) Train Loss: 60.65589; Val Loss: 60.81205   Train ACC: 0.28615; Val ACC: 0.20000   Train NMI: 0.00000; Val NMI: 0.00000\n",
      "(Epoch 27 / 100) Train Loss: 60.58903; Val Loss: 60.64549   Train ACC: 0.28554; Val ACC: 0.20000   Train NMI: 0.00000; Val NMI: 0.00000\n",
      "(Epoch 28 / 100) Train Loss: 60.57446; Val Loss: 60.87190   Train ACC: 0.28462; Val ACC: 0.20000   Train NMI: 0.00000; Val NMI: 0.00000\n",
      "(Epoch 29 / 100) Train Loss: 60.52038; Val Loss: 60.66325   Train ACC: 0.28493; Val ACC: 0.20000   Train NMI: 0.00000; Val NMI: 0.00000\n",
      "(Epoch 30 / 100) Train Loss: 60.44009; Val Loss: 60.75765   Train ACC: 0.28523; Val ACC: 0.20000   Train NMI: 0.00000; Val NMI: 0.00000\n",
      "(Epoch 31 / 100) Train Loss: 60.42078; Val Loss: 60.73406   Train ACC: 0.28585; Val ACC: 0.20000   Train NMI: 0.00000; Val NMI: 0.00000\n",
      "(Epoch 32 / 100) Train Loss: 60.40361; Val Loss: 60.57175   Train ACC: 0.28585; Val ACC: 0.20000   Train NMI: 0.00000; Val NMI: 0.00000\n",
      "(Epoch 33 / 100) Train Loss: 60.39800; Val Loss: 60.49671   Train ACC: 0.28370; Val ACC: 0.20000   Train NMI: 0.00000; Val NMI: 0.00000\n",
      "(Epoch 34 / 100) Train Loss: 60.36533; Val Loss: 60.51726   Train ACC: 0.28493; Val ACC: 0.20000   Train NMI: 0.00000; Val NMI: 0.00000\n",
      "(Epoch 35 / 100) Train Loss: 60.37548; Val Loss: 60.58624   Train ACC: 0.28554; Val ACC: 0.20000   Train NMI: 0.00000; Val NMI: 0.00000\n",
      "(Epoch 36 / 100) Train Loss: 60.34549; Val Loss: 60.69964   Train ACC: 0.28615; Val ACC: 0.20000   Train NMI: 0.00000; Val NMI: 0.00000\n",
      "(Epoch 37 / 100) Train Loss: 60.33294; Val Loss: 60.52864   Train ACC: 0.28523; Val ACC: 0.20000   Train NMI: 0.00000; Val NMI: 0.00000\n",
      "(Epoch 38 / 100) Train Loss: 60.33876; Val Loss: 60.53652   Train ACC: 0.28493; Val ACC: 0.20000   Train NMI: 0.00000; Val NMI: 0.00000\n",
      "(Epoch 39 / 100) Train Loss: 60.32567; Val Loss: 60.45547   Train ACC: 0.28523; Val ACC: 0.20000   Train NMI: 0.00000; Val NMI: 0.00000\n",
      "(Epoch 40 / 100) Train Loss: 60.31286; Val Loss: 60.51940   Train ACC: 0.28523; Val ACC: 0.20000   Train NMI: 0.00000; Val NMI: 0.00000\n",
      "(Epoch 41 / 100) Train Loss: 60.29681; Val Loss: 60.44143   Train ACC: 0.28523; Val ACC: 0.20000   Train NMI: 0.00000; Val NMI: 0.00000\n",
      "(Epoch 42 / 100) Train Loss: 60.32552; Val Loss: 60.42525   Train ACC: 0.28676; Val ACC: 0.20000   Train NMI: 0.00000; Val NMI: 0.00000\n",
      "(Epoch 43 / 100) Train Loss: 60.31612; Val Loss: 60.51361   Train ACC: 0.28462; Val ACC: 0.20000   Train NMI: 0.00000; Val NMI: 0.00000\n",
      "(Epoch 44 / 100) Train Loss: 60.27335; Val Loss: 60.51429   Train ACC: 0.28554; Val ACC: 0.20000   Train NMI: 0.00000; Val NMI: 0.00000\n",
      "(Epoch 45 / 100) Train Loss: 60.26805; Val Loss: 60.32946   Train ACC: 0.28554; Val ACC: 0.20000   Train NMI: 0.00000; Val NMI: 0.00000\n",
      "(Epoch 46 / 100) Train Loss: 60.28605; Val Loss: 60.49212   Train ACC: 0.28554; Val ACC: 0.20000   Train NMI: 0.00000; Val NMI: 0.00000\n",
      "(Epoch 47 / 100) Train Loss: 60.24965; Val Loss: 60.47151   Train ACC: 0.28585; Val ACC: 0.20000   Train NMI: 0.00000; Val NMI: 0.00000\n",
      "(Epoch 48 / 100) Train Loss: 60.28355; Val Loss: 60.39924   Train ACC: 0.28554; Val ACC: 0.20000   Train NMI: 0.00000; Val NMI: 0.00000\n",
      "(Epoch 49 / 100) Train Loss: 60.27009; Val Loss: 60.39215   Train ACC: 0.28401; Val ACC: 0.20000   Train NMI: 0.00000; Val NMI: 0.00000\n",
      "(Epoch 50 / 100) Train Loss: 60.29185; Val Loss: 60.53095   Train ACC: 0.28462; Val ACC: 0.20000   Train NMI: 0.00000; Val NMI: 0.00000\n",
      "(Epoch 51 / 100) Train Loss: 60.28451; Val Loss: 60.46962   Train ACC: 0.28554; Val ACC: 0.20000   Train NMI: 0.00000; Val NMI: 0.00000\n",
      "(Epoch 52 / 100) Train Loss: 60.25373; Val Loss: 60.37487   Train ACC: 0.28676; Val ACC: 0.20000   Train NMI: 0.00000; Val NMI: 0.00000\n",
      "(Epoch 53 / 100) Train Loss: 60.25209; Val Loss: 60.41613   Train ACC: 0.28462; Val ACC: 0.20000   Train NMI: 0.00000; Val NMI: 0.00000\n",
      "(Epoch 54 / 100) Train Loss: 60.22326; Val Loss: 60.33705   Train ACC: 0.28615; Val ACC: 0.20000   Train NMI: 0.00000; Val NMI: 0.00000\n",
      "(Epoch 55 / 100) Train Loss: 60.26192; Val Loss: 60.40088   Train ACC: 0.28493; Val ACC: 0.20000   Train NMI: 0.00000; Val NMI: 0.00000\n",
      "(Epoch 56 / 100) Train Loss: 60.22983; Val Loss: 60.45960   Train ACC: 0.28585; Val ACC: 0.20000   Train NMI: 0.00000; Val NMI: 0.00000\n",
      "(Epoch 57 / 100) Train Loss: 60.25800; Val Loss: 60.42582   Train ACC: 0.28615; Val ACC: 0.20000   Train NMI: 0.00000; Val NMI: 0.00000\n",
      "(Epoch 58 / 100) Train Loss: 60.19007; Val Loss: 60.31811   Train ACC: 0.28431; Val ACC: 0.20000   Train NMI: 0.00000; Val NMI: 0.00000\n",
      "(Epoch 59 / 100) Train Loss: 60.23472; Val Loss: 60.34212   Train ACC: 0.28523; Val ACC: 0.20000   Train NMI: 0.00000; Val NMI: 0.00000\n",
      "(Epoch 60 / 100) Train Loss: 60.21633; Val Loss: 60.40637   Train ACC: 0.28554; Val ACC: 0.20000   Train NMI: 0.00000; Val NMI: 0.00000\n",
      "(Epoch 61 / 100) Train Loss: 60.24627; Val Loss: 60.34219   Train ACC: 0.28646; Val ACC: 0.20000   Train NMI: 0.00000; Val NMI: 0.00000\n",
      "(Epoch 62 / 100) Train Loss: 60.22611; Val Loss: 60.35386   Train ACC: 0.28523; Val ACC: 0.20000   Train NMI: 0.00000; Val NMI: 0.00000\n",
      "(Epoch 63 / 100) Train Loss: 60.24724; Val Loss: 60.35008   Train ACC: 0.28554; Val ACC: 0.20000   Train NMI: 0.00000; Val NMI: 0.00000\n",
      "(Epoch 64 / 100) Train Loss: 60.25965; Val Loss: 60.36647   Train ACC: 0.28585; Val ACC: 0.20000   Train NMI: 0.00000; Val NMI: 0.00000\n",
      "(Epoch 65 / 100) Train Loss: 60.23131; Val Loss: 60.43242   Train ACC: 0.28615; Val ACC: 0.20000   Train NMI: 0.00000; Val NMI: 0.00000\n",
      "(Epoch 66 / 100) Train Loss: 60.22207; Val Loss: 60.40738   Train ACC: 0.28523; Val ACC: 0.20000   Train NMI: 0.00000; Val NMI: 0.00000\n",
      "(Epoch 67 / 100) Train Loss: 60.26094; Val Loss: 60.39082   Train ACC: 0.28585; Val ACC: 0.20000   Train NMI: 0.00000; Val NMI: 0.00000\n",
      "(Epoch 68 / 100) Train Loss: 60.21517; Val Loss: 60.30687   Train ACC: 0.28493; Val ACC: 0.20000   Train NMI: 0.00000; Val NMI: 0.00000\n",
      "(Epoch 69 / 100) Train Loss: 60.22163; Val Loss: 60.31192   Train ACC: 0.28493; Val ACC: 0.20000   Train NMI: 0.00000; Val NMI: 0.00000\n",
      "(Epoch 70 / 100) Train Loss: 60.20679; Val Loss: 60.25471   Train ACC: 0.28493; Val ACC: 0.20000   Train NMI: 0.00000; Val NMI: 0.00000\n",
      "(Epoch 71 / 100) Train Loss: 60.24662; Val Loss: 60.31338   Train ACC: 0.28523; Val ACC: 0.20000   Train NMI: 0.00000; Val NMI: 0.00000\n",
      "(Epoch 72 / 100) Train Loss: 60.23335; Val Loss: 60.45133   Train ACC: 0.28554; Val ACC: 0.20000   Train NMI: 0.00000; Val NMI: 0.00000\n",
      "(Epoch 73 / 100) Train Loss: 60.19682; Val Loss: 60.34428   Train ACC: 0.28554; Val ACC: 0.20000   Train NMI: 0.00000; Val NMI: 0.00000\n",
      "(Epoch 74 / 100) Train Loss: 60.23147; Val Loss: 60.28867   Train ACC: 0.28462; Val ACC: 0.20000   Train NMI: 0.00000; Val NMI: 0.00000\n",
      "(Epoch 75 / 100) Train Loss: 60.19211; Val Loss: 60.37302   Train ACC: 0.28585; Val ACC: 0.20000   Train NMI: 0.00000; Val NMI: 0.00000\n",
      "(Epoch 76 / 100) Train Loss: 60.19292; Val Loss: 60.41650   Train ACC: 0.28462; Val ACC: 0.20000   Train NMI: 0.00000; Val NMI: 0.00000\n",
      "(Epoch 77 / 100) Train Loss: 60.19199; Val Loss: 60.40368   Train ACC: 0.28462; Val ACC: 0.20000   Train NMI: 0.00000; Val NMI: 0.00000\n",
      "(Epoch 78 / 100) Train Loss: 60.21150; Val Loss: 60.36586   Train ACC: 0.28676; Val ACC: 0.20000   Train NMI: 0.00000; Val NMI: 0.00000\n",
      "(Epoch 79 / 100) Train Loss: 60.19402; Val Loss: 60.33228   Train ACC: 0.28523; Val ACC: 0.20000   Train NMI: 0.00000; Val NMI: 0.00000\n",
      "(Epoch 80 / 100) Train Loss: 60.20464; Val Loss: 60.42655   Train ACC: 0.28493; Val ACC: 0.20000   Train NMI: 0.00000; Val NMI: 0.00000\n",
      "(Epoch 81 / 100) Train Loss: 60.20125; Val Loss: 60.33914   Train ACC: 0.28554; Val ACC: 0.20000   Train NMI: 0.00000; Val NMI: 0.00000\n",
      "(Epoch 82 / 100) Train Loss: 60.17452; Val Loss: 60.30131   Train ACC: 0.28646; Val ACC: 0.20000   Train NMI: 0.00000; Val NMI: 0.00000\n",
      "(Epoch 83 / 100) Train Loss: 60.16604; Val Loss: 60.32258   Train ACC: 0.28493; Val ACC: 0.20000   Train NMI: 0.00000; Val NMI: 0.00000\n",
      "(Epoch 84 / 100) Train Loss: 60.17200; Val Loss: 60.36851   Train ACC: 0.28462; Val ACC: 0.20000   Train NMI: 0.00000; Val NMI: 0.00000\n",
      "(Epoch 85 / 100) Train Loss: 60.19493; Val Loss: 60.30421   Train ACC: 0.28462; Val ACC: 0.20000   Train NMI: 0.00000; Val NMI: 0.00000\n",
      "(Epoch 86 / 100) Train Loss: 60.18991; Val Loss: 60.30330   Train ACC: 0.28462; Val ACC: 0.20000   Train NMI: 0.00000; Val NMI: 0.00000\n",
      "(Epoch 87 / 100) Train Loss: 60.18268; Val Loss: 60.20521   Train ACC: 0.28646; Val ACC: 0.20000   Train NMI: 0.00000; Val NMI: 0.00000\n",
      "(Epoch 88 / 100) Train Loss: 60.18295; Val Loss: 60.33659   Train ACC: 0.28493; Val ACC: 0.20000   Train NMI: 0.00000; Val NMI: 0.00000\n",
      "(Epoch 89 / 100) Train Loss: 60.17673; Val Loss: 60.38267   Train ACC: 0.28615; Val ACC: 0.20000   Train NMI: 0.00000; Val NMI: 0.00000\n",
      "(Epoch 90 / 100) Train Loss: 60.19055; Val Loss: 60.33090   Train ACC: 0.28585; Val ACC: 0.20000   Train NMI: 0.00000; Val NMI: 0.00000\n",
      "(Epoch 91 / 100) Train Loss: 60.17052; Val Loss: 60.34989   Train ACC: 0.28615; Val ACC: 0.20000   Train NMI: 0.00000; Val NMI: 0.00000\n",
      "(Epoch 92 / 100) Train Loss: 60.16163; Val Loss: 60.37450   Train ACC: 0.28615; Val ACC: 0.20000   Train NMI: 0.00000; Val NMI: 0.00000\n",
      "(Epoch 93 / 100) Train Loss: 60.17543; Val Loss: 60.36072   Train ACC: 0.28493; Val ACC: 0.20000   Train NMI: 0.00000; Val NMI: 0.00000\n",
      "(Epoch 94 / 100) Train Loss: 60.19628; Val Loss: 60.39003   Train ACC: 0.28646; Val ACC: 0.20000   Train NMI: 0.00000; Val NMI: 0.00000\n",
      "(Epoch 95 / 100) Train Loss: 60.20308; Val Loss: 60.31829   Train ACC: 0.28646; Val ACC: 0.20000   Train NMI: 0.00000; Val NMI: 0.00000\n",
      "(Epoch 96 / 100) Train Loss: 60.19519; Val Loss: 60.35811   Train ACC: 0.28615; Val ACC: 0.20000   Train NMI: 0.00000; Val NMI: 0.00000\n",
      "(Epoch 97 / 100) Train Loss: 60.21565; Val Loss: 60.29315   Train ACC: 0.28615; Val ACC: 0.20000   Train NMI: 0.00000; Val NMI: 0.00000\n",
      "(Epoch 98 / 100) Train Loss: 60.19444; Val Loss: 60.32733   Train ACC: 0.28523; Val ACC: 0.20000   Train NMI: 0.00000; Val NMI: 0.00000\n",
      "(Epoch 99 / 100) Train Loss: 60.18245; Val Loss: 60.30110   Train ACC: 0.28523; Val ACC: 0.20000   Train NMI: 0.00000; Val NMI: 0.00000\n",
      "(Epoch 100 / 100) Train Loss: 60.18949; Val Loss: 60.29373   Train ACC: 0.28523; Val ACC: 0.20000   Train NMI: 0.00000; Val NMI: 0.00000\n",
      "WARNING: Entity <bound method Dense.call of <tensorflow.python.layers.core.Dense object at 0x0000029F3CEFCBE0>> could not be transformed and will be executed as-is. Please report this to the AutgoGraph team. When filing the bug, set the verbosity to 10 (on Linux, `export AUTOGRAPH_VERBOSITY=10`) and attach the full output. Cause: converting <bound method Dense.call of <tensorflow.python.layers.core.Dense object at 0x0000029F3CEFCBE0>>: AssertionError: Bad argument number for Name: 3, expecting 4\n",
      "WARNING: Entity <bound method Dense.call of <tensorflow.python.layers.core.Dense object at 0x0000029F3CF17B38>> could not be transformed and will be executed as-is. Please report this to the AutgoGraph team. When filing the bug, set the verbosity to 10 (on Linux, `export AUTOGRAPH_VERBOSITY=10`) and attach the full output. Cause: converting <bound method Dense.call of <tensorflow.python.layers.core.Dense object at 0x0000029F3CF17B38>>: AssertionError: Bad argument number for Name: 3, expecting 4\n",
      "WARNING: Entity <bound method Dense.call of <tensorflow.python.layers.core.Dense object at 0x0000029F3CF17B38>> could not be transformed and will be executed as-is. Please report this to the AutgoGraph team. When filing the bug, set the verbosity to 10 (on Linux, `export AUTOGRAPH_VERBOSITY=10`) and attach the full output. Cause: converting <bound method Dense.call of <tensorflow.python.layers.core.Dense object at 0x0000029F3CF17B38>>: AssertionError: Bad argument number for Name: 3, expecting 4\n",
      "WARNING: Entity <bound method Dense.call of <tensorflow.python.layers.core.Dense object at 0x0000029F3CFA2208>> could not be transformed and will be executed as-is. Please report this to the AutgoGraph team. When filing the bug, set the verbosity to 10 (on Linux, `export AUTOGRAPH_VERBOSITY=10`) and attach the full output. Cause: converting <bound method Dense.call of <tensorflow.python.layers.core.Dense object at 0x0000029F3CFA2208>>: AssertionError: Bad argument number for Name: 3, expecting 4\n",
      "WARNING: Entity <bound method Dense.call of <tensorflow.python.layers.core.Dense object at 0x0000029F3CFA2208>> could not be transformed and will be executed as-is. Please report this to the AutgoGraph team. When filing the bug, set the verbosity to 10 (on Linux, `export AUTOGRAPH_VERBOSITY=10`) and attach the full output. Cause: converting <bound method Dense.call of <tensorflow.python.layers.core.Dense object at 0x0000029F3CFA2208>>: AssertionError: Bad argument number for Name: 3, expecting 4\n",
      "WARNING: Entity <bound method Dense.call of <tensorflow.python.layers.core.Dense object at 0x0000029F3CFA2208>> could not be transformed and will be executed as-is. Please report this to the AutgoGraph team. When filing the bug, set the verbosity to 10 (on Linux, `export AUTOGRAPH_VERBOSITY=10`) and attach the full output. Cause: converting <bound method Dense.call of <tensorflow.python.layers.core.Dense object at 0x0000029F3CFA2208>>: AssertionError: Bad argument number for Name: 3, expecting 4\n",
      "WARNING: Entity <bound method Dense.call of <tensorflow.python.layers.core.Dense object at 0x0000029F3CFA2208>> could not be transformed and will be executed as-is. Please report this to the AutgoGraph team. When filing the bug, set the verbosity to 10 (on Linux, `export AUTOGRAPH_VERBOSITY=10`) and attach the full output. Cause: converting <bound method Dense.call of <tensorflow.python.layers.core.Dense object at 0x0000029F3CFA2208>>: AssertionError: Bad argument number for Name: 3, expecting 4\n",
      "Testing phase...\n",
      "Accuracy: 0.20000,  NMI: 0.00000\n"
     ]
    }
   ],
   "source": [
    "def del_all_flags(FLAGS):\n",
    "    flags_dict = FLAGS._flags()\n",
    "    keys_list = [keys for keys in flags_dict]\n",
    "    for keys in keys_list:\n",
    "        FLAGS.__delattr__(keys)\n",
    "\n",
    "\n",
    "del_all_flags(tf.flags.FLAGS)\n",
    "\n",
    "flags = tf.flags\n",
    "PARAMETERS = flags.FLAGS\n",
    "tf.app.flags.DEFINE_string('f', '', 'kernel')\n",
    "\n",
    "#########################################################\n",
    "## Input Parameters\n",
    "#########################################################\n",
    "\n",
    "## Dataset\n",
    "flags.DEFINE_string('dataset', 'mnist', 'Specify the desired dataset (mnist)')\n",
    "flags.DEFINE_integer('seed', -1, 'Random Seed')\n",
    "\n",
    "## GPU\n",
    "flags.DEFINE_integer('gpu', 1, 'Using Cuda, 1 to enable')\n",
    "flags.DEFINE_integer('gpuID', 1, 'Set GPU Id to use')\n",
    "\n",
    "## Training\n",
    "flags.DEFINE_integer('batch_size', 64, 'Batch size of training data')\n",
    "flags.DEFINE_integer('num_epochs', 100, 'Number of epochs in training phase')\n",
    "flags.DEFINE_float('learning_rate', 1e-3, 'Learning rate for training')\n",
    "flags.DEFINE_float('decay_epoch', -1,\n",
    "                   'Reduces the learning rate every decay_epoch')\n",
    "flags.DEFINE_float('lr_decay', 0.5, 'Learning rate decay for training')\n",
    "\n",
    "## Architecture\n",
    "flags.DEFINE_integer('num_classes', 1, 'Number of clusters')\n",
    "flags.DEFINE_integer('gaussian_size', 64,\n",
    "                     'Size of the gaussian learnt by the network')\n",
    "\n",
    "## Partition parameters\n",
    "flags.DEFINE_float(\n",
    "    'train_proportion', 1.0,\n",
    "    'Proportion of examples to consider for training only  (0.0-1.0)')\n",
    "flags.DEFINE_integer('batch_size_val', 200, 'Batch size of validation data')\n",
    "flags.DEFINE_integer('batch_size_test', 200, 'Batch size of test data')\n",
    "\n",
    "## Gumbel parameters\n",
    "flags.DEFINE_float(\n",
    "    'temperature', 1.0,\n",
    "    'Initial temperature used in gumbel-softmax (recommended 0.5-1.0)')\n",
    "flags.DEFINE_integer('decay_temperature', 1,\n",
    "                     'Set 1 to decay gumbel temperature at every epoch')\n",
    "flags.DEFINE_integer('hard_gumbel', 0, 'Hard version of gumbel-softmax')\n",
    "flags.DEFINE_float('min_temperature', 0.5,\n",
    "                   'Minimum temperature of gumbel-softmax after annealing')\n",
    "flags.DEFINE_float('decay_temp_rate', 0.00693,\n",
    "                   'Temperature decay rate at every epoch')\n",
    "\n",
    "## Loss function parameters\n",
    "flags.DEFINE_string('loss_type', 'bce',\n",
    "                    'Desired loss function to train (mse, bce)')\n",
    "flags.DEFINE_float('w_gaussian', 1.0, 'Weight of Gaussian regularization')\n",
    "flags.DEFINE_float('w_categorical', 1.0,\n",
    "                   'Weight of Categorical regularization')\n",
    "flags.DEFINE_float('w_reconstruction', 1.0, 'Weight of Reconstruction loss')\n",
    "\n",
    "## Others\n",
    "flags.DEFINE_integer('verbose', 0, \"Print extra information at every epoch.\")\n",
    "flags.DEFINE_integer('random_search_it', 20, 'Iterations of random search')\n",
    "\n",
    "if PARAMETERS.gpu == 1:\n",
    "    os.environ[\"CUDA_VISIBLE_DEVICES\"] = str(PARAMETERS.gpuID)\n",
    "\n",
    "if PARAMETERS.seed < 0:\n",
    "    np.random.seed(None)\n",
    "else:\n",
    "    np.random.seed(PARAMETERS.seed)\n",
    "\n",
    "#########################################################\n",
    "## Read Data\n",
    "#########################################################\n",
    "if PARAMETERS.dataset == \"mnist\":\n",
    "    print(\"Loading mnist dataset...\")\n",
    "    # load mnist data\n",
    "    # (x_train, y_train), (x_test, y_test) = mnist.load_data()\n",
    "    # x_train=np.load(\"x_scale4.npy\")\n",
    "    # y_train=np.load(\"y_label4.npy\")\n",
    "    # x_test =  np.load(\"test4.npy\")\n",
    "    # y_test =  np.load(\"y_test4.npy\")\n",
    "\n",
    "    x_train=np.load(\"x_scale5.npy\")\n",
    "    y_train=np.load(\"y_label5.npy\")\n",
    "    x_test =  np.load(\"x_test5.npy\")\n",
    "    y_test =  np.load(\"y_test5.npy\")\n",
    "\n",
    "    # x_train = x_train / 255.0\n",
    "    # x_test = x_test / 255.0\n",
    "else:\n",
    "    raise \"invalid dataset, valid datasets are: mnist\"\n",
    "\n",
    "## Set datatypes\n",
    "x_train = x_train.astype(np.float32)\n",
    "x_test = x_test.astype(np.float32)\n",
    "y_train = y_train.astype(np.int64)\n",
    "y_test = y_test.astype(np.int64)\n",
    "\n",
    "## Flatten data\n",
    "x_train = flatten_array(x_train)\n",
    "x_test = flatten_array(x_test)\n",
    "\n",
    "#########################################################\n",
    "## Data Partition\n",
    "#########################################################\n",
    "test_data, test_labels = x_test, y_test\n",
    "\n",
    "if PARAMETERS.train_proportion == 1.0:\n",
    "    train_data, train_labels, val_data, val_labels = x_train, y_train, x_test, y_test\n",
    "else:\n",
    "    train_data, train_labels, val_data, val_labels = partition_train_val(\n",
    "        x_train, y_train, PARAMETERS.train_proportion, PARAMETERS.num_classes)\n",
    "\n",
    "if PARAMETERS.verbose == 1:\n",
    "    print(\"Train size: %dx%d\" % (train_data.shape[0], train_data.shape[1]))\n",
    "    if PARAMETERS.train_proportion < 1.0:\n",
    "        print(\"Validation size: %dx%d\" %\n",
    "              (val_data.shape[0], val_data.shape[1]))\n",
    "    print(\"Test size: %dx%d\" % (test_data.shape[0], test_data.shape[1]))\n",
    "\n",
    "#########################################################\n",
    "## Train and Test Model\n",
    "#########################################################\n",
    "tf.reset_default_graph()\n",
    "if PARAMETERS.seed > -1:\n",
    "    tf.set_random_seed(PARAMETERS.seed)\n",
    "\n",
    "## Model Initialization\n",
    "gmvae = GMVAE(PARAMETERS)\n",
    "\n",
    "## Training Phase\n",
    "history_loss = gmvae.train(train_data, train_labels, val_data, val_labels)\n",
    "\n",
    "## Testing Phase\n",
    "accuracy, nmi = gmvae.test(test_data, test_labels, PARAMETERS.batch_size_test)\n",
    "\n",
    "print(\"Testing phase...\")\n",
    "print(\"Accuracy: %.5lf,  NMI: %.5lf\" % (accuracy, nmi))"
   ]
  },
  {
   "cell_type": "code",
   "execution_count": 3,
   "metadata": {},
   "outputs": [],
   "source": [
    "def revScale(tra):\n",
    "    lat_min= 48.90202222222222\n",
    "    lat_max=49.0623\n",
    "    lon_max=-123.02870277777778\n",
    "    lon_min=-123.41741944444445\n",
    "    lat=tra[:,0]*(lat_max-lat_min)+lat_min\n",
    "    lon=tra[:,1]*(lon_max-lon_min)+lon_min\n",
    "    new_tra=np.stack((lat,lon),axis=1)\n",
    "    return new_tra"
   ]
  },
  {
   "cell_type": "code",
   "execution_count": 4,
   "metadata": {},
   "outputs": [],
   "source": [
    "valdata=np.load(\"9msc.npy\")\n",
    "valdata = valdata.astype(np.float32)\n",
    "valdata = flatten_array(valdata)"
   ]
  },
  {
   "cell_type": "code",
   "execution_count": 12,
   "metadata": {},
   "outputs": [],
   "source": [
    "orst=np.load(\"9m353.npy\")"
   ]
  },
  {
   "cell_type": "code",
   "execution_count": 13,
   "metadata": {},
   "outputs": [],
   "source": [
    "# test_batch_data = test_data\n",
    "# reconstructed = gmvae.reconstruct_data(test_batch_data)"
   ]
  },
  {
   "cell_type": "code",
   "execution_count": 11,
   "metadata": {
    "collapsed": true,
    "jupyter": {
     "outputs_hidden": true
    }
   },
   "outputs": [
    {
     "name": "stdout",
     "output_type": "stream",
     "text": [
      "WARNING: Entity <bound method Dense.call of <tensorflow.python.layers.core.Dense object at 0x0000022323AFC5C0>> could not be transformed and will be executed as-is. Please report this to the AutgoGraph team. When filing the bug, set the verbosity to 10 (on Linux, `export AUTOGRAPH_VERBOSITY=10`) and attach the full output. Cause: converting <bound method Dense.call of <tensorflow.python.layers.core.Dense object at 0x0000022323AFC5C0>>: AssertionError: Bad argument number for Name: 3, expecting 4\n",
      "WARNING: Entity <bound method Dense.call of <tensorflow.python.layers.core.Dense object at 0x0000022323AFC400>> could not be transformed and will be executed as-is. Please report this to the AutgoGraph team. When filing the bug, set the verbosity to 10 (on Linux, `export AUTOGRAPH_VERBOSITY=10`) and attach the full output. Cause: converting <bound method Dense.call of <tensorflow.python.layers.core.Dense object at 0x0000022323AFC400>>: AssertionError: Bad argument number for Name: 3, expecting 4\n",
      "WARNING: Entity <bound method Dense.call of <tensorflow.python.layers.core.Dense object at 0x0000022323B069E8>> could not be transformed and will be executed as-is. Please report this to the AutgoGraph team. When filing the bug, set the verbosity to 10 (on Linux, `export AUTOGRAPH_VERBOSITY=10`) and attach the full output. Cause: converting <bound method Dense.call of <tensorflow.python.layers.core.Dense object at 0x0000022323B069E8>>: AssertionError: Bad argument number for Name: 3, expecting 4\n",
      "WARNING: Entity <bound method Dense.call of <tensorflow.python.layers.core.Dense object at 0x0000022325C48CF8>> could not be transformed and will be executed as-is. Please report this to the AutgoGraph team. When filing the bug, set the verbosity to 10 (on Linux, `export AUTOGRAPH_VERBOSITY=10`) and attach the full output. Cause: converting <bound method Dense.call of <tensorflow.python.layers.core.Dense object at 0x0000022325C48CF8>>: AssertionError: Bad argument number for Name: 3, expecting 4\n",
      "WARNING: Entity <bound method Dense.call of <tensorflow.python.layers.core.Dense object at 0x0000022317CE0EF0>> could not be transformed and will be executed as-is. Please report this to the AutgoGraph team. When filing the bug, set the verbosity to 10 (on Linux, `export AUTOGRAPH_VERBOSITY=10`) and attach the full output. Cause: converting <bound method Dense.call of <tensorflow.python.layers.core.Dense object at 0x0000022317CE0EF0>>: AssertionError: Bad argument number for Name: 3, expecting 4\n",
      "WARNING: Entity <bound method Dense.call of <tensorflow.python.layers.core.Dense object at 0x0000022317CE0EF0>> could not be transformed and will be executed as-is. Please report this to the AutgoGraph team. When filing the bug, set the verbosity to 10 (on Linux, `export AUTOGRAPH_VERBOSITY=10`) and attach the full output. Cause: converting <bound method Dense.call of <tensorflow.python.layers.core.Dense object at 0x0000022317CE0EF0>>: AssertionError: Bad argument number for Name: 3, expecting 4\n",
      "WARNING: Entity <bound method Dense.call of <tensorflow.python.layers.core.Dense object at 0x0000022317CE0EF0>> could not be transformed and will be executed as-is. Please report this to the AutgoGraph team. When filing the bug, set the verbosity to 10 (on Linux, `export AUTOGRAPH_VERBOSITY=10`) and attach the full output. Cause: converting <bound method Dense.call of <tensorflow.python.layers.core.Dense object at 0x0000022317CE0EF0>>: AssertionError: Bad argument number for Name: 3, expecting 4\n",
      "WARNING: Entity <bound method Dense.call of <tensorflow.python.layers.core.Dense object at 0x0000022323AFC9E8>> could not be transformed and will be executed as-is. Please report this to the AutgoGraph team. When filing the bug, set the verbosity to 10 (on Linux, `export AUTOGRAPH_VERBOSITY=10`) and attach the full output. Cause: converting <bound method Dense.call of <tensorflow.python.layers.core.Dense object at 0x0000022323AFC9E8>>: AssertionError: Bad argument number for Name: 3, expecting 4\n",
      "WARNING: Entity <bound method Dense.call of <tensorflow.python.layers.core.Dense object at 0x0000022322E82860>> could not be transformed and will be executed as-is. Please report this to the AutgoGraph team. When filing the bug, set the verbosity to 10 (on Linux, `export AUTOGRAPH_VERBOSITY=10`) and attach the full output. Cause: converting <bound method Dense.call of <tensorflow.python.layers.core.Dense object at 0x0000022322E82860>>: AssertionError: Bad argument number for Name: 3, expecting 4\n",
      "WARNING: Entity <bound method Dense.call of <tensorflow.python.layers.core.Dense object at 0x0000022325B2C8D0>> could not be transformed and will be executed as-is. Please report this to the AutgoGraph team. When filing the bug, set the verbosity to 10 (on Linux, `export AUTOGRAPH_VERBOSITY=10`) and attach the full output. Cause: converting <bound method Dense.call of <tensorflow.python.layers.core.Dense object at 0x0000022325B2C8D0>>: AssertionError: Bad argument number for Name: 3, expecting 4\n",
      "WARNING: Entity <bound method Dense.call of <tensorflow.python.layers.core.Dense object at 0x0000022325B2C8D0>> could not be transformed and will be executed as-is. Please report this to the AutgoGraph team. When filing the bug, set the verbosity to 10 (on Linux, `export AUTOGRAPH_VERBOSITY=10`) and attach the full output. Cause: converting <bound method Dense.call of <tensorflow.python.layers.core.Dense object at 0x0000022325B2C8D0>>: AssertionError: Bad argument number for Name: 3, expecting 4\n",
      "WARNING: Entity <bound method Dense.call of <tensorflow.python.layers.core.Dense object at 0x0000022325B2C8D0>> could not be transformed and will be executed as-is. Please report this to the AutgoGraph team. When filing the bug, set the verbosity to 10 (on Linux, `export AUTOGRAPH_VERBOSITY=10`) and attach the full output. Cause: converting <bound method Dense.call of <tensorflow.python.layers.core.Dense object at 0x0000022325B2C8D0>>: AssertionError: Bad argument number for Name: 3, expecting 4\n"
     ]
    }
   ],
   "source": [
    "reconstructed = gmvae.reconstruct_data(valdata)"
   ]
  },
  {
   "cell_type": "code",
   "execution_count": 22,
   "metadata": {},
   "outputs": [],
   "source": [
    "ind=209"
   ]
  },
  {
   "cell_type": "code",
   "execution_count": 23,
   "metadata": {},
   "outputs": [],
   "source": [
    "tra1=reconstructed[ind].reshape(50, 2)"
   ]
  },
  {
   "cell_type": "code",
   "execution_count": 24,
   "metadata": {},
   "outputs": [],
   "source": [
    "new_tra1=revScale(tra1)"
   ]
  },
  {
   "cell_type": "code",
   "execution_count": 25,
   "metadata": {},
   "outputs": [],
   "source": [
    "tra1_or=valdata[ind].reshape(50,2)"
   ]
  },
  {
   "cell_type": "code",
   "execution_count": 26,
   "metadata": {},
   "outputs": [],
   "source": [
    "tra1_or=revScale(tra1_or)"
   ]
  },
  {
   "cell_type": "code",
   "execution_count": 27,
   "metadata": {},
   "outputs": [],
   "source": [
    "pd.DataFrame(tra1_or,columns=['lat','lon']).to_csv(f\"./generatetest/or_{ind}.csv\")"
   ]
  },
  {
   "cell_type": "code",
   "execution_count": 28,
   "metadata": {},
   "outputs": [],
   "source": [
    "pd.DataFrame(new_tra1,columns=['lat','lon']).to_csv(f\"./generatetest/new_{ind}.csv\")"
   ]
  },
  {
   "cell_type": "code",
   "execution_count": 13,
   "metadata": {},
   "outputs": [
    {
     "data": {
      "text/plain": [
       "0.014685261441497273"
      ]
     },
     "execution_count": 13,
     "metadata": {},
     "output_type": "execute_result"
    }
   ],
   "source": [
    "mdf(tra1_or,new_tra1)"
   ]
  },
  {
   "cell_type": "code",
   "execution_count": 45,
   "metadata": {},
   "outputs": [],
   "source": [
    "wr=pd.read_csv(\"wr.csv\",index_col=0)"
   ]
  },
  {
   "cell_type": "code",
   "execution_count": 210,
   "metadata": {},
   "outputs": [
    {
     "data": {
      "text/plain": [
       "0.009703701828518773"
      ]
     },
     "execution_count": 210,
     "metadata": {},
     "output_type": "execute_result"
    }
   ],
   "source": [
    "mdf(tra1_or,new_tra1)"
   ]
  },
  {
   "cell_type": "code",
   "execution_count": 211,
   "metadata": {},
   "outputs": [
    {
     "data": {
      "text/plain": [
       "0.4523026149061309"
      ]
     },
     "execution_count": 211,
     "metadata": {},
     "output_type": "execute_result"
    }
   ],
   "source": [
    "dtw(tra1_or,new_tra1)[0]"
   ]
  },
  {
   "cell_type": "code",
   "execution_count": 54,
   "metadata": {},
   "outputs": [
    {
     "data": {
      "text/plain": [
       "0.46914546797847834"
      ]
     },
     "execution_count": 54,
     "metadata": {},
     "output_type": "execute_result"
    }
   ],
   "source": [
    "dtw(tra1_or,np.array(wr))[0]"
   ]
  },
  {
   "cell_type": "code",
   "execution_count": 5,
   "metadata": {},
   "outputs": [
    {
     "data": {
      "text/plain": [
       "(500, 100)"
      ]
     },
     "execution_count": 5,
     "metadata": {},
     "output_type": "execute_result"
    }
   ],
   "source": [
    "test_data.shape"
   ]
  },
  {
   "cell_type": "code",
   "execution_count": 1,
   "metadata": {},
   "outputs": [
    {
     "ename": "NameError",
     "evalue": "name 'np' is not defined",
     "output_type": "error",
     "traceback": [
      "\u001b[1;31m---------------------------------------------------------------------------\u001b[0m",
      "\u001b[1;31mNameError\u001b[0m                                 Traceback (most recent call last)",
      "\u001b[1;32m<ipython-input-1-a22069ea96a1>\u001b[0m in \u001b[0;36m<module>\u001b[1;34m\u001b[0m\n\u001b[1;32m----> 1\u001b[1;33m \u001b[0mtest5\u001b[0m\u001b[1;33m=\u001b[0m\u001b[0mnp\u001b[0m\u001b[1;33m.\u001b[0m\u001b[0mload\u001b[0m\u001b[1;33m(\u001b[0m\u001b[1;34m\"x_test5.npy\"\u001b[0m\u001b[1;33m)\u001b[0m\u001b[1;33m\u001b[0m\u001b[1;33m\u001b[0m\u001b[0m\n\u001b[0m",
      "\u001b[1;31mNameError\u001b[0m: name 'np' is not defined"
     ]
    }
   ],
   "source": []
  },
  {
   "cell_type": "code",
   "execution_count": 7,
   "metadata": {},
   "outputs": [],
   "source": [
    "st=np.load(\"9m353.npy\")"
   ]
  },
  {
   "cell_type": "code",
   "execution_count": null,
   "metadata": {},
   "outputs": [],
   "source": [
    "valdata"
   ]
  }
 ],
 "metadata": {
  "kernelspec": {
   "display_name": "Python 3.6.10 64-bit ('BY': conda)",
   "language": "python",
   "name": "python361064bitbyconda18ff7c5a2a8f40299e86077d23ec30cd"
  },
  "language_info": {
   "codemirror_mode": {
    "name": "ipython",
    "version": 3
   },
   "file_extension": ".py",
   "mimetype": "text/x-python",
   "name": "python",
   "nbconvert_exporter": "python",
   "pygments_lexer": "ipython3",
   "version": "3.6.10"
  }
 },
 "nbformat": 4,
 "nbformat_minor": 4
}
