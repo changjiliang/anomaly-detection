{
 "cells": [
  {
   "cell_type": "code",
   "execution_count": 4,
   "metadata": {},
   "outputs": [],
   "source": [
    "import matplotlib\n",
    "# matplotlib.use('agg')\n",
    "import pandas as pd\n",
    "from dipy.segment.metric import mdf\n",
    "from fastdtw import dtw\n",
    "matplotlib.use('TkAgg')\n",
    "import matplotlib.pyplot as plt\n",
    "import tensorflow as tf\n",
    "import numpy as np\n",
    "from keras.datasets import mnist\n",
    "from utils.partition import *\n",
    "from model.GMVAE import *\n",
    "import os\n",
    "from scipy.io import loadmat\n",
    "os.environ[\"TF_CPP_MIN_LOG_LEVEL\"]='2'\n",
    "tf.compat.v1.logging.set_verbosity(tf.compat.v1.logging.ERROR)"
   ]
  },
  {
   "cell_type": "code",
   "execution_count": 3,
   "metadata": {
    "collapsed": true,
    "jupyter": {
     "outputs_hidden": true,
     "source_hidden": true
    }
   },
   "outputs": [
    {
     "name": "stdout",
     "output_type": "stream",
     "text": [
      "Loading mnist dataset...\n"
     ]
    },
    {
     "ename": "FileNotFoundError",
     "evalue": "[Errno 2] No such file or directory: 'test4.npy'",
     "output_type": "error",
     "traceback": [
      "\u001b[1;31m---------------------------------------------------------------------------\u001b[0m",
      "\u001b[1;31mFileNotFoundError\u001b[0m                         Traceback (most recent call last)",
      "\u001b[1;32m<ipython-input-3-a67beeb93bcd>\u001b[0m in \u001b[0;36m<module>\u001b[1;34m\u001b[0m\n\u001b[0;32m     84\u001b[0m     \u001b[0mx_train\u001b[0m\u001b[1;33m=\u001b[0m\u001b[0mnp\u001b[0m\u001b[1;33m.\u001b[0m\u001b[0mload\u001b[0m\u001b[1;33m(\u001b[0m\u001b[1;34m\"x_scale4.npy\"\u001b[0m\u001b[1;33m)\u001b[0m\u001b[1;33m\u001b[0m\u001b[1;33m\u001b[0m\u001b[0m\n\u001b[0;32m     85\u001b[0m     \u001b[0my_train\u001b[0m\u001b[1;33m=\u001b[0m\u001b[0mnp\u001b[0m\u001b[1;33m.\u001b[0m\u001b[0mload\u001b[0m\u001b[1;33m(\u001b[0m\u001b[1;34m\"y_label4.npy\"\u001b[0m\u001b[1;33m)\u001b[0m\u001b[1;33m\u001b[0m\u001b[1;33m\u001b[0m\u001b[0m\n\u001b[1;32m---> 86\u001b[1;33m     \u001b[0mx_test\u001b[0m \u001b[1;33m=\u001b[0m  \u001b[0mnp\u001b[0m\u001b[1;33m.\u001b[0m\u001b[0mload\u001b[0m\u001b[1;33m(\u001b[0m\u001b[1;34m\"test4.npy\"\u001b[0m\u001b[1;33m)\u001b[0m\u001b[1;33m\u001b[0m\u001b[1;33m\u001b[0m\u001b[0m\n\u001b[0m\u001b[0;32m     87\u001b[0m     \u001b[0my_test\u001b[0m \u001b[1;33m=\u001b[0m  \u001b[0mnp\u001b[0m\u001b[1;33m.\u001b[0m\u001b[0mload\u001b[0m\u001b[1;33m(\u001b[0m\u001b[1;34m\"y_test4.npy\"\u001b[0m\u001b[1;33m)\u001b[0m\u001b[1;33m\u001b[0m\u001b[1;33m\u001b[0m\u001b[0m\n\u001b[0;32m     88\u001b[0m \u001b[1;33m\u001b[0m\u001b[0m\n",
      "\u001b[1;32mC:\\software\\Anaconda3\\envs\\BY\\lib\\site-packages\\numpy\\lib\\npyio.py\u001b[0m in \u001b[0;36mload\u001b[1;34m(file, mmap_mode, allow_pickle, fix_imports, encoding)\u001b[0m\n\u001b[0;32m    382\u001b[0m     \u001b[0mown_fid\u001b[0m \u001b[1;33m=\u001b[0m \u001b[1;32mFalse\u001b[0m\u001b[1;33m\u001b[0m\u001b[1;33m\u001b[0m\u001b[0m\n\u001b[0;32m    383\u001b[0m     \u001b[1;32mif\u001b[0m \u001b[0misinstance\u001b[0m\u001b[1;33m(\u001b[0m\u001b[0mfile\u001b[0m\u001b[1;33m,\u001b[0m \u001b[0mbasestring\u001b[0m\u001b[1;33m)\u001b[0m\u001b[1;33m:\u001b[0m\u001b[1;33m\u001b[0m\u001b[1;33m\u001b[0m\u001b[0m\n\u001b[1;32m--> 384\u001b[1;33m         \u001b[0mfid\u001b[0m \u001b[1;33m=\u001b[0m \u001b[0mopen\u001b[0m\u001b[1;33m(\u001b[0m\u001b[0mfile\u001b[0m\u001b[1;33m,\u001b[0m \u001b[1;34m\"rb\"\u001b[0m\u001b[1;33m)\u001b[0m\u001b[1;33m\u001b[0m\u001b[1;33m\u001b[0m\u001b[0m\n\u001b[0m\u001b[0;32m    385\u001b[0m         \u001b[0mown_fid\u001b[0m \u001b[1;33m=\u001b[0m \u001b[1;32mTrue\u001b[0m\u001b[1;33m\u001b[0m\u001b[1;33m\u001b[0m\u001b[0m\n\u001b[0;32m    386\u001b[0m     \u001b[1;32melif\u001b[0m \u001b[0mis_pathlib_path\u001b[0m\u001b[1;33m(\u001b[0m\u001b[0mfile\u001b[0m\u001b[1;33m)\u001b[0m\u001b[1;33m:\u001b[0m\u001b[1;33m\u001b[0m\u001b[1;33m\u001b[0m\u001b[0m\n",
      "\u001b[1;31mFileNotFoundError\u001b[0m: [Errno 2] No such file or directory: 'test4.npy'"
     ]
    }
   ],
   "source": [
    "def del_all_flags(FLAGS):\n",
    "    flags_dict = FLAGS._flags()\n",
    "    keys_list = [keys for keys in flags_dict]\n",
    "    for keys in keys_list:\n",
    "        FLAGS.__delattr__(keys)\n",
    "\n",
    "\n",
    "del_all_flags(tf.flags.FLAGS)\n",
    "\n",
    "flags = tf.flags\n",
    "PARAMETERS = flags.FLAGS\n",
    "tf.app.flags.DEFINE_string('f', '', 'kernel')\n",
    "#########################################################\n",
    "## Input Parameters\n",
    "#########################################################\n",
    "\n",
    "## Dataset\n",
    "flags.DEFINE_string('dataset', 'mnist', 'Specify the desired dataset (mnist)')\n",
    "flags.DEFINE_integer('seed', -1, 'Random Seed')\n",
    "\n",
    "## GPU\n",
    "flags.DEFINE_integer('gpu', 1, 'Using Cuda, 1 to enable')\n",
    "flags.DEFINE_integer('gpuID', 0, 'Set GPU Id to use')\n",
    "\n",
    "## Training\n",
    "flags.DEFINE_integer('batch_size', 64, 'Batch size of training data')\n",
    "flags.DEFINE_integer('num_epochs', 150, 'Number of epochs in training phase')\n",
    "flags.DEFINE_float('learning_rate', 1e-3, 'Learning rate for training')\n",
    "flags.DEFINE_float('decay_epoch', -1,\n",
    "                   'Reduces the learning rate every decay_epoch')\n",
    "flags.DEFINE_float('lr_decay', 0.5, 'Learning rate decay for training')\n",
    "\n",
    "## Architecture\n",
    "flags.DEFINE_integer('num_classes', 4, 'Number of clusters')\n",
    "flags.DEFINE_integer('gaussian_size', 64,\n",
    "                     'Size of the gaussian learnt by the network')\n",
    "\n",
    "## Partition parameters\n",
    "flags.DEFINE_float(\n",
    "    'train_proportion', 1.0,\n",
    "    'Proportion of examples to consider for training only  (0.0-1.0)')\n",
    "flags.DEFINE_integer('batch_size_val', 50, 'Batch size of validation data')\n",
    "flags.DEFINE_integer('batch_size_test', 50, 'Batch size of test data')\n",
    "\n",
    "## Gumbel parameters\n",
    "flags.DEFINE_float(\n",
    "    'temperature', 1.0,\n",
    "    'Initial temperature used in gumbel-softmax (recommended 0.5-1.0)')\n",
    "flags.DEFINE_integer('decay_temperature', 1,\n",
    "                     'Set 1 to decay gumbel temperature at every epoch')\n",
    "flags.DEFINE_integer('hard_gumbel', 0, 'Hard version of gumbel-softmax')\n",
    "flags.DEFINE_float('min_temperature', 0.5,\n",
    "                   'Minimum temperature of gumbel-softmax after annealing')\n",
    "flags.DEFINE_float('decay_temp_rate', 0.00693,\n",
    "                   'Temperature decay rate at every epoch')\n",
    "\n",
    "## Loss function parameters\n",
    "flags.DEFINE_string('loss_type', 'bce',\n",
    "                    'Desired loss function to train (mse, bce)')\n",
    "flags.DEFINE_float('w_gaussian', 1.0, 'Weight of Gaussian regularization')\n",
    "flags.DEFINE_float('w_categorical', 1.0,\n",
    "                   'Weight of Categorical regularization')\n",
    "flags.DEFINE_float('w_reconstruction', 1.0, 'Weight of Reconstruction loss')\n",
    "\n",
    "## Others\n",
    "flags.DEFINE_integer('verbose', 0, \"Print extra information at every epoch.\")\n",
    "flags.DEFINE_integer('random_search_it', 20, 'Iterations of random search')\n",
    "\n",
    "if PARAMETERS.gpu == 1:\n",
    "    os.environ[\"CUDA_VISIBLE_DEVICES\"] = str(PARAMETERS.gpuID)\n",
    "\n",
    "if PARAMETERS.seed < 0:\n",
    "    np.random.seed(None)\n",
    "else:\n",
    "    np.random.seed(PARAMETERS.seed)\n",
    "\n",
    "#########################################################\n",
    "## Read Data\n",
    "#########################################################\n",
    "if PARAMETERS.dataset == \"mnist\":\n",
    "    print(\"Loading mnist dataset...\")\n",
    "    # load mnist data\n",
    "    # (x_train, y_train), (x_test, y_test) = mnist.load_data()\n",
    "    x_train=np.load(\"x_scale4.npy\")\n",
    "    y_train=np.load(\"y_label4.npy\")\n",
    "    x_test =  np.load(\"test4.npy\")\n",
    "    y_test =  np.load(\"y_test4.npy\")\n",
    "\n",
    "    # x_train = x_train / 255.0\n",
    "    # x_test = x_test / 255.0\n",
    "else:\n",
    "    raise \"invalid dataset, valid datasets are: mnist\"\n",
    "\n",
    "## Set datatypes\n",
    "x_train = x_train.astype(np.float32)\n",
    "x_test = x_test.astype(np.float32)\n",
    "y_train = y_train.astype(np.int64)\n",
    "y_test = y_test.astype(np.int64)\n",
    "\n",
    "## Flatten data\n",
    "x_train = flatten_array(x_train)\n",
    "x_test = flatten_array(x_test)\n",
    "\n",
    "#########################################################\n",
    "## Data Partition\n",
    "#########################################################\n",
    "test_data, test_labels = x_test, y_test\n",
    "\n",
    "if PARAMETERS.train_proportion == 1.0:\n",
    "    train_data, train_labels, val_data, val_labels = x_train, y_train, x_test, y_test\n",
    "else:\n",
    "    train_data, train_labels, val_data, val_labels = partition_train_val(\n",
    "        x_train, y_train, PARAMETERS.train_proportion, PARAMETERS.num_classes)\n",
    "\n",
    "if PARAMETERS.verbose == 1:\n",
    "    print(\"Train size: %dx%d\" % (train_data.shape[0], train_data.shape[1]))\n",
    "    if PARAMETERS.train_proportion < 1.0:\n",
    "        print(\"Validation size: %dx%d\" %\n",
    "              (val_data.shape[0], val_data.shape[1]))\n",
    "    print(\"Test size: %dx%d\" % (test_data.shape[0], test_data.shape[1]))\n",
    "\n",
    "#########################################################\n",
    "## Train and Test Model\n",
    "#########################################################\n",
    "tf.reset_default_graph()\n",
    "if PARAMETERS.seed > -1:\n",
    "    tf.set_random_seed(PARAMETERS.seed)\n",
    "\n",
    "## Model Initialization\n",
    "gmvae = GMVAE(PARAMETERS)\n",
    "\n",
    "## Training Phase\n",
    "history_loss = gmvae.train(train_data, train_labels, val_data, val_labels)\n",
    "\n",
    "## Testing Phase\n",
    "accuracy, nmi = gmvae.test(test_data, test_labels, PARAMETERS.batch_size_test)\n",
    "\n",
    "print(\"Testing phase...\")\n",
    "print(\"Accuracy: %.5lf,  NMI: %.5lf\" % (accuracy, nmi))\n"
   ]
  },
  {
   "cell_type": "code",
   "execution_count": 5,
   "metadata": {
    "collapsed": true,
    "jupyter": {
     "outputs_hidden": true
    }
   },
   "outputs": [
    {
     "name": "stdout",
     "output_type": "stream",
     "text": [
      "Loading mnist dataset...\n",
      "WARNING: Entity <bound method Dense.call of <tensorflow.python.layers.core.Dense object at 0x0000022323B0BA90>> could not be transformed and will be executed as-is. Please report this to the AutgoGraph team. When filing the bug, set the verbosity to 10 (on Linux, `export AUTOGRAPH_VERBOSITY=10`) and attach the full output. Cause: converting <bound method Dense.call of <tensorflow.python.layers.core.Dense object at 0x0000022323B0BA90>>: AssertionError: Bad argument number for Name: 3, expecting 4\n",
      "WARNING: Entity <bound method Dense.call of <tensorflow.python.layers.core.Dense object at 0x0000022323B0B2B0>> could not be transformed and will be executed as-is. Please report this to the AutgoGraph team. When filing the bug, set the verbosity to 10 (on Linux, `export AUTOGRAPH_VERBOSITY=10`) and attach the full output. Cause: converting <bound method Dense.call of <tensorflow.python.layers.core.Dense object at 0x0000022323B0B2B0>>: AssertionError: Bad argument number for Name: 3, expecting 4\n",
      "WARNING: Entity <bound method Dense.call of <tensorflow.python.layers.core.Dense object at 0x000002232302A710>> could not be transformed and will be executed as-is. Please report this to the AutgoGraph team. When filing the bug, set the verbosity to 10 (on Linux, `export AUTOGRAPH_VERBOSITY=10`) and attach the full output. Cause: converting <bound method Dense.call of <tensorflow.python.layers.core.Dense object at 0x000002232302A710>>: AssertionError: Bad argument number for Name: 3, expecting 4\n",
      "WARNING: Entity <bound method Dense.call of <tensorflow.python.layers.core.Dense object at 0x0000022323C2CE80>> could not be transformed and will be executed as-is. Please report this to the AutgoGraph team. When filing the bug, set the verbosity to 10 (on Linux, `export AUTOGRAPH_VERBOSITY=10`) and attach the full output. Cause: converting <bound method Dense.call of <tensorflow.python.layers.core.Dense object at 0x0000022323C2CE80>>: AssertionError: Bad argument number for Name: 3, expecting 4\n",
      "WARNING: Entity <bound method Dense.call of <tensorflow.python.layers.core.Dense object at 0x0000022323C2CE80>> could not be transformed and will be executed as-is. Please report this to the AutgoGraph team. When filing the bug, set the verbosity to 10 (on Linux, `export AUTOGRAPH_VERBOSITY=10`) and attach the full output. Cause: converting <bound method Dense.call of <tensorflow.python.layers.core.Dense object at 0x0000022323C2CE80>>: AssertionError: Bad argument number for Name: 3, expecting 4\n",
      "WARNING: Entity <bound method Dense.call of <tensorflow.python.layers.core.Dense object at 0x0000022323C2CE80>> could not be transformed and will be executed as-is. Please report this to the AutgoGraph team. When filing the bug, set the verbosity to 10 (on Linux, `export AUTOGRAPH_VERBOSITY=10`) and attach the full output. Cause: converting <bound method Dense.call of <tensorflow.python.layers.core.Dense object at 0x0000022323C2CE80>>: AssertionError: Bad argument number for Name: 3, expecting 4\n",
      "WARNING: Entity <bound method Dense.call of <tensorflow.python.layers.core.Dense object at 0x0000022323C2CE80>> could not be transformed and will be executed as-is. Please report this to the AutgoGraph team. When filing the bug, set the verbosity to 10 (on Linux, `export AUTOGRAPH_VERBOSITY=10`) and attach the full output. Cause: converting <bound method Dense.call of <tensorflow.python.layers.core.Dense object at 0x0000022323C2CE80>>: AssertionError: Bad argument number for Name: 3, expecting 4\n",
      "WARNING: Entity <bound method Dense.call of <tensorflow.python.layers.core.Dense object at 0x0000022323B0B320>> could not be transformed and will be executed as-is. Please report this to the AutgoGraph team. When filing the bug, set the verbosity to 10 (on Linux, `export AUTOGRAPH_VERBOSITY=10`) and attach the full output. Cause: converting <bound method Dense.call of <tensorflow.python.layers.core.Dense object at 0x0000022323B0B320>>: AssertionError: Bad argument number for Name: 3, expecting 4\n",
      "WARNING: Entity <bound method Dense.call of <tensorflow.python.layers.core.Dense object at 0x0000022323B0B320>> could not be transformed and will be executed as-is. Please report this to the AutgoGraph team. When filing the bug, set the verbosity to 10 (on Linux, `export AUTOGRAPH_VERBOSITY=10`) and attach the full output. Cause: converting <bound method Dense.call of <tensorflow.python.layers.core.Dense object at 0x0000022323B0B320>>: AssertionError: Bad argument number for Name: 3, expecting 4\n",
      "WARNING: Entity <bound method Dense.call of <tensorflow.python.layers.core.Dense object at 0x0000022323C2CE80>> could not be transformed and will be executed as-is. Please report this to the AutgoGraph team. When filing the bug, set the verbosity to 10 (on Linux, `export AUTOGRAPH_VERBOSITY=10`) and attach the full output. Cause: converting <bound method Dense.call of <tensorflow.python.layers.core.Dense object at 0x0000022323C2CE80>>: AssertionError: Bad argument number for Name: 3, expecting 4\n",
      "WARNING: Entity <bound method Dense.call of <tensorflow.python.layers.core.Dense object at 0x0000022323C2CE80>> could not be transformed and will be executed as-is. Please report this to the AutgoGraph team. When filing the bug, set the verbosity to 10 (on Linux, `export AUTOGRAPH_VERBOSITY=10`) and attach the full output. Cause: converting <bound method Dense.call of <tensorflow.python.layers.core.Dense object at 0x0000022323C2CE80>>: AssertionError: Bad argument number for Name: 3, expecting 4\n",
      "WARNING: Entity <bound method Dense.call of <tensorflow.python.layers.core.Dense object at 0x0000022323C2CE80>> could not be transformed and will be executed as-is. Please report this to the AutgoGraph team. When filing the bug, set the verbosity to 10 (on Linux, `export AUTOGRAPH_VERBOSITY=10`) and attach the full output. Cause: converting <bound method Dense.call of <tensorflow.python.layers.core.Dense object at 0x0000022323C2CE80>>: AssertionError: Bad argument number for Name: 3, expecting 4\n",
      "WARNING: Entity <bound method Dense.call of <tensorflow.python.layers.core.Dense object at 0x00000223242A7F28>> could not be transformed and will be executed as-is. Please report this to the AutgoGraph team. When filing the bug, set the verbosity to 10 (on Linux, `export AUTOGRAPH_VERBOSITY=10`) and attach the full output. Cause: converting <bound method Dense.call of <tensorflow.python.layers.core.Dense object at 0x00000223242A7F28>>: AssertionError: Bad argument number for Name: 3, expecting 4\n",
      "WARNING: Entity <bound method Dense.call of <tensorflow.python.layers.core.Dense object at 0x0000022325A32828>> could not be transformed and will be executed as-is. Please report this to the AutgoGraph team. When filing the bug, set the verbosity to 10 (on Linux, `export AUTOGRAPH_VERBOSITY=10`) and attach the full output. Cause: converting <bound method Dense.call of <tensorflow.python.layers.core.Dense object at 0x0000022325A32828>>: AssertionError: Bad argument number for Name: 3, expecting 4\n",
      "WARNING: Entity <bound method Dense.call of <tensorflow.python.layers.core.Dense object at 0x0000022325A863C8>> could not be transformed and will be executed as-is. Please report this to the AutgoGraph team. When filing the bug, set the verbosity to 10 (on Linux, `export AUTOGRAPH_VERBOSITY=10`) and attach the full output. Cause: converting <bound method Dense.call of <tensorflow.python.layers.core.Dense object at 0x0000022325A863C8>>: AssertionError: Bad argument number for Name: 3, expecting 4\n",
      "WARNING: Entity <bound method Dense.call of <tensorflow.python.layers.core.Dense object at 0x0000022325A32828>> could not be transformed and will be executed as-is. Please report this to the AutgoGraph team. When filing the bug, set the verbosity to 10 (on Linux, `export AUTOGRAPH_VERBOSITY=10`) and attach the full output. Cause: converting <bound method Dense.call of <tensorflow.python.layers.core.Dense object at 0x0000022325A32828>>: AssertionError: Bad argument number for Name: 3, expecting 4\n",
      "WARNING: Entity <bound method Dense.call of <tensorflow.python.layers.core.Dense object at 0x0000022325B51B00>> could not be transformed and will be executed as-is. Please report this to the AutgoGraph team. When filing the bug, set the verbosity to 10 (on Linux, `export AUTOGRAPH_VERBOSITY=10`) and attach the full output. Cause: converting <bound method Dense.call of <tensorflow.python.layers.core.Dense object at 0x0000022325B51B00>>: AssertionError: Bad argument number for Name: 3, expecting 4\n",
      "WARNING: Entity <bound method Dense.call of <tensorflow.python.layers.core.Dense object at 0x0000022325B51B00>> could not be transformed and will be executed as-is. Please report this to the AutgoGraph team. When filing the bug, set the verbosity to 10 (on Linux, `export AUTOGRAPH_VERBOSITY=10`) and attach the full output. Cause: converting <bound method Dense.call of <tensorflow.python.layers.core.Dense object at 0x0000022325B51B00>>: AssertionError: Bad argument number for Name: 3, expecting 4\n",
      "WARNING: Entity <bound method Dense.call of <tensorflow.python.layers.core.Dense object at 0x0000022325B51B00>> could not be transformed and will be executed as-is. Please report this to the AutgoGraph team. When filing the bug, set the verbosity to 10 (on Linux, `export AUTOGRAPH_VERBOSITY=10`) and attach the full output. Cause: converting <bound method Dense.call of <tensorflow.python.layers.core.Dense object at 0x0000022325B51B00>>: AssertionError: Bad argument number for Name: 3, expecting 4\n",
      "WARNING: Entity <bound method Dense.call of <tensorflow.python.layers.core.Dense object at 0x00000223242BADA0>> could not be transformed and will be executed as-is. Please report this to the AutgoGraph team. When filing the bug, set the verbosity to 10 (on Linux, `export AUTOGRAPH_VERBOSITY=10`) and attach the full output. Cause: converting <bound method Dense.call of <tensorflow.python.layers.core.Dense object at 0x00000223242BADA0>>: AssertionError: Bad argument number for Name: 3, expecting 4\n",
      "WARNING: Entity <bound method Dense.call of <tensorflow.python.layers.core.Dense object at 0x00000223242BADA0>> could not be transformed and will be executed as-is. Please report this to the AutgoGraph team. When filing the bug, set the verbosity to 10 (on Linux, `export AUTOGRAPH_VERBOSITY=10`) and attach the full output. Cause: converting <bound method Dense.call of <tensorflow.python.layers.core.Dense object at 0x00000223242BADA0>>: AssertionError: Bad argument number for Name: 3, expecting 4\n",
      "WARNING: Entity <bound method Dense.call of <tensorflow.python.layers.core.Dense object at 0x0000022325A32828>> could not be transformed and will be executed as-is. Please report this to the AutgoGraph team. When filing the bug, set the verbosity to 10 (on Linux, `export AUTOGRAPH_VERBOSITY=10`) and attach the full output. Cause: converting <bound method Dense.call of <tensorflow.python.layers.core.Dense object at 0x0000022325A32828>>: AssertionError: Bad argument number for Name: 3, expecting 4\n",
      "WARNING: Entity <bound method Dense.call of <tensorflow.python.layers.core.Dense object at 0x00000223259F8EB8>> could not be transformed and will be executed as-is. Please report this to the AutgoGraph team. When filing the bug, set the verbosity to 10 (on Linux, `export AUTOGRAPH_VERBOSITY=10`) and attach the full output. Cause: converting <bound method Dense.call of <tensorflow.python.layers.core.Dense object at 0x00000223259F8EB8>>: AssertionError: Bad argument number for Name: 3, expecting 4\n",
      "WARNING: Entity <bound method Dense.call of <tensorflow.python.layers.core.Dense object at 0x0000022325A32828>> could not be transformed and will be executed as-is. Please report this to the AutgoGraph team. When filing the bug, set the verbosity to 10 (on Linux, `export AUTOGRAPH_VERBOSITY=10`) and attach the full output. Cause: converting <bound method Dense.call of <tensorflow.python.layers.core.Dense object at 0x0000022325A32828>>: AssertionError: Bad argument number for Name: 3, expecting 4\n",
      "Training phase...\n",
      "(Epoch 1 / 150) Train Loss: 64.16937; Val Loss: 63.98483   Train ACC: 0.28493; Val ACC: 0.20000   Train NMI: 0.00000; Val NMI: 0.00000\n",
      "(Epoch 2 / 150) Train Loss: 63.06642; Val Loss: 63.42039   Train ACC: 0.28585; Val ACC: 0.20000   Train NMI: 0.00000; Val NMI: 0.00000\n",
      "(Epoch 3 / 150) Train Loss: 62.55155; Val Loss: 62.95881   Train ACC: 0.28615; Val ACC: 0.20000   Train NMI: 0.00000; Val NMI: 0.00000\n",
      "(Epoch 4 / 150) Train Loss: 62.15729; Val Loss: 62.41167   Train ACC: 0.28523; Val ACC: 0.20000   Train NMI: 0.00000; Val NMI: 0.00000\n",
      "(Epoch 5 / 150) Train Loss: 61.91305; Val Loss: 61.96198   Train ACC: 0.28523; Val ACC: 0.20000   Train NMI: 0.00000; Val NMI: 0.00000\n",
      "(Epoch 6 / 150) Train Loss: 61.68997; Val Loss: 62.14333   Train ACC: 0.28493; Val ACC: 0.20000   Train NMI: 0.00000; Val NMI: 0.00000\n",
      "(Epoch 7 / 150) Train Loss: 61.63591; Val Loss: 61.79847   Train ACC: 0.28585; Val ACC: 0.20000   Train NMI: 0.00000; Val NMI: 0.00000\n",
      "(Epoch 8 / 150) Train Loss: 61.54406; Val Loss: 61.79209   Train ACC: 0.28585; Val ACC: 0.20000   Train NMI: 0.00000; Val NMI: 0.00000\n",
      "(Epoch 9 / 150) Train Loss: 61.50669; Val Loss: 61.78455   Train ACC: 0.28615; Val ACC: 0.20000   Train NMI: 0.00000; Val NMI: 0.00000\n",
      "(Epoch 10 / 150) Train Loss: 61.46521; Val Loss: 61.55482   Train ACC: 0.28523; Val ACC: 0.20000   Train NMI: 0.00000; Val NMI: 0.00000\n",
      "(Epoch 11 / 150) Train Loss: 61.43663; Val Loss: 61.77544   Train ACC: 0.28585; Val ACC: 0.20000   Train NMI: 0.00000; Val NMI: 0.00000\n",
      "(Epoch 12 / 150) Train Loss: 61.35045; Val Loss: 61.74229   Train ACC: 0.28615; Val ACC: 0.20000   Train NMI: 0.00000; Val NMI: 0.00000\n",
      "(Epoch 13 / 150) Train Loss: 61.38301; Val Loss: 61.66376   Train ACC: 0.28615; Val ACC: 0.20000   Train NMI: 0.00000; Val NMI: 0.00000\n",
      "(Epoch 14 / 150) Train Loss: 61.33586; Val Loss: 61.67260   Train ACC: 0.28554; Val ACC: 0.20000   Train NMI: 0.00000; Val NMI: 0.00000\n",
      "(Epoch 15 / 150) Train Loss: 61.29619; Val Loss: 61.66297   Train ACC: 0.28523; Val ACC: 0.20000   Train NMI: 0.00000; Val NMI: 0.00000\n",
      "(Epoch 16 / 150) Train Loss: 61.22377; Val Loss: 61.53726   Train ACC: 0.28585; Val ACC: 0.20000   Train NMI: 0.00000; Val NMI: 0.00000\n",
      "(Epoch 17 / 150) Train Loss: 61.22352; Val Loss: 61.36704   Train ACC: 0.28523; Val ACC: 0.20000   Train NMI: 0.00000; Val NMI: 0.00000\n",
      "(Epoch 18 / 150) Train Loss: 61.09948; Val Loss: 61.31833   Train ACC: 0.28676; Val ACC: 0.20000   Train NMI: 0.00000; Val NMI: 0.00000\n",
      "(Epoch 19 / 150) Train Loss: 60.99571; Val Loss: 61.28401   Train ACC: 0.28431; Val ACC: 0.20000   Train NMI: 0.00000; Val NMI: 0.00000\n",
      "(Epoch 20 / 150) Train Loss: 60.93030; Val Loss: 61.26402   Train ACC: 0.28676; Val ACC: 0.20000   Train NMI: 0.00000; Val NMI: 0.00000\n",
      "(Epoch 21 / 150) Train Loss: 60.91682; Val Loss: 61.14507   Train ACC: 0.28493; Val ACC: 0.20000   Train NMI: 0.00000; Val NMI: 0.00000\n",
      "(Epoch 22 / 150) Train Loss: 60.79544; Val Loss: 61.06212   Train ACC: 0.28554; Val ACC: 0.20000   Train NMI: 0.00000; Val NMI: 0.00000\n",
      "(Epoch 23 / 150) Train Loss: 60.78401; Val Loss: 61.16985   Train ACC: 0.28585; Val ACC: 0.20000   Train NMI: 0.00000; Val NMI: 0.00000\n",
      "(Epoch 24 / 150) Train Loss: 60.75144; Val Loss: 61.09076   Train ACC: 0.28707; Val ACC: 0.20000   Train NMI: 0.00000; Val NMI: 0.00000\n",
      "(Epoch 25 / 150) Train Loss: 60.73435; Val Loss: 60.87043   Train ACC: 0.28401; Val ACC: 0.20000   Train NMI: 0.00000; Val NMI: 0.00000\n",
      "(Epoch 26 / 150) Train Loss: 60.59238; Val Loss: 60.83102   Train ACC: 0.28493; Val ACC: 0.20000   Train NMI: 0.00000; Val NMI: 0.00000\n",
      "(Epoch 27 / 150) Train Loss: 60.59411; Val Loss: 60.77603   Train ACC: 0.28585; Val ACC: 0.20000   Train NMI: 0.00000; Val NMI: 0.00000\n",
      "(Epoch 28 / 150) Train Loss: 60.48351; Val Loss: 60.64731   Train ACC: 0.28554; Val ACC: 0.20000   Train NMI: 0.00000; Val NMI: 0.00000\n",
      "(Epoch 29 / 150) Train Loss: 60.48371; Val Loss: 60.71796   Train ACC: 0.28554; Val ACC: 0.20000   Train NMI: 0.00000; Val NMI: 0.00000\n",
      "(Epoch 30 / 150) Train Loss: 60.45552; Val Loss: 60.76628   Train ACC: 0.28585; Val ACC: 0.20000   Train NMI: 0.00000; Val NMI: 0.00000\n",
      "(Epoch 31 / 150) Train Loss: 60.43604; Val Loss: 60.63186   Train ACC: 0.28554; Val ACC: 0.20000   Train NMI: 0.00000; Val NMI: 0.00000\n",
      "(Epoch 32 / 150) Train Loss: 60.44748; Val Loss: 60.62863   Train ACC: 0.28585; Val ACC: 0.20000   Train NMI: 0.00000; Val NMI: 0.00000\n",
      "(Epoch 33 / 150) Train Loss: 60.38406; Val Loss: 60.43677   Train ACC: 0.28493; Val ACC: 0.20000   Train NMI: 0.00000; Val NMI: 0.00000\n",
      "(Epoch 34 / 150) Train Loss: 60.39032; Val Loss: 60.61686   Train ACC: 0.28615; Val ACC: 0.20000   Train NMI: 0.00000; Val NMI: 0.00000\n",
      "(Epoch 35 / 150) Train Loss: 60.35720; Val Loss: 60.48598   Train ACC: 0.28523; Val ACC: 0.20000   Train NMI: 0.00000; Val NMI: 0.00000\n",
      "(Epoch 36 / 150) Train Loss: 60.37591; Val Loss: 60.51467   Train ACC: 0.28493; Val ACC: 0.20000   Train NMI: 0.00000; Val NMI: 0.00000\n",
      "(Epoch 37 / 150) Train Loss: 60.37243; Val Loss: 60.45028   Train ACC: 0.28554; Val ACC: 0.20000   Train NMI: 0.00000; Val NMI: 0.00000\n",
      "(Epoch 38 / 150) Train Loss: 60.34803; Val Loss: 60.45668   Train ACC: 0.28554; Val ACC: 0.20000   Train NMI: 0.00000; Val NMI: 0.00000\n",
      "(Epoch 39 / 150) Train Loss: 60.30449; Val Loss: 60.50056   Train ACC: 0.28676; Val ACC: 0.20000   Train NMI: 0.00000; Val NMI: 0.00000\n",
      "(Epoch 40 / 150) Train Loss: 60.31925; Val Loss: 60.41127   Train ACC: 0.28462; Val ACC: 0.20000   Train NMI: 0.00000; Val NMI: 0.00000\n",
      "(Epoch 41 / 150) Train Loss: 60.31171; Val Loss: 60.46933   Train ACC: 0.28615; Val ACC: 0.20000   Train NMI: 0.00000; Val NMI: 0.00000\n",
      "(Epoch 42 / 150) Train Loss: 60.26354; Val Loss: 60.51155   Train ACC: 0.28523; Val ACC: 0.20000   Train NMI: 0.00000; Val NMI: 0.00000\n",
      "(Epoch 43 / 150) Train Loss: 60.32762; Val Loss: 60.46153   Train ACC: 0.28707; Val ACC: 0.20000   Train NMI: 0.00000; Val NMI: 0.00000\n",
      "(Epoch 44 / 150) Train Loss: 60.35470; Val Loss: 60.62629   Train ACC: 0.28462; Val ACC: 0.20000   Train NMI: 0.00000; Val NMI: 0.00000\n",
      "(Epoch 45 / 150) Train Loss: 60.28258; Val Loss: 60.42238   Train ACC: 0.28493; Val ACC: 0.20000   Train NMI: 0.00000; Val NMI: 0.00000\n",
      "(Epoch 46 / 150) Train Loss: 60.30213; Val Loss: 60.44846   Train ACC: 0.28615; Val ACC: 0.20000   Train NMI: 0.00000; Val NMI: 0.00000\n",
      "(Epoch 47 / 150) Train Loss: 60.27267; Val Loss: 60.41963   Train ACC: 0.28554; Val ACC: 0.20000   Train NMI: 0.00000; Val NMI: 0.00000\n",
      "(Epoch 48 / 150) Train Loss: 60.24404; Val Loss: 60.39551   Train ACC: 0.28585; Val ACC: 0.20000   Train NMI: 0.00000; Val NMI: 0.00000\n",
      "(Epoch 49 / 150) Train Loss: 60.24389; Val Loss: 60.31090   Train ACC: 0.28646; Val ACC: 0.20000   Train NMI: 0.00000; Val NMI: 0.00000\n",
      "(Epoch 50 / 150) Train Loss: 60.26540; Val Loss: 60.41082   Train ACC: 0.28431; Val ACC: 0.20000   Train NMI: 0.00000; Val NMI: 0.00000\n",
      "(Epoch 51 / 150) Train Loss: 60.23689; Val Loss: 60.45700   Train ACC: 0.28585; Val ACC: 0.20000   Train NMI: 0.00000; Val NMI: 0.00000\n",
      "(Epoch 52 / 150) Train Loss: 60.26147; Val Loss: 60.44565   Train ACC: 0.28462; Val ACC: 0.20000   Train NMI: 0.00000; Val NMI: 0.00000\n",
      "(Epoch 53 / 150) Train Loss: 60.26283; Val Loss: 60.37696   Train ACC: 0.28585; Val ACC: 0.20000   Train NMI: 0.00000; Val NMI: 0.00000\n",
      "(Epoch 54 / 150) Train Loss: 60.23445; Val Loss: 60.44708   Train ACC: 0.28554; Val ACC: 0.20000   Train NMI: 0.00000; Val NMI: 0.00000\n",
      "(Epoch 55 / 150) Train Loss: 60.24299; Val Loss: 60.36041   Train ACC: 0.28523; Val ACC: 0.20000   Train NMI: 0.00000; Val NMI: 0.00000\n",
      "(Epoch 56 / 150) Train Loss: 60.22424; Val Loss: 60.42024   Train ACC: 0.28554; Val ACC: 0.20000   Train NMI: 0.00000; Val NMI: 0.00000\n",
      "(Epoch 57 / 150) Train Loss: 60.26338; Val Loss: 60.35740   Train ACC: 0.28615; Val ACC: 0.20000   Train NMI: 0.00000; Val NMI: 0.00000\n",
      "(Epoch 58 / 150) Train Loss: 60.26234; Val Loss: 60.38253   Train ACC: 0.28676; Val ACC: 0.20000   Train NMI: 0.00000; Val NMI: 0.00000\n",
      "(Epoch 59 / 150) Train Loss: 60.23743; Val Loss: 60.33369   Train ACC: 0.28523; Val ACC: 0.20000   Train NMI: 0.00000; Val NMI: 0.00000\n",
      "(Epoch 60 / 150) Train Loss: 60.22087; Val Loss: 60.34457   Train ACC: 0.28646; Val ACC: 0.20000   Train NMI: 0.00000; Val NMI: 0.00000\n",
      "(Epoch 61 / 150) Train Loss: 60.25162; Val Loss: 60.41537   Train ACC: 0.28523; Val ACC: 0.20000   Train NMI: 0.00000; Val NMI: 0.00000\n",
      "(Epoch 62 / 150) Train Loss: 60.26745; Val Loss: 60.42923   Train ACC: 0.28707; Val ACC: 0.20000   Train NMI: 0.00000; Val NMI: 0.00000\n",
      "(Epoch 63 / 150) Train Loss: 60.20365; Val Loss: 60.26263   Train ACC: 0.28615; Val ACC: 0.20000   Train NMI: 0.00000; Val NMI: 0.00000\n",
      "(Epoch 64 / 150) Train Loss: 60.23132; Val Loss: 60.41615   Train ACC: 0.28554; Val ACC: 0.20000   Train NMI: 0.00000; Val NMI: 0.00000\n",
      "(Epoch 65 / 150) Train Loss: 60.22246; Val Loss: 60.28268   Train ACC: 0.28585; Val ACC: 0.20000   Train NMI: 0.00000; Val NMI: 0.00000\n",
      "(Epoch 66 / 150) Train Loss: 60.22871; Val Loss: 60.43253   Train ACC: 0.28462; Val ACC: 0.20000   Train NMI: 0.00000; Val NMI: 0.00000\n",
      "(Epoch 67 / 150) Train Loss: 60.22163; Val Loss: 60.45696   Train ACC: 0.28523; Val ACC: 0.20000   Train NMI: 0.00000; Val NMI: 0.00000\n",
      "(Epoch 68 / 150) Train Loss: 60.27695; Val Loss: 60.35849   Train ACC: 0.28523; Val ACC: 0.20000   Train NMI: 0.00000; Val NMI: 0.00000\n",
      "(Epoch 69 / 150) Train Loss: 60.22670; Val Loss: 60.35513   Train ACC: 0.28523; Val ACC: 0.20000   Train NMI: 0.00000; Val NMI: 0.00000\n",
      "(Epoch 70 / 150) Train Loss: 60.23390; Val Loss: 60.36537   Train ACC: 0.28523; Val ACC: 0.20000   Train NMI: 0.00000; Val NMI: 0.00000\n",
      "(Epoch 71 / 150) Train Loss: 60.20080; Val Loss: 60.43104   Train ACC: 0.28554; Val ACC: 0.20000   Train NMI: 0.00000; Val NMI: 0.00000\n",
      "(Epoch 72 / 150) Train Loss: 60.19962; Val Loss: 60.46562   Train ACC: 0.28554; Val ACC: 0.20000   Train NMI: 0.00000; Val NMI: 0.00000\n",
      "(Epoch 73 / 150) Train Loss: 60.25217; Val Loss: 60.38974   Train ACC: 0.28523; Val ACC: 0.20000   Train NMI: 0.00000; Val NMI: 0.00000\n",
      "(Epoch 74 / 150) Train Loss: 60.20033; Val Loss: 60.39293   Train ACC: 0.28554; Val ACC: 0.20000   Train NMI: 0.00000; Val NMI: 0.00000\n",
      "(Epoch 75 / 150) Train Loss: 60.21345; Val Loss: 60.38669   Train ACC: 0.28523; Val ACC: 0.20000   Train NMI: 0.00000; Val NMI: 0.00000\n",
      "(Epoch 76 / 150) Train Loss: 60.24343; Val Loss: 60.44335   Train ACC: 0.28585; Val ACC: 0.20000   Train NMI: 0.00000; Val NMI: 0.00000\n",
      "(Epoch 77 / 150) Train Loss: 60.20262; Val Loss: 60.36037   Train ACC: 0.28493; Val ACC: 0.20000   Train NMI: 0.00000; Val NMI: 0.00000\n",
      "(Epoch 78 / 150) Train Loss: 60.18306; Val Loss: 60.41439   Train ACC: 0.28646; Val ACC: 0.20000   Train NMI: 0.00000; Val NMI: 0.00000\n",
      "(Epoch 79 / 150) Train Loss: 60.20606; Val Loss: 60.32321   Train ACC: 0.28585; Val ACC: 0.20000   Train NMI: 0.00000; Val NMI: 0.00000\n",
      "(Epoch 80 / 150) Train Loss: 60.20217; Val Loss: 60.33958   Train ACC: 0.28554; Val ACC: 0.20000   Train NMI: 0.00000; Val NMI: 0.00000\n",
      "(Epoch 81 / 150) Train Loss: 60.22116; Val Loss: 60.59329   Train ACC: 0.28646; Val ACC: 0.20000   Train NMI: 0.00000; Val NMI: 0.00000\n",
      "(Epoch 82 / 150) Train Loss: 60.24864; Val Loss: 60.32443   Train ACC: 0.28493; Val ACC: 0.20000   Train NMI: 0.00000; Val NMI: 0.00000\n",
      "(Epoch 83 / 150) Train Loss: 60.20017; Val Loss: 60.35509   Train ACC: 0.28615; Val ACC: 0.20000   Train NMI: 0.00000; Val NMI: 0.00000\n",
      "(Epoch 84 / 150) Train Loss: 60.19040; Val Loss: 60.39579   Train ACC: 0.28462; Val ACC: 0.20000   Train NMI: 0.00000; Val NMI: 0.00000\n",
      "(Epoch 85 / 150) Train Loss: 60.22827; Val Loss: 60.28489   Train ACC: 0.28493; Val ACC: 0.20000   Train NMI: 0.00000; Val NMI: 0.00000\n",
      "(Epoch 86 / 150) Train Loss: 60.18532; Val Loss: 60.34475   Train ACC: 0.28585; Val ACC: 0.20000   Train NMI: 0.00000; Val NMI: 0.00000\n",
      "(Epoch 87 / 150) Train Loss: 60.16718; Val Loss: 60.33938   Train ACC: 0.28523; Val ACC: 0.20000   Train NMI: 0.00000; Val NMI: 0.00000\n",
      "(Epoch 88 / 150) Train Loss: 60.17202; Val Loss: 60.25940   Train ACC: 0.28615; Val ACC: 0.20000   Train NMI: 0.00000; Val NMI: 0.00000\n",
      "(Epoch 89 / 150) Train Loss: 60.13726; Val Loss: 60.42324   Train ACC: 0.28554; Val ACC: 0.20000   Train NMI: 0.00000; Val NMI: 0.00000\n",
      "(Epoch 90 / 150) Train Loss: 60.17192; Val Loss: 60.36133   Train ACC: 0.28462; Val ACC: 0.20000   Train NMI: 0.00000; Val NMI: 0.00000\n",
      "(Epoch 91 / 150) Train Loss: 60.18125; Val Loss: 60.36499   Train ACC: 0.28554; Val ACC: 0.20000   Train NMI: 0.00000; Val NMI: 0.00000\n",
      "(Epoch 92 / 150) Train Loss: 60.19317; Val Loss: 60.39430   Train ACC: 0.28523; Val ACC: 0.20000   Train NMI: 0.00000; Val NMI: 0.00000\n",
      "(Epoch 93 / 150) Train Loss: 60.19440; Val Loss: 60.34593   Train ACC: 0.28493; Val ACC: 0.20000   Train NMI: 0.00000; Val NMI: 0.00000\n",
      "(Epoch 94 / 150) Train Loss: 60.19416; Val Loss: 60.36438   Train ACC: 0.28554; Val ACC: 0.20000   Train NMI: 0.00000; Val NMI: 0.00000\n",
      "(Epoch 95 / 150) Train Loss: 60.20345; Val Loss: 60.32423   Train ACC: 0.28585; Val ACC: 0.20000   Train NMI: 0.00000; Val NMI: 0.00000\n",
      "(Epoch 96 / 150) Train Loss: 60.16071; Val Loss: 60.40332   Train ACC: 0.28646; Val ACC: 0.20000   Train NMI: 0.00000; Val NMI: 0.00000\n",
      "(Epoch 97 / 150) Train Loss: 60.20796; Val Loss: 60.33199   Train ACC: 0.28676; Val ACC: 0.20000   Train NMI: 0.00000; Val NMI: 0.00000\n",
      "(Epoch 98 / 150) Train Loss: 60.18260; Val Loss: 60.30102   Train ACC: 0.28585; Val ACC: 0.20000   Train NMI: 0.00000; Val NMI: 0.00000\n",
      "(Epoch 99 / 150) Train Loss: 60.21176; Val Loss: 60.45936   Train ACC: 0.28585; Val ACC: 0.20000   Train NMI: 0.00000; Val NMI: 0.00000\n",
      "(Epoch 100 / 150) Train Loss: 60.17308; Val Loss: 60.38984   Train ACC: 0.28493; Val ACC: 0.20000   Train NMI: 0.00000; Val NMI: 0.00000\n",
      "(Epoch 101 / 150) Train Loss: 60.19996; Val Loss: 60.29972   Train ACC: 0.28523; Val ACC: 0.20000   Train NMI: 0.00000; Val NMI: 0.00000\n",
      "(Epoch 102 / 150) Train Loss: 60.15713; Val Loss: 60.26000   Train ACC: 0.28493; Val ACC: 0.20000   Train NMI: 0.00000; Val NMI: 0.00000\n",
      "(Epoch 103 / 150) Train Loss: 60.15181; Val Loss: 60.29875   Train ACC: 0.28462; Val ACC: 0.20000   Train NMI: 0.00000; Val NMI: 0.00000\n",
      "(Epoch 104 / 150) Train Loss: 60.17138; Val Loss: 60.31818   Train ACC: 0.28431; Val ACC: 0.20000   Train NMI: 0.00000; Val NMI: 0.00000\n",
      "(Epoch 105 / 150) Train Loss: 60.14309; Val Loss: 60.45469   Train ACC: 0.28523; Val ACC: 0.20000   Train NMI: 0.00000; Val NMI: 0.00000\n",
      "(Epoch 106 / 150) Train Loss: 60.18550; Val Loss: 60.30067   Train ACC: 0.28585; Val ACC: 0.20000   Train NMI: 0.00000; Val NMI: 0.00000\n",
      "(Epoch 107 / 150) Train Loss: 60.18113; Val Loss: 60.34521   Train ACC: 0.28493; Val ACC: 0.20000   Train NMI: 0.00000; Val NMI: 0.00000\n",
      "(Epoch 108 / 150) Train Loss: 60.13401; Val Loss: 60.34288   Train ACC: 0.28554; Val ACC: 0.20000   Train NMI: 0.00000; Val NMI: 0.00000\n",
      "(Epoch 109 / 150) Train Loss: 60.18974; Val Loss: 60.41901   Train ACC: 0.28431; Val ACC: 0.20000   Train NMI: 0.00000; Val NMI: 0.00000\n",
      "(Epoch 110 / 150) Train Loss: 60.17863; Val Loss: 60.28458   Train ACC: 0.28646; Val ACC: 0.20000   Train NMI: 0.00000; Val NMI: 0.00000\n",
      "(Epoch 111 / 150) Train Loss: 60.16766; Val Loss: 60.34885   Train ACC: 0.28615; Val ACC: 0.20000   Train NMI: 0.00000; Val NMI: 0.00000\n",
      "(Epoch 112 / 150) Train Loss: 60.17763; Val Loss: 60.33228   Train ACC: 0.28646; Val ACC: 0.20000   Train NMI: 0.00000; Val NMI: 0.00000\n",
      "(Epoch 113 / 150) Train Loss: 60.15411; Val Loss: 60.35823   Train ACC: 0.28585; Val ACC: 0.20000   Train NMI: 0.00000; Val NMI: 0.00000\n",
      "(Epoch 114 / 150) Train Loss: 60.19376; Val Loss: 60.25470   Train ACC: 0.28554; Val ACC: 0.20000   Train NMI: 0.00000; Val NMI: 0.00000\n",
      "(Epoch 115 / 150) Train Loss: 60.16727; Val Loss: 60.37755   Train ACC: 0.28615; Val ACC: 0.20000   Train NMI: 0.00000; Val NMI: 0.00000\n",
      "(Epoch 116 / 150) Train Loss: 60.15362; Val Loss: 60.28413   Train ACC: 0.28401; Val ACC: 0.20000   Train NMI: 0.00000; Val NMI: 0.00000\n",
      "(Epoch 117 / 150) Train Loss: 60.18181; Val Loss: 60.29490   Train ACC: 0.28462; Val ACC: 0.20000   Train NMI: 0.00000; Val NMI: 0.00000\n",
      "(Epoch 118 / 150) Train Loss: 60.18453; Val Loss: 60.30687   Train ACC: 0.28523; Val ACC: 0.20000   Train NMI: 0.00000; Val NMI: 0.00000\n",
      "(Epoch 119 / 150) Train Loss: 60.16492; Val Loss: 60.28711   Train ACC: 0.28493; Val ACC: 0.20000   Train NMI: 0.00000; Val NMI: 0.00000\n",
      "(Epoch 120 / 150) Train Loss: 60.13144; Val Loss: 60.33807   Train ACC: 0.28493; Val ACC: 0.20000   Train NMI: 0.00000; Val NMI: 0.00000\n",
      "(Epoch 121 / 150) Train Loss: 60.17310; Val Loss: 60.30454   Train ACC: 0.28554; Val ACC: 0.20000   Train NMI: 0.00000; Val NMI: 0.00000\n",
      "(Epoch 122 / 150) Train Loss: 60.14806; Val Loss: 60.28542   Train ACC: 0.28585; Val ACC: 0.20000   Train NMI: 0.00000; Val NMI: 0.00000\n",
      "(Epoch 123 / 150) Train Loss: 60.15934; Val Loss: 60.27684   Train ACC: 0.28462; Val ACC: 0.20000   Train NMI: 0.00000; Val NMI: 0.00000\n",
      "(Epoch 124 / 150) Train Loss: 60.14329; Val Loss: 60.33763   Train ACC: 0.28523; Val ACC: 0.20000   Train NMI: 0.00000; Val NMI: 0.00000\n",
      "(Epoch 125 / 150) Train Loss: 60.14677; Val Loss: 60.29211   Train ACC: 0.28493; Val ACC: 0.20000   Train NMI: 0.00000; Val NMI: 0.00000\n",
      "(Epoch 126 / 150) Train Loss: 60.15115; Val Loss: 60.25283   Train ACC: 0.28523; Val ACC: 0.20000   Train NMI: 0.00000; Val NMI: 0.00000\n",
      "(Epoch 127 / 150) Train Loss: 60.17633; Val Loss: 60.32392   Train ACC: 0.28676; Val ACC: 0.20000   Train NMI: 0.00000; Val NMI: 0.00000\n",
      "(Epoch 128 / 150) Train Loss: 60.17137; Val Loss: 60.28684   Train ACC: 0.28523; Val ACC: 0.20000   Train NMI: 0.00000; Val NMI: 0.00000\n",
      "(Epoch 129 / 150) Train Loss: 60.13539; Val Loss: 60.23377   Train ACC: 0.28554; Val ACC: 0.20000   Train NMI: 0.00000; Val NMI: 0.00000\n",
      "(Epoch 130 / 150) Train Loss: 60.16617; Val Loss: 60.33120   Train ACC: 0.28462; Val ACC: 0.20000   Train NMI: 0.00000; Val NMI: 0.00000\n",
      "(Epoch 131 / 150) Train Loss: 60.16955; Val Loss: 60.27894   Train ACC: 0.28615; Val ACC: 0.20000   Train NMI: 0.00000; Val NMI: 0.00000\n",
      "(Epoch 132 / 150) Train Loss: 60.16680; Val Loss: 60.21896   Train ACC: 0.28431; Val ACC: 0.20000   Train NMI: 0.00000; Val NMI: 0.00000\n",
      "(Epoch 133 / 150) Train Loss: 60.13971; Val Loss: 60.24217   Train ACC: 0.28646; Val ACC: 0.20000   Train NMI: 0.00000; Val NMI: 0.00000\n",
      "(Epoch 134 / 150) Train Loss: 60.16700; Val Loss: 60.26252   Train ACC: 0.28615; Val ACC: 0.20000   Train NMI: 0.00000; Val NMI: 0.00000\n",
      "(Epoch 135 / 150) Train Loss: 60.15784; Val Loss: 60.33544   Train ACC: 0.28554; Val ACC: 0.20000   Train NMI: 0.00000; Val NMI: 0.00000\n",
      "(Epoch 136 / 150) Train Loss: 60.15976; Val Loss: 60.24259   Train ACC: 0.28615; Val ACC: 0.20000   Train NMI: 0.00000; Val NMI: 0.00000\n",
      "(Epoch 137 / 150) Train Loss: 60.15991; Val Loss: 60.30537   Train ACC: 0.28615; Val ACC: 0.20000   Train NMI: 0.00000; Val NMI: 0.00000\n",
      "(Epoch 138 / 150) Train Loss: 60.13746; Val Loss: 60.21683   Train ACC: 0.28585; Val ACC: 0.20000   Train NMI: 0.00000; Val NMI: 0.00000\n",
      "(Epoch 139 / 150) Train Loss: 60.14496; Val Loss: 60.31546   Train ACC: 0.28554; Val ACC: 0.20000   Train NMI: 0.00000; Val NMI: 0.00000\n",
      "(Epoch 140 / 150) Train Loss: 60.14559; Val Loss: 60.27177   Train ACC: 0.28493; Val ACC: 0.20000   Train NMI: 0.00000; Val NMI: 0.00000\n",
      "(Epoch 141 / 150) Train Loss: 60.15679; Val Loss: 60.30284   Train ACC: 0.28523; Val ACC: 0.20000   Train NMI: 0.00000; Val NMI: 0.00000\n",
      "(Epoch 142 / 150) Train Loss: 60.12687; Val Loss: 60.25753   Train ACC: 0.28554; Val ACC: 0.20000   Train NMI: 0.00000; Val NMI: 0.00000\n",
      "(Epoch 143 / 150) Train Loss: 60.16347; Val Loss: 60.31421   Train ACC: 0.28707; Val ACC: 0.20000   Train NMI: 0.00000; Val NMI: 0.00000\n",
      "(Epoch 144 / 150) Train Loss: 60.12894; Val Loss: 60.27539   Train ACC: 0.28493; Val ACC: 0.20000   Train NMI: 0.00000; Val NMI: 0.00000\n",
      "(Epoch 145 / 150) Train Loss: 60.17106; Val Loss: 60.20849   Train ACC: 0.28493; Val ACC: 0.20000   Train NMI: 0.00000; Val NMI: 0.00000\n",
      "(Epoch 146 / 150) Train Loss: 60.13497; Val Loss: 60.34032   Train ACC: 0.28585; Val ACC: 0.20000   Train NMI: 0.00000; Val NMI: 0.00000\n",
      "(Epoch 147 / 150) Train Loss: 60.16664; Val Loss: 60.33802   Train ACC: 0.28585; Val ACC: 0.20000   Train NMI: 0.00000; Val NMI: 0.00000\n",
      "(Epoch 148 / 150) Train Loss: 60.16282; Val Loss: 60.37897   Train ACC: 0.28585; Val ACC: 0.20000   Train NMI: 0.00000; Val NMI: 0.00000\n",
      "(Epoch 149 / 150) Train Loss: 60.15483; Val Loss: 60.31098   Train ACC: 0.28523; Val ACC: 0.20000   Train NMI: 0.00000; Val NMI: 0.00000\n",
      "(Epoch 150 / 150) Train Loss: 60.12510; Val Loss: 60.28190   Train ACC: 0.28431; Val ACC: 0.20000   Train NMI: 0.00000; Val NMI: 0.00000\n",
      "WARNING: Entity <bound method Dense.call of <tensorflow.python.layers.core.Dense object at 0x0000022323B0B4E0>> could not be transformed and will be executed as-is. Please report this to the AutgoGraph team. When filing the bug, set the verbosity to 10 (on Linux, `export AUTOGRAPH_VERBOSITY=10`) and attach the full output. Cause: converting <bound method Dense.call of <tensorflow.python.layers.core.Dense object at 0x0000022323B0B4E0>>: AssertionError: Bad argument number for Name: 3, expecting 4\n",
      "WARNING: Entity <bound method Dense.call of <tensorflow.python.layers.core.Dense object at 0x0000022323B0B4E0>> could not be transformed and will be executed as-is. Please report this to the AutgoGraph team. When filing the bug, set the verbosity to 10 (on Linux, `export AUTOGRAPH_VERBOSITY=10`) and attach the full output. Cause: converting <bound method Dense.call of <tensorflow.python.layers.core.Dense object at 0x0000022323B0B4E0>>: AssertionError: Bad argument number for Name: 3, expecting 4\n",
      "WARNING: Entity <bound method Dense.call of <tensorflow.python.layers.core.Dense object at 0x0000022323B0B4E0>> could not be transformed and will be executed as-is. Please report this to the AutgoGraph team. When filing the bug, set the verbosity to 10 (on Linux, `export AUTOGRAPH_VERBOSITY=10`) and attach the full output. Cause: converting <bound method Dense.call of <tensorflow.python.layers.core.Dense object at 0x0000022323B0B4E0>>: AssertionError: Bad argument number for Name: 3, expecting 4\n",
      "WARNING: Entity <bound method Dense.call of <tensorflow.python.layers.core.Dense object at 0x0000022325B2C8D0>> could not be transformed and will be executed as-is. Please report this to the AutgoGraph team. When filing the bug, set the verbosity to 10 (on Linux, `export AUTOGRAPH_VERBOSITY=10`) and attach the full output. Cause: converting <bound method Dense.call of <tensorflow.python.layers.core.Dense object at 0x0000022325B2C8D0>>: AssertionError: Bad argument number for Name: 3, expecting 4\n",
      "WARNING: Entity <bound method Dense.call of <tensorflow.python.layers.core.Dense object at 0x0000022325AFB668>> could not be transformed and will be executed as-is. Please report this to the AutgoGraph team. When filing the bug, set the verbosity to 10 (on Linux, `export AUTOGRAPH_VERBOSITY=10`) and attach the full output. Cause: converting <bound method Dense.call of <tensorflow.python.layers.core.Dense object at 0x0000022325AFB668>>: AssertionError: Bad argument number for Name: 3, expecting 4\n",
      "WARNING: Entity <bound method Dense.call of <tensorflow.python.layers.core.Dense object at 0x0000022325AFB668>> could not be transformed and will be executed as-is. Please report this to the AutgoGraph team. When filing the bug, set the verbosity to 10 (on Linux, `export AUTOGRAPH_VERBOSITY=10`) and attach the full output. Cause: converting <bound method Dense.call of <tensorflow.python.layers.core.Dense object at 0x0000022325AFB668>>: AssertionError: Bad argument number for Name: 3, expecting 4\n",
      "WARNING: Entity <bound method Dense.call of <tensorflow.python.layers.core.Dense object at 0x0000022325B527B8>> could not be transformed and will be executed as-is. Please report this to the AutgoGraph team. When filing the bug, set the verbosity to 10 (on Linux, `export AUTOGRAPH_VERBOSITY=10`) and attach the full output. Cause: converting <bound method Dense.call of <tensorflow.python.layers.core.Dense object at 0x0000022325B527B8>>: AssertionError: Bad argument number for Name: 3, expecting 4\n",
      "Testing phase...\n",
      "Accuracy: 0.20000,  NMI: 0.00000\n"
     ]
    }
   ],
   "source": [
    "def del_all_flags(FLAGS):\n",
    "    flags_dict = FLAGS._flags()\n",
    "    keys_list = [keys for keys in flags_dict]\n",
    "    for keys in keys_list:\n",
    "        FLAGS.__delattr__(keys)\n",
    "\n",
    "\n",
    "del_all_flags(tf.flags.FLAGS)\n",
    "\n",
    "flags = tf.flags\n",
    "PARAMETERS = flags.FLAGS\n",
    "tf.app.flags.DEFINE_string('f', '', 'kernel')\n",
    "\n",
    "#########################################################\n",
    "## Input Parameters\n",
    "#########################################################\n",
    "\n",
    "## Dataset\n",
    "flags.DEFINE_string('dataset', 'mnist', 'Specify the desired dataset (mnist)')\n",
    "flags.DEFINE_integer('seed', -1, 'Random Seed')\n",
    "\n",
    "## GPU\n",
    "flags.DEFINE_integer('gpu', 1, 'Using Cuda, 1 to enable')\n",
    "flags.DEFINE_integer('gpuID', 1, 'Set GPU Id to use')\n",
    "\n",
    "## Training\n",
    "flags.DEFINE_integer('batch_size', 64, 'Batch size of training data')\n",
    "flags.DEFINE_integer('num_epochs', 150, 'Number of epochs in training phase')\n",
    "flags.DEFINE_float('learning_rate', 1e-3, 'Learning rate for training')\n",
    "flags.DEFINE_float('decay_epoch', -1,\n",
    "                   'Reduces the learning rate every decay_epoch')\n",
    "flags.DEFINE_float('lr_decay', 0.5, 'Learning rate decay for training')\n",
    "\n",
    "## Architecture\n",
    "flags.DEFINE_integer('num_classes', 1, 'Number of clusters')\n",
    "flags.DEFINE_integer('gaussian_size', 64,\n",
    "                     'Size of the gaussian learnt by the network')\n",
    "\n",
    "## Partition parameters\n",
    "flags.DEFINE_float(\n",
    "    'train_proportion', 1.0,\n",
    "    'Proportion of examples to consider for training only  (0.0-1.0)')\n",
    "flags.DEFINE_integer('batch_size_val', 200, 'Batch size of validation data')\n",
    "flags.DEFINE_integer('batch_size_test', 200, 'Batch size of test data')\n",
    "\n",
    "## Gumbel parameters\n",
    "flags.DEFINE_float(\n",
    "    'temperature', 1.0,\n",
    "    'Initial temperature used in gumbel-softmax (recommended 0.5-1.0)')\n",
    "flags.DEFINE_integer('decay_temperature', 1,\n",
    "                     'Set 1 to decay gumbel temperature at every epoch')\n",
    "flags.DEFINE_integer('hard_gumbel', 0, 'Hard version of gumbel-softmax')\n",
    "flags.DEFINE_float('min_temperature', 0.5,\n",
    "                   'Minimum temperature of gumbel-softmax after annealing')\n",
    "flags.DEFINE_float('decay_temp_rate', 0.00693,\n",
    "                   'Temperature decay rate at every epoch')\n",
    "\n",
    "## Loss function parameters\n",
    "flags.DEFINE_string('loss_type', 'bce',\n",
    "                    'Desired loss function to train (mse, bce)')\n",
    "flags.DEFINE_float('w_gaussian', 1.0, 'Weight of Gaussian regularization')\n",
    "flags.DEFINE_float('w_categorical', 1.0,\n",
    "                   'Weight of Categorical regularization')\n",
    "flags.DEFINE_float('w_reconstruction', 1.0, 'Weight of Reconstruction loss')\n",
    "\n",
    "## Others\n",
    "flags.DEFINE_integer('verbose', 0, \"Print extra information at every epoch.\")\n",
    "flags.DEFINE_integer('random_search_it', 20, 'Iterations of random search')\n",
    "\n",
    "if PARAMETERS.gpu == 1:\n",
    "    os.environ[\"CUDA_VISIBLE_DEVICES\"] = str(PARAMETERS.gpuID)\n",
    "\n",
    "if PARAMETERS.seed < 0:\n",
    "    np.random.seed(None)\n",
    "else:\n",
    "    np.random.seed(PARAMETERS.seed)\n",
    "\n",
    "#########################################################\n",
    "## Read Data\n",
    "#########################################################\n",
    "if PARAMETERS.dataset == \"mnist\":\n",
    "    print(\"Loading mnist dataset...\")\n",
    "    # load mnist data\n",
    "    # (x_train, y_train), (x_test, y_test) = mnist.load_data()\n",
    "    # x_train=np.load(\"x_scale4.npy\")\n",
    "    # y_train=np.load(\"y_label4.npy\")\n",
    "    # x_test =  np.load(\"test4.npy\")\n",
    "    # y_test =  np.load(\"y_test4.npy\")\n",
    "\n",
    "    x_train=np.load(\"x_scale5.npy\")\n",
    "    y_train=np.load(\"y_label5.npy\")\n",
    "    x_test =  np.load(\"x_test5.npy\")\n",
    "    y_test =  np.load(\"y_test5.npy\")\n",
    "\n",
    "    # x_train = x_train / 255.0\n",
    "    # x_test = x_test / 255.0\n",
    "else:\n",
    "    raise \"invalid dataset, valid datasets are: mnist\"\n",
    "\n",
    "## Set datatypes\n",
    "x_train = x_train.astype(np.float32)\n",
    "x_test = x_test.astype(np.float32)\n",
    "y_train = y_train.astype(np.int64)\n",
    "y_test = y_test.astype(np.int64)\n",
    "\n",
    "## Flatten data\n",
    "x_train = flatten_array(x_train)\n",
    "x_test = flatten_array(x_test)\n",
    "\n",
    "#########################################################\n",
    "## Data Partition\n",
    "#########################################################\n",
    "test_data, test_labels = x_test, y_test\n",
    "\n",
    "if PARAMETERS.train_proportion == 1.0:\n",
    "    train_data, train_labels, val_data, val_labels = x_train, y_train, x_test, y_test\n",
    "else:\n",
    "    train_data, train_labels, val_data, val_labels = partition_train_val(\n",
    "        x_train, y_train, PARAMETERS.train_proportion, PARAMETERS.num_classes)\n",
    "\n",
    "if PARAMETERS.verbose == 1:\n",
    "    print(\"Train size: %dx%d\" % (train_data.shape[0], train_data.shape[1]))\n",
    "    if PARAMETERS.train_proportion < 1.0:\n",
    "        print(\"Validation size: %dx%d\" %\n",
    "              (val_data.shape[0], val_data.shape[1]))\n",
    "    print(\"Test size: %dx%d\" % (test_data.shape[0], test_data.shape[1]))\n",
    "\n",
    "#########################################################\n",
    "## Train and Test Model\n",
    "#########################################################\n",
    "tf.reset_default_graph()\n",
    "if PARAMETERS.seed > -1:\n",
    "    tf.set_random_seed(PARAMETERS.seed)\n",
    "\n",
    "## Model Initialization\n",
    "gmvae = GMVAE(PARAMETERS)\n",
    "\n",
    "## Training Phase\n",
    "history_loss = gmvae.train(train_data, train_labels, val_data, val_labels)\n",
    "\n",
    "## Testing Phase\n",
    "accuracy, nmi = gmvae.test(test_data, test_labels, PARAMETERS.batch_size_test)\n",
    "\n",
    "print(\"Testing phase...\")\n",
    "print(\"Accuracy: %.5lf,  NMI: %.5lf\" % (accuracy, nmi))"
   ]
  },
  {
   "cell_type": "code",
   "execution_count": 15,
   "metadata": {},
   "outputs": [],
   "source": [
    "def revScale(tra):\n",
    "    lat_min= 48.90202222222222\n",
    "    lat_max=49.0623\n",
    "    lon_max=-123.02870277777778\n",
    "    lon_min=-123.41741944444445\n",
    "    lat=tra[:,0]*(lat_max-lat_min)+lat_min\n",
    "    lon=tra[:,1]*(lon_max-lon_min)+lon_min\n",
    "    new_tra=np.stack((lat,lon),axis=1)\n",
    "    return new_tra"
   ]
  },
  {
   "cell_type": "code",
   "execution_count": 10,
   "metadata": {},
   "outputs": [],
   "source": [
    "valdata=np.load(\"9msc.npy\")\n",
    "valdata = valdata.astype(np.float32)\n",
    "valdata = flatten_array(valdata)"
   ]
  },
  {
   "cell_type": "code",
   "execution_count": 4,
   "metadata": {
    "collapsed": true,
    "jupyter": {
     "outputs_hidden": true
    }
   },
   "outputs": [
    {
     "name": "stdout",
     "output_type": "stream",
     "text": [
      "WARNING: Entity <bound method Dense.call of <tensorflow.python.layers.core.Dense object at 0x0000019068B23080>> could not be transformed and will be executed as-is. Please report this to the AutgoGraph team. When filing the bug, set the verbosity to 10 (on Linux, `export AUTOGRAPH_VERBOSITY=10`) and attach the full output. Cause: converting <bound method Dense.call of <tensorflow.python.layers.core.Dense object at 0x0000019068B23080>>: AssertionError: Bad argument number for Name: 3, expecting 4\n",
      "WARNING: Entity <bound method Dense.call of <tensorflow.python.layers.core.Dense object at 0x00000190755F6358>> could not be transformed and will be executed as-is. Please report this to the AutgoGraph team. When filing the bug, set the verbosity to 10 (on Linux, `export AUTOGRAPH_VERBOSITY=10`) and attach the full output. Cause: converting <bound method Dense.call of <tensorflow.python.layers.core.Dense object at 0x00000190755F6358>>: AssertionError: Bad argument number for Name: 3, expecting 4\n",
      "WARNING: Entity <bound method Dense.call of <tensorflow.python.layers.core.Dense object at 0x00000190755F6358>> could not be transformed and will be executed as-is. Please report this to the AutgoGraph team. When filing the bug, set the verbosity to 10 (on Linux, `export AUTOGRAPH_VERBOSITY=10`) and attach the full output. Cause: converting <bound method Dense.call of <tensorflow.python.layers.core.Dense object at 0x00000190755F6358>>: AssertionError: Bad argument number for Name: 3, expecting 4\n",
      "WARNING: Entity <bound method Dense.call of <tensorflow.python.layers.core.Dense object at 0x00000190755D0DD8>> could not be transformed and will be executed as-is. Please report this to the AutgoGraph team. When filing the bug, set the verbosity to 10 (on Linux, `export AUTOGRAPH_VERBOSITY=10`) and attach the full output. Cause: converting <bound method Dense.call of <tensorflow.python.layers.core.Dense object at 0x00000190755D0DD8>>: AssertionError: Bad argument number for Name: 3, expecting 4\n",
      "WARNING: Entity <bound method Dense.call of <tensorflow.python.layers.core.Dense object at 0x0000019074E04BA8>> could not be transformed and will be executed as-is. Please report this to the AutgoGraph team. When filing the bug, set the verbosity to 10 (on Linux, `export AUTOGRAPH_VERBOSITY=10`) and attach the full output. Cause: converting <bound method Dense.call of <tensorflow.python.layers.core.Dense object at 0x0000019074E04BA8>>: AssertionError: Bad argument number for Name: 3, expecting 4\n",
      "WARNING: Entity <bound method Dense.call of <tensorflow.python.layers.core.Dense object at 0x0000019074E04BA8>> could not be transformed and will be executed as-is. Please report this to the AutgoGraph team. When filing the bug, set the verbosity to 10 (on Linux, `export AUTOGRAPH_VERBOSITY=10`) and attach the full output. Cause: converting <bound method Dense.call of <tensorflow.python.layers.core.Dense object at 0x0000019074E04BA8>>: AssertionError: Bad argument number for Name: 3, expecting 4\n",
      "WARNING: Entity <bound method Dense.call of <tensorflow.python.layers.core.Dense object at 0x0000019074E04BA8>> could not be transformed and will be executed as-is. Please report this to the AutgoGraph team. When filing the bug, set the verbosity to 10 (on Linux, `export AUTOGRAPH_VERBOSITY=10`) and attach the full output. Cause: converting <bound method Dense.call of <tensorflow.python.layers.core.Dense object at 0x0000019074E04BA8>>: AssertionError: Bad argument number for Name: 3, expecting 4\n",
      "WARNING: Entity <bound method Dense.call of <tensorflow.python.layers.core.Dense object at 0x0000019068B23B38>> could not be transformed and will be executed as-is. Please report this to the AutgoGraph team. When filing the bug, set the verbosity to 10 (on Linux, `export AUTOGRAPH_VERBOSITY=10`) and attach the full output. Cause: converting <bound method Dense.call of <tensorflow.python.layers.core.Dense object at 0x0000019068B23B38>>: AssertionError: Bad argument number for Name: 3, expecting 4\n",
      "WARNING: Entity <bound method Dense.call of <tensorflow.python.layers.core.Dense object at 0x0000019068B23B38>> could not be transformed and will be executed as-is. Please report this to the AutgoGraph team. When filing the bug, set the verbosity to 10 (on Linux, `export AUTOGRAPH_VERBOSITY=10`) and attach the full output. Cause: converting <bound method Dense.call of <tensorflow.python.layers.core.Dense object at 0x0000019068B23B38>>: AssertionError: Bad argument number for Name: 3, expecting 4\n",
      "WARNING: Entity <bound method Dense.call of <tensorflow.python.layers.core.Dense object at 0x00000190777C99B0>> could not be transformed and will be executed as-is. Please report this to the AutgoGraph team. When filing the bug, set the verbosity to 10 (on Linux, `export AUTOGRAPH_VERBOSITY=10`) and attach the full output. Cause: converting <bound method Dense.call of <tensorflow.python.layers.core.Dense object at 0x00000190777C99B0>>: AssertionError: Bad argument number for Name: 3, expecting 4\n",
      "WARNING: Entity <bound method Dense.call of <tensorflow.python.layers.core.Dense object at 0x00000190777C99B0>> could not be transformed and will be executed as-is. Please report this to the AutgoGraph team. When filing the bug, set the verbosity to 10 (on Linux, `export AUTOGRAPH_VERBOSITY=10`) and attach the full output. Cause: converting <bound method Dense.call of <tensorflow.python.layers.core.Dense object at 0x00000190777C99B0>>: AssertionError: Bad argument number for Name: 3, expecting 4\n",
      "WARNING: Entity <bound method Dense.call of <tensorflow.python.layers.core.Dense object at 0x00000190777C99B0>> could not be transformed and will be executed as-is. Please report this to the AutgoGraph team. When filing the bug, set the verbosity to 10 (on Linux, `export AUTOGRAPH_VERBOSITY=10`) and attach the full output. Cause: converting <bound method Dense.call of <tensorflow.python.layers.core.Dense object at 0x00000190777C99B0>>: AssertionError: Bad argument number for Name: 3, expecting 4\n"
     ]
    }
   ],
   "source": [
    "test_batch_data = test_data\n",
    "reconstructed = gmvae.reconstruct_data(test_batch_data)"
   ]
  },
  {
   "cell_type": "code",
   "execution_count": 11,
   "metadata": {
    "collapsed": true,
    "jupyter": {
     "outputs_hidden": true
    }
   },
   "outputs": [
    {
     "name": "stdout",
     "output_type": "stream",
     "text": [
      "WARNING: Entity <bound method Dense.call of <tensorflow.python.layers.core.Dense object at 0x0000022323AFC5C0>> could not be transformed and will be executed as-is. Please report this to the AutgoGraph team. When filing the bug, set the verbosity to 10 (on Linux, `export AUTOGRAPH_VERBOSITY=10`) and attach the full output. Cause: converting <bound method Dense.call of <tensorflow.python.layers.core.Dense object at 0x0000022323AFC5C0>>: AssertionError: Bad argument number for Name: 3, expecting 4\n",
      "WARNING: Entity <bound method Dense.call of <tensorflow.python.layers.core.Dense object at 0x0000022323AFC400>> could not be transformed and will be executed as-is. Please report this to the AutgoGraph team. When filing the bug, set the verbosity to 10 (on Linux, `export AUTOGRAPH_VERBOSITY=10`) and attach the full output. Cause: converting <bound method Dense.call of <tensorflow.python.layers.core.Dense object at 0x0000022323AFC400>>: AssertionError: Bad argument number for Name: 3, expecting 4\n",
      "WARNING: Entity <bound method Dense.call of <tensorflow.python.layers.core.Dense object at 0x0000022323B069E8>> could not be transformed and will be executed as-is. Please report this to the AutgoGraph team. When filing the bug, set the verbosity to 10 (on Linux, `export AUTOGRAPH_VERBOSITY=10`) and attach the full output. Cause: converting <bound method Dense.call of <tensorflow.python.layers.core.Dense object at 0x0000022323B069E8>>: AssertionError: Bad argument number for Name: 3, expecting 4\n",
      "WARNING: Entity <bound method Dense.call of <tensorflow.python.layers.core.Dense object at 0x0000022325C48CF8>> could not be transformed and will be executed as-is. Please report this to the AutgoGraph team. When filing the bug, set the verbosity to 10 (on Linux, `export AUTOGRAPH_VERBOSITY=10`) and attach the full output. Cause: converting <bound method Dense.call of <tensorflow.python.layers.core.Dense object at 0x0000022325C48CF8>>: AssertionError: Bad argument number for Name: 3, expecting 4\n",
      "WARNING: Entity <bound method Dense.call of <tensorflow.python.layers.core.Dense object at 0x0000022317CE0EF0>> could not be transformed and will be executed as-is. Please report this to the AutgoGraph team. When filing the bug, set the verbosity to 10 (on Linux, `export AUTOGRAPH_VERBOSITY=10`) and attach the full output. Cause: converting <bound method Dense.call of <tensorflow.python.layers.core.Dense object at 0x0000022317CE0EF0>>: AssertionError: Bad argument number for Name: 3, expecting 4\n",
      "WARNING: Entity <bound method Dense.call of <tensorflow.python.layers.core.Dense object at 0x0000022317CE0EF0>> could not be transformed and will be executed as-is. Please report this to the AutgoGraph team. When filing the bug, set the verbosity to 10 (on Linux, `export AUTOGRAPH_VERBOSITY=10`) and attach the full output. Cause: converting <bound method Dense.call of <tensorflow.python.layers.core.Dense object at 0x0000022317CE0EF0>>: AssertionError: Bad argument number for Name: 3, expecting 4\n",
      "WARNING: Entity <bound method Dense.call of <tensorflow.python.layers.core.Dense object at 0x0000022317CE0EF0>> could not be transformed and will be executed as-is. Please report this to the AutgoGraph team. When filing the bug, set the verbosity to 10 (on Linux, `export AUTOGRAPH_VERBOSITY=10`) and attach the full output. Cause: converting <bound method Dense.call of <tensorflow.python.layers.core.Dense object at 0x0000022317CE0EF0>>: AssertionError: Bad argument number for Name: 3, expecting 4\n",
      "WARNING: Entity <bound method Dense.call of <tensorflow.python.layers.core.Dense object at 0x0000022323AFC9E8>> could not be transformed and will be executed as-is. Please report this to the AutgoGraph team. When filing the bug, set the verbosity to 10 (on Linux, `export AUTOGRAPH_VERBOSITY=10`) and attach the full output. Cause: converting <bound method Dense.call of <tensorflow.python.layers.core.Dense object at 0x0000022323AFC9E8>>: AssertionError: Bad argument number for Name: 3, expecting 4\n",
      "WARNING: Entity <bound method Dense.call of <tensorflow.python.layers.core.Dense object at 0x0000022322E82860>> could not be transformed and will be executed as-is. Please report this to the AutgoGraph team. When filing the bug, set the verbosity to 10 (on Linux, `export AUTOGRAPH_VERBOSITY=10`) and attach the full output. Cause: converting <bound method Dense.call of <tensorflow.python.layers.core.Dense object at 0x0000022322E82860>>: AssertionError: Bad argument number for Name: 3, expecting 4\n",
      "WARNING: Entity <bound method Dense.call of <tensorflow.python.layers.core.Dense object at 0x0000022325B2C8D0>> could not be transformed and will be executed as-is. Please report this to the AutgoGraph team. When filing the bug, set the verbosity to 10 (on Linux, `export AUTOGRAPH_VERBOSITY=10`) and attach the full output. Cause: converting <bound method Dense.call of <tensorflow.python.layers.core.Dense object at 0x0000022325B2C8D0>>: AssertionError: Bad argument number for Name: 3, expecting 4\n",
      "WARNING: Entity <bound method Dense.call of <tensorflow.python.layers.core.Dense object at 0x0000022325B2C8D0>> could not be transformed and will be executed as-is. Please report this to the AutgoGraph team. When filing the bug, set the verbosity to 10 (on Linux, `export AUTOGRAPH_VERBOSITY=10`) and attach the full output. Cause: converting <bound method Dense.call of <tensorflow.python.layers.core.Dense object at 0x0000022325B2C8D0>>: AssertionError: Bad argument number for Name: 3, expecting 4\n",
      "WARNING: Entity <bound method Dense.call of <tensorflow.python.layers.core.Dense object at 0x0000022325B2C8D0>> could not be transformed and will be executed as-is. Please report this to the AutgoGraph team. When filing the bug, set the verbosity to 10 (on Linux, `export AUTOGRAPH_VERBOSITY=10`) and attach the full output. Cause: converting <bound method Dense.call of <tensorflow.python.layers.core.Dense object at 0x0000022325B2C8D0>>: AssertionError: Bad argument number for Name: 3, expecting 4\n"
     ]
    }
   ],
   "source": [
    "reconstructed = gmvae.reconstruct_data(valdata)"
   ]
  },
  {
   "cell_type": "code",
   "execution_count": 22,
   "metadata": {},
   "outputs": [],
   "source": [
    "ind=209"
   ]
  },
  {
   "cell_type": "code",
   "execution_count": 23,
   "metadata": {},
   "outputs": [],
   "source": [
    "tra1=reconstructed[ind].reshape(50, 2)"
   ]
  },
  {
   "cell_type": "code",
   "execution_count": 24,
   "metadata": {},
   "outputs": [],
   "source": [
    "new_tra1=revScale(tra1)"
   ]
  },
  {
   "cell_type": "code",
   "execution_count": 25,
   "metadata": {},
   "outputs": [],
   "source": [
    "tra1_or=valdata[ind].reshape(50,2)"
   ]
  },
  {
   "cell_type": "code",
   "execution_count": 26,
   "metadata": {},
   "outputs": [],
   "source": [
    "tra1_or=revScale(tra1_or)"
   ]
  },
  {
   "cell_type": "code",
   "execution_count": 27,
   "metadata": {},
   "outputs": [],
   "source": [
    "pd.DataFrame(tra1_or,columns=['lat','lon']).to_csv(f\"./generatetest/or_{ind}.csv\")"
   ]
  },
  {
   "cell_type": "code",
   "execution_count": 28,
   "metadata": {},
   "outputs": [],
   "source": [
    "pd.DataFrame(new_tra1,columns=['lat','lon']).to_csv(f\"./generatetest/new_{ind}.csv\")"
   ]
  },
  {
   "cell_type": "code",
   "execution_count": 13,
   "metadata": {},
   "outputs": [
    {
     "data": {
      "text/plain": [
       "0.014685261441497273"
      ]
     },
     "execution_count": 13,
     "metadata": {},
     "output_type": "execute_result"
    }
   ],
   "source": [
    "mdf(tra1_or,new_tra1)"
   ]
  },
  {
   "cell_type": "code",
   "execution_count": 45,
   "metadata": {},
   "outputs": [],
   "source": [
    "wr=pd.read_csv(\"wr.csv\",index_col=0)"
   ]
  },
  {
   "cell_type": "code",
   "execution_count": 210,
   "metadata": {},
   "outputs": [
    {
     "data": {
      "text/plain": [
       "0.009703701828518773"
      ]
     },
     "execution_count": 210,
     "metadata": {},
     "output_type": "execute_result"
    }
   ],
   "source": [
    "mdf(tra1_or,new_tra1)"
   ]
  },
  {
   "cell_type": "code",
   "execution_count": 211,
   "metadata": {},
   "outputs": [
    {
     "data": {
      "text/plain": [
       "0.4523026149061309"
      ]
     },
     "execution_count": 211,
     "metadata": {},
     "output_type": "execute_result"
    }
   ],
   "source": [
    "dtw(tra1_or,new_tra1)[0]"
   ]
  },
  {
   "cell_type": "code",
   "execution_count": 54,
   "metadata": {},
   "outputs": [
    {
     "data": {
      "text/plain": [
       "0.46914546797847834"
      ]
     },
     "execution_count": 54,
     "metadata": {},
     "output_type": "execute_result"
    }
   ],
   "source": [
    "dtw(tra1_or,np.array(wr))[0]"
   ]
  },
  {
   "cell_type": "code",
   "execution_count": 5,
   "metadata": {},
   "outputs": [
    {
     "data": {
      "text/plain": [
       "(500, 100)"
      ]
     },
     "execution_count": 5,
     "metadata": {},
     "output_type": "execute_result"
    }
   ],
   "source": [
    "test_data.shape"
   ]
  },
  {
   "cell_type": "code",
   "execution_count": 1,
   "metadata": {},
   "outputs": [
    {
     "ename": "NameError",
     "evalue": "name 'np' is not defined",
     "output_type": "error",
     "traceback": [
      "\u001b[1;31m---------------------------------------------------------------------------\u001b[0m",
      "\u001b[1;31mNameError\u001b[0m                                 Traceback (most recent call last)",
      "\u001b[1;32m<ipython-input-1-a22069ea96a1>\u001b[0m in \u001b[0;36m<module>\u001b[1;34m\u001b[0m\n\u001b[1;32m----> 1\u001b[1;33m \u001b[0mtest5\u001b[0m\u001b[1;33m=\u001b[0m\u001b[0mnp\u001b[0m\u001b[1;33m.\u001b[0m\u001b[0mload\u001b[0m\u001b[1;33m(\u001b[0m\u001b[1;34m\"x_test5.npy\"\u001b[0m\u001b[1;33m)\u001b[0m\u001b[1;33m\u001b[0m\u001b[1;33m\u001b[0m\u001b[0m\n\u001b[0m",
      "\u001b[1;31mNameError\u001b[0m: name 'np' is not defined"
     ]
    }
   ],
   "source": []
  },
  {
   "cell_type": "code",
   "execution_count": null,
   "metadata": {},
   "outputs": [],
   "source": []
  }
 ],
 "metadata": {
  "kernelspec": {
   "display_name": "Python 3.6.10 64-bit ('BY': conda)",
   "language": "python",
   "name": "python361064bitbyconda18ff7c5a2a8f40299e86077d23ec30cd"
  },
  "language_info": {
   "codemirror_mode": {
    "name": "ipython",
    "version": 3
   },
   "file_extension": ".py",
   "mimetype": "text/x-python",
   "name": "python",
   "nbconvert_exporter": "python",
   "pygments_lexer": "ipython3",
   "version": "3.6.10"
  }
 },
 "nbformat": 4,
 "nbformat_minor": 4
}
