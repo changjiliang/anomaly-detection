{
 "cells": [
  {
   "cell_type": "code",
   "execution_count": 1,
   "metadata": {},
   "outputs": [
    {
     "name": "stderr",
     "output_type": "stream",
     "text": [
      "Using TensorFlow backend.\n"
     ]
    }
   ],
   "source": [
    "import matplotlib\n",
    "# matplotlib.use('agg')\n",
    "import pandas as pd\n",
    "from dipy.segment.metric import mdf\n",
    "from fastdtw import dtw\n",
    "matplotlib.use('TkAgg')\n",
    "import matplotlib.pyplot as plt\n",
    "import tensorflow as tf\n",
    "import numpy as np\n",
    "from keras.datasets import mnist\n",
    "from utils.partition import *\n",
    "from model.GMVAE import *\n",
    "import os\n",
    "from scipy.io import loadmat\n",
    "os.environ[\"TF_CPP_MIN_LOG_LEVEL\"]='2'\n",
    "tf.compat.v1.logging.set_verbosity(tf.compat.v1.logging.ERROR)\n",
    "from gmplot import gmplot\n",
    "import random\n",
    "random.seed(10)\n",
    "from fastdtw import dtw\n",
    "from fastdtw import fastdtw\n",
    "%matplotlib inline"
   ]
  },
  {
   "cell_type": "code",
   "execution_count": 3,
   "metadata": {
    "collapsed": true,
    "jupyter": {
     "outputs_hidden": true,
     "source_hidden": true
    }
   },
   "outputs": [
    {
     "name": "stdout",
     "output_type": "stream",
     "text": [
      "Loading mnist dataset...\n"
     ]
    },
    {
     "ename": "FileNotFoundError",
     "evalue": "[Errno 2] No such file or directory: 'test4.npy'",
     "output_type": "error",
     "traceback": [
      "\u001b[1;31m---------------------------------------------------------------------------\u001b[0m",
      "\u001b[1;31mFileNotFoundError\u001b[0m                         Traceback (most recent call last)",
      "\u001b[1;32m<ipython-input-3-a67beeb93bcd>\u001b[0m in \u001b[0;36m<module>\u001b[1;34m\u001b[0m\n\u001b[0;32m     84\u001b[0m     \u001b[0mx_train\u001b[0m\u001b[1;33m=\u001b[0m\u001b[0mnp\u001b[0m\u001b[1;33m.\u001b[0m\u001b[0mload\u001b[0m\u001b[1;33m(\u001b[0m\u001b[1;34m\"x_scale4.npy\"\u001b[0m\u001b[1;33m)\u001b[0m\u001b[1;33m\u001b[0m\u001b[1;33m\u001b[0m\u001b[0m\n\u001b[0;32m     85\u001b[0m     \u001b[0my_train\u001b[0m\u001b[1;33m=\u001b[0m\u001b[0mnp\u001b[0m\u001b[1;33m.\u001b[0m\u001b[0mload\u001b[0m\u001b[1;33m(\u001b[0m\u001b[1;34m\"y_label4.npy\"\u001b[0m\u001b[1;33m)\u001b[0m\u001b[1;33m\u001b[0m\u001b[1;33m\u001b[0m\u001b[0m\n\u001b[1;32m---> 86\u001b[1;33m     \u001b[0mx_test\u001b[0m \u001b[1;33m=\u001b[0m  \u001b[0mnp\u001b[0m\u001b[1;33m.\u001b[0m\u001b[0mload\u001b[0m\u001b[1;33m(\u001b[0m\u001b[1;34m\"test4.npy\"\u001b[0m\u001b[1;33m)\u001b[0m\u001b[1;33m\u001b[0m\u001b[1;33m\u001b[0m\u001b[0m\n\u001b[0m\u001b[0;32m     87\u001b[0m     \u001b[0my_test\u001b[0m \u001b[1;33m=\u001b[0m  \u001b[0mnp\u001b[0m\u001b[1;33m.\u001b[0m\u001b[0mload\u001b[0m\u001b[1;33m(\u001b[0m\u001b[1;34m\"y_test4.npy\"\u001b[0m\u001b[1;33m)\u001b[0m\u001b[1;33m\u001b[0m\u001b[1;33m\u001b[0m\u001b[0m\n\u001b[0;32m     88\u001b[0m \u001b[1;33m\u001b[0m\u001b[0m\n",
      "\u001b[1;32mC:\\software\\Anaconda3\\envs\\BY\\lib\\site-packages\\numpy\\lib\\npyio.py\u001b[0m in \u001b[0;36mload\u001b[1;34m(file, mmap_mode, allow_pickle, fix_imports, encoding)\u001b[0m\n\u001b[0;32m    382\u001b[0m     \u001b[0mown_fid\u001b[0m \u001b[1;33m=\u001b[0m \u001b[1;32mFalse\u001b[0m\u001b[1;33m\u001b[0m\u001b[1;33m\u001b[0m\u001b[0m\n\u001b[0;32m    383\u001b[0m     \u001b[1;32mif\u001b[0m \u001b[0misinstance\u001b[0m\u001b[1;33m(\u001b[0m\u001b[0mfile\u001b[0m\u001b[1;33m,\u001b[0m \u001b[0mbasestring\u001b[0m\u001b[1;33m)\u001b[0m\u001b[1;33m:\u001b[0m\u001b[1;33m\u001b[0m\u001b[1;33m\u001b[0m\u001b[0m\n\u001b[1;32m--> 384\u001b[1;33m         \u001b[0mfid\u001b[0m \u001b[1;33m=\u001b[0m \u001b[0mopen\u001b[0m\u001b[1;33m(\u001b[0m\u001b[0mfile\u001b[0m\u001b[1;33m,\u001b[0m \u001b[1;34m\"rb\"\u001b[0m\u001b[1;33m)\u001b[0m\u001b[1;33m\u001b[0m\u001b[1;33m\u001b[0m\u001b[0m\n\u001b[0m\u001b[0;32m    385\u001b[0m         \u001b[0mown_fid\u001b[0m \u001b[1;33m=\u001b[0m \u001b[1;32mTrue\u001b[0m\u001b[1;33m\u001b[0m\u001b[1;33m\u001b[0m\u001b[0m\n\u001b[0;32m    386\u001b[0m     \u001b[1;32melif\u001b[0m \u001b[0mis_pathlib_path\u001b[0m\u001b[1;33m(\u001b[0m\u001b[0mfile\u001b[0m\u001b[1;33m)\u001b[0m\u001b[1;33m:\u001b[0m\u001b[1;33m\u001b[0m\u001b[1;33m\u001b[0m\u001b[0m\n",
      "\u001b[1;31mFileNotFoundError\u001b[0m: [Errno 2] No such file or directory: 'test4.npy'"
     ]
    }
   ],
   "source": [
    "def del_all_flags(FLAGS):\n",
    "    flags_dict = FLAGS._flags()\n",
    "    keys_list = [keys for keys in flags_dict]\n",
    "    for keys in keys_list:\n",
    "        FLAGS.__delattr__(keys)\n",
    "\n",
    "\n",
    "del_all_flags(tf.flags.FLAGS)\n",
    "\n",
    "flags = tf.flags\n",
    "PARAMETERS = flags.FLAGS\n",
    "tf.app.flags.DEFINE_string('f', '', 'kernel')\n",
    "#########################################################\n",
    "## Input Parameters\n",
    "#########################################################\n",
    "\n",
    "## Dataset\n",
    "flags.DEFINE_string('dataset', 'mnist', 'Specify the desired dataset (mnist)')\n",
    "flags.DEFINE_integer('seed', -1, 'Random Seed')\n",
    "\n",
    "## GPU\n",
    "flags.DEFINE_integer('gpu', 1, 'Using Cuda, 1 to enable')\n",
    "flags.DEFINE_integer('gpuID', 0, 'Set GPU Id to use')\n",
    "\n",
    "## Training\n",
    "flags.DEFINE_integer('batch_size', 64, 'Batch size of training data')\n",
    "flags.DEFINE_integer('num_epochs', 150, 'Number of epochs in training phase')\n",
    "flags.DEFINE_float('learning_rate', 1e-3, 'Learning rate for training')\n",
    "flags.DEFINE_float('decay_epoch', -1,\n",
    "                   'Reduces the learning rate every decay_epoch')\n",
    "flags.DEFINE_float('lr_decay', 0.5, 'Learning rate decay for training')\n",
    "\n",
    "## Architecture\n",
    "flags.DEFINE_integer('num_classes', 4, 'Number of clusters')\n",
    "flags.DEFINE_integer('gaussian_size', 64,\n",
    "                     'Size of the gaussian learnt by the network')\n",
    "\n",
    "## Partition parameters\n",
    "flags.DEFINE_float(\n",
    "    'train_proportion', 1.0,\n",
    "    'Proportion of examples to consider for training only  (0.0-1.0)')\n",
    "flags.DEFINE_integer('batch_size_val', 50, 'Batch size of validation data')\n",
    "flags.DEFINE_integer('batch_size_test', 50, 'Batch size of test data')\n",
    "\n",
    "## Gumbel parameters\n",
    "flags.DEFINE_float(\n",
    "    'temperature', 1.0,\n",
    "    'Initial temperature used in gumbel-softmax (recommended 0.5-1.0)')\n",
    "flags.DEFINE_integer('decay_temperature', 1,\n",
    "                     'Set 1 to decay gumbel temperature at every epoch')\n",
    "flags.DEFINE_integer('hard_gumbel', 0, 'Hard version of gumbel-softmax')\n",
    "flags.DEFINE_float('min_temperature', 0.5,\n",
    "                   'Minimum temperature of gumbel-softmax after annealing')\n",
    "flags.DEFINE_float('decay_temp_rate', 0.00693,\n",
    "                   'Temperature decay rate at every epoch')\n",
    "\n",
    "## Loss function parameters\n",
    "flags.DEFINE_string('loss_type', 'bce',\n",
    "                    'Desired loss function to train (mse, bce)')\n",
    "flags.DEFINE_float('w_gaussian', 1.0, 'Weight of Gaussian regularization')\n",
    "flags.DEFINE_float('w_categorical', 1.0,\n",
    "                   'Weight of Categorical regularization')\n",
    "flags.DEFINE_float('w_reconstruction', 1.0, 'Weight of Reconstruction loss')\n",
    "\n",
    "## Others\n",
    "flags.DEFINE_integer('verbose', 0, \"Print extra information at every epoch.\")\n",
    "flags.DEFINE_integer('random_search_it', 20, 'Iterations of random search')\n",
    "\n",
    "if PARAMETERS.gpu == 1:\n",
    "    os.environ[\"CUDA_VISIBLE_DEVICES\"] = str(PARAMETERS.gpuID)\n",
    "\n",
    "if PARAMETERS.seed < 0:\n",
    "    np.random.seed(None)\n",
    "else:\n",
    "    np.random.seed(PARAMETERS.seed)\n",
    "\n",
    "#########################################################\n",
    "## Read Data\n",
    "#########################################################\n",
    "if PARAMETERS.dataset == \"mnist\":\n",
    "    print(\"Loading mnist dataset...\")\n",
    "    # load mnist data\n",
    "    # (x_train, y_train), (x_test, y_test) = mnist.load_data()\n",
    "    x_train=np.load(\"x_scale4.npy\")\n",
    "    y_train=np.load(\"y_label4.npy\")\n",
    "    x_test =  np.load(\"test4.npy\")\n",
    "    y_test =  np.load(\"y_test4.npy\")\n",
    "\n",
    "    # x_train = x_train / 255.0\n",
    "    # x_test = x_test / 255.0\n",
    "else:\n",
    "    raise \"invalid dataset, valid datasets are: mnist\"\n",
    "\n",
    "## Set datatypes\n",
    "x_train = x_train.astype(np.float32)\n",
    "x_test = x_test.astype(np.float32)\n",
    "y_train = y_train.astype(np.int64)\n",
    "y_test = y_test.astype(np.int64)\n",
    "\n",
    "## Flatten data\n",
    "x_train = flatten_array(x_train)\n",
    "x_test = flatten_array(x_test)\n",
    "\n",
    "#########################################################\n",
    "## Data Partition\n",
    "#########################################################\n",
    "test_data, test_labels = x_test, y_test\n",
    "\n",
    "if PARAMETERS.train_proportion == 1.0:\n",
    "    train_data, train_labels, val_data, val_labels = x_train, y_train, x_test, y_test\n",
    "else:\n",
    "    train_data, train_labels, val_data, val_labels = partition_train_val(\n",
    "        x_train, y_train, PARAMETERS.train_proportion, PARAMETERS.num_classes)\n",
    "\n",
    "if PARAMETERS.verbose == 1:\n",
    "    print(\"Train size: %dx%d\" % (train_data.shape[0], train_data.shape[1]))\n",
    "    if PARAMETERS.train_proportion < 1.0:\n",
    "        print(\"Validation size: %dx%d\" %\n",
    "              (val_data.shape[0], val_data.shape[1]))\n",
    "    print(\"Test size: %dx%d\" % (test_data.shape[0], test_data.shape[1]))\n",
    "\n",
    "#########################################################\n",
    "## Train and Test Model\n",
    "#########################################################\n",
    "tf.reset_default_graph()\n",
    "if PARAMETERS.seed > -1:\n",
    "    tf.set_random_seed(PARAMETERS.seed)\n",
    "\n",
    "## Model Initialization\n",
    "gmvae = GMVAE(PARAMETERS)\n",
    "\n",
    "## Training Phase\n",
    "history_loss = gmvae.train(train_data, train_labels, val_data, val_labels)\n",
    "\n",
    "## Testing Phase\n",
    "accuracy, nmi = gmvae.test(test_data, test_labels, PARAMETERS.batch_size_test)\n",
    "\n",
    "print(\"Testing phase...\")\n",
    "print(\"Accuracy: %.5lf,  NMI: %.5lf\" % (accuracy, nmi))\n"
   ]
  },
  {
   "cell_type": "code",
   "execution_count": 2,
   "metadata": {
    "collapsed": true,
    "jupyter": {
     "outputs_hidden": true
    }
   },
   "outputs": [
    {
     "name": "stdout",
     "output_type": "stream",
     "text": [
      "Loading mnist dataset...\n",
      "WARNING: Entity <bound method Dense.call of <tensorflow.python.layers.core.Dense object at 0x00000253B049E9E8>> could not be transformed and will be executed as-is. Please report this to the AutgoGraph team. When filing the bug, set the verbosity to 10 (on Linux, `export AUTOGRAPH_VERBOSITY=10`) and attach the full output. Cause: converting <bound method Dense.call of <tensorflow.python.layers.core.Dense object at 0x00000253B049E9E8>>: AssertionError: Bad argument number for Name: 3, expecting 4\n",
      "WARNING: Entity <bound method Dense.call of <tensorflow.python.layers.core.Dense object at 0x00000253B049E6D8>> could not be transformed and will be executed as-is. Please report this to the AutgoGraph team. When filing the bug, set the verbosity to 10 (on Linux, `export AUTOGRAPH_VERBOSITY=10`) and attach the full output. Cause: converting <bound method Dense.call of <tensorflow.python.layers.core.Dense object at 0x00000253B049E6D8>>: AssertionError: Bad argument number for Name: 3, expecting 4\n",
      "WARNING: Entity <bound method Dense.call of <tensorflow.python.layers.core.Dense object at 0x00000253B060B898>> could not be transformed and will be executed as-is. Please report this to the AutgoGraph team. When filing the bug, set the verbosity to 10 (on Linux, `export AUTOGRAPH_VERBOSITY=10`) and attach the full output. Cause: converting <bound method Dense.call of <tensorflow.python.layers.core.Dense object at 0x00000253B060B898>>: AssertionError: Bad argument number for Name: 3, expecting 4\n",
      "WARNING: Entity <bound method Dense.call of <tensorflow.python.layers.core.Dense object at 0x00000253B06196A0>> could not be transformed and will be executed as-is. Please report this to the AutgoGraph team. When filing the bug, set the verbosity to 10 (on Linux, `export AUTOGRAPH_VERBOSITY=10`) and attach the full output. Cause: converting <bound method Dense.call of <tensorflow.python.layers.core.Dense object at 0x00000253B06196A0>>: AssertionError: Bad argument number for Name: 3, expecting 4\n",
      "WARNING: Entity <bound method Dense.call of <tensorflow.python.layers.core.Dense object at 0x00000253B06196A0>> could not be transformed and will be executed as-is. Please report this to the AutgoGraph team. When filing the bug, set the verbosity to 10 (on Linux, `export AUTOGRAPH_VERBOSITY=10`) and attach the full output. Cause: converting <bound method Dense.call of <tensorflow.python.layers.core.Dense object at 0x00000253B06196A0>>: AssertionError: Bad argument number for Name: 3, expecting 4\n",
      "WARNING: Entity <bound method Dense.call of <tensorflow.python.layers.core.Dense object at 0x00000253B06196A0>> could not be transformed and will be executed as-is. Please report this to the AutgoGraph team. When filing the bug, set the verbosity to 10 (on Linux, `export AUTOGRAPH_VERBOSITY=10`) and attach the full output. Cause: converting <bound method Dense.call of <tensorflow.python.layers.core.Dense object at 0x00000253B06196A0>>: AssertionError: Bad argument number for Name: 3, expecting 4\n",
      "WARNING: Entity <bound method Dense.call of <tensorflow.python.layers.core.Dense object at 0x00000253B06196A0>> could not be transformed and will be executed as-is. Please report this to the AutgoGraph team. When filing the bug, set the verbosity to 10 (on Linux, `export AUTOGRAPH_VERBOSITY=10`) and attach the full output. Cause: converting <bound method Dense.call of <tensorflow.python.layers.core.Dense object at 0x00000253B06196A0>>: AssertionError: Bad argument number for Name: 3, expecting 4\n",
      "WARNING: Entity <bound method Dense.call of <tensorflow.python.layers.core.Dense object at 0x00000253B049E860>> could not be transformed and will be executed as-is. Please report this to the AutgoGraph team. When filing the bug, set the verbosity to 10 (on Linux, `export AUTOGRAPH_VERBOSITY=10`) and attach the full output. Cause: converting <bound method Dense.call of <tensorflow.python.layers.core.Dense object at 0x00000253B049E860>>: AssertionError: Bad argument number for Name: 3, expecting 4\n",
      "WARNING: Entity <bound method Dense.call of <tensorflow.python.layers.core.Dense object at 0x00000253B049E860>> could not be transformed and will be executed as-is. Please report this to the AutgoGraph team. When filing the bug, set the verbosity to 10 (on Linux, `export AUTOGRAPH_VERBOSITY=10`) and attach the full output. Cause: converting <bound method Dense.call of <tensorflow.python.layers.core.Dense object at 0x00000253B049E860>>: AssertionError: Bad argument number for Name: 3, expecting 4\n",
      "WARNING: Entity <bound method Dense.call of <tensorflow.python.layers.core.Dense object at 0x00000253B06196A0>> could not be transformed and will be executed as-is. Please report this to the AutgoGraph team. When filing the bug, set the verbosity to 10 (on Linux, `export AUTOGRAPH_VERBOSITY=10`) and attach the full output. Cause: converting <bound method Dense.call of <tensorflow.python.layers.core.Dense object at 0x00000253B06196A0>>: AssertionError: Bad argument number for Name: 3, expecting 4\n",
      "WARNING: Entity <bound method Dense.call of <tensorflow.python.layers.core.Dense object at 0x00000253B06196A0>> could not be transformed and will be executed as-is. Please report this to the AutgoGraph team. When filing the bug, set the verbosity to 10 (on Linux, `export AUTOGRAPH_VERBOSITY=10`) and attach the full output. Cause: converting <bound method Dense.call of <tensorflow.python.layers.core.Dense object at 0x00000253B06196A0>>: AssertionError: Bad argument number for Name: 3, expecting 4\n",
      "WARNING: Entity <bound method Dense.call of <tensorflow.python.layers.core.Dense object at 0x00000253B06196A0>> could not be transformed and will be executed as-is. Please report this to the AutgoGraph team. When filing the bug, set the verbosity to 10 (on Linux, `export AUTOGRAPH_VERBOSITY=10`) and attach the full output. Cause: converting <bound method Dense.call of <tensorflow.python.layers.core.Dense object at 0x00000253B06196A0>>: AssertionError: Bad argument number for Name: 3, expecting 4\n",
      "WARNING: Entity <bound method Dense.call of <tensorflow.python.layers.core.Dense object at 0x00000253B0BF1C88>> could not be transformed and will be executed as-is. Please report this to the AutgoGraph team. When filing the bug, set the verbosity to 10 (on Linux, `export AUTOGRAPH_VERBOSITY=10`) and attach the full output. Cause: converting <bound method Dense.call of <tensorflow.python.layers.core.Dense object at 0x00000253B0BF1C88>>: AssertionError: Bad argument number for Name: 3, expecting 4\n",
      "WARNING: Entity <bound method Dense.call of <tensorflow.python.layers.core.Dense object at 0x00000253B13B16D8>> could not be transformed and will be executed as-is. Please report this to the AutgoGraph team. When filing the bug, set the verbosity to 10 (on Linux, `export AUTOGRAPH_VERBOSITY=10`) and attach the full output. Cause: converting <bound method Dense.call of <tensorflow.python.layers.core.Dense object at 0x00000253B13B16D8>>: AssertionError: Bad argument number for Name: 3, expecting 4\n",
      "WARNING: Entity <bound method Dense.call of <tensorflow.python.layers.core.Dense object at 0x00000253B13B16D8>> could not be transformed and will be executed as-is. Please report this to the AutgoGraph team. When filing the bug, set the verbosity to 10 (on Linux, `export AUTOGRAPH_VERBOSITY=10`) and attach the full output. Cause: converting <bound method Dense.call of <tensorflow.python.layers.core.Dense object at 0x00000253B13B16D8>>: AssertionError: Bad argument number for Name: 3, expecting 4\n",
      "WARNING: Entity <bound method Dense.call of <tensorflow.python.layers.core.Dense object at 0x00000253B11B9BE0>> could not be transformed and will be executed as-is. Please report this to the AutgoGraph team. When filing the bug, set the verbosity to 10 (on Linux, `export AUTOGRAPH_VERBOSITY=10`) and attach the full output. Cause: converting <bound method Dense.call of <tensorflow.python.layers.core.Dense object at 0x00000253B11B9BE0>>: AssertionError: Bad argument number for Name: 3, expecting 4\n",
      "WARNING: Entity <bound method Dense.call of <tensorflow.python.layers.core.Dense object at 0x00000253B11B9BE0>> could not be transformed and will be executed as-is. Please report this to the AutgoGraph team. When filing the bug, set the verbosity to 10 (on Linux, `export AUTOGRAPH_VERBOSITY=10`) and attach the full output. Cause: converting <bound method Dense.call of <tensorflow.python.layers.core.Dense object at 0x00000253B11B9BE0>>: AssertionError: Bad argument number for Name: 3, expecting 4\n",
      "WARNING: Entity <bound method Dense.call of <tensorflow.python.layers.core.Dense object at 0x00000253B1338DA0>> could not be transformed and will be executed as-is. Please report this to the AutgoGraph team. When filing the bug, set the verbosity to 10 (on Linux, `export AUTOGRAPH_VERBOSITY=10`) and attach the full output. Cause: converting <bound method Dense.call of <tensorflow.python.layers.core.Dense object at 0x00000253B1338DA0>>: AssertionError: Bad argument number for Name: 3, expecting 4\n",
      "WARNING: Entity <bound method Dense.call of <tensorflow.python.layers.core.Dense object at 0x00000253B1338DA0>> could not be transformed and will be executed as-is. Please report this to the AutgoGraph team. When filing the bug, set the verbosity to 10 (on Linux, `export AUTOGRAPH_VERBOSITY=10`) and attach the full output. Cause: converting <bound method Dense.call of <tensorflow.python.layers.core.Dense object at 0x00000253B1338DA0>>: AssertionError: Bad argument number for Name: 3, expecting 4\n",
      "WARNING: Entity <bound method Dense.call of <tensorflow.python.layers.core.Dense object at 0x00000253B0C06CC0>> could not be transformed and will be executed as-is. Please report this to the AutgoGraph team. When filing the bug, set the verbosity to 10 (on Linux, `export AUTOGRAPH_VERBOSITY=10`) and attach the full output. Cause: converting <bound method Dense.call of <tensorflow.python.layers.core.Dense object at 0x00000253B0C06CC0>>: AssertionError: Bad argument number for Name: 3, expecting 4\n",
      "WARNING: Entity <bound method Dense.call of <tensorflow.python.layers.core.Dense object at 0x00000253B0C06CC0>> could not be transformed and will be executed as-is. Please report this to the AutgoGraph team. When filing the bug, set the verbosity to 10 (on Linux, `export AUTOGRAPH_VERBOSITY=10`) and attach the full output. Cause: converting <bound method Dense.call of <tensorflow.python.layers.core.Dense object at 0x00000253B0C06CC0>>: AssertionError: Bad argument number for Name: 3, expecting 4\n",
      "WARNING: Entity <bound method Dense.call of <tensorflow.python.layers.core.Dense object at 0x00000253B1338DA0>> could not be transformed and will be executed as-is. Please report this to the AutgoGraph team. When filing the bug, set the verbosity to 10 (on Linux, `export AUTOGRAPH_VERBOSITY=10`) and attach the full output. Cause: converting <bound method Dense.call of <tensorflow.python.layers.core.Dense object at 0x00000253B1338DA0>>: AssertionError: Bad argument number for Name: 3, expecting 4\n",
      "WARNING: Entity <bound method Dense.call of <tensorflow.python.layers.core.Dense object at 0x00000253B1146D68>> could not be transformed and will be executed as-is. Please report this to the AutgoGraph team. When filing the bug, set the verbosity to 10 (on Linux, `export AUTOGRAPH_VERBOSITY=10`) and attach the full output. Cause: converting <bound method Dense.call of <tensorflow.python.layers.core.Dense object at 0x00000253B1146D68>>: AssertionError: Bad argument number for Name: 3, expecting 4\n",
      "WARNING: Entity <bound method Dense.call of <tensorflow.python.layers.core.Dense object at 0x00000253B1338DA0>> could not be transformed and will be executed as-is. Please report this to the AutgoGraph team. When filing the bug, set the verbosity to 10 (on Linux, `export AUTOGRAPH_VERBOSITY=10`) and attach the full output. Cause: converting <bound method Dense.call of <tensorflow.python.layers.core.Dense object at 0x00000253B1338DA0>>: AssertionError: Bad argument number for Name: 3, expecting 4\n",
      "Training phase...\n",
      "(Epoch 1 / 100) Train Loss: 62.82449; Val Loss: 62.57327   Train ACC: 0.31281; Val ACC: 0.40000   Train NMI: 0.07466; Val NMI: 0.43735\n",
      "(Epoch 2 / 100) Train Loss: 61.73532; Val Loss: 62.30460   Train ACC: 0.34712; Val ACC: 0.47600   Train NMI: 0.11184; Val NMI: 0.48267\n",
      "(Epoch 3 / 100) Train Loss: 61.15344; Val Loss: 61.28824   Train ACC: 0.41360; Val ACC: 0.41600   Train NMI: 0.36142; Val NMI: 0.46609\n",
      "(Epoch 4 / 100) Train Loss: 60.74781; Val Loss: 60.99937   Train ACC: 0.45619; Val ACC: 0.53000   Train NMI: 0.38856; Val NMI: 0.56560\n",
      "(Epoch 5 / 100) Train Loss: 60.39565; Val Loss: 60.62876   Train ACC: 0.49847; Val ACC: 0.54400   Train NMI: 0.43378; Val NMI: 0.58599\n",
      "(Epoch 6 / 100) Train Loss: 60.14208; Val Loss: 60.21232   Train ACC: 0.55270; Val ACC: 0.58600   Train NMI: 0.49031; Val NMI: 0.66713\n",
      "(Epoch 7 / 100) Train Loss: 59.85439; Val Loss: 60.11159   Train ACC: 0.63143; Val ACC: 0.69600   Train NMI: 0.57312; Val NMI: 0.66108\n",
      "(Epoch 8 / 100) Train Loss: 59.79220; Val Loss: 59.96074   Train ACC: 0.67157; Val ACC: 0.75400   Train NMI: 0.55367; Val NMI: 0.76312\n",
      "(Epoch 9 / 100) Train Loss: 59.67838; Val Loss: 59.99372   Train ACC: 0.70404; Val ACC: 0.76000   Train NMI: 0.60919; Val NMI: 0.76523\n",
      "(Epoch 10 / 100) Train Loss: 59.56737; Val Loss: 59.97794   Train ACC: 0.73254; Val ACC: 0.63200   Train NMI: 0.62216; Val NMI: 0.64841\n",
      "(Epoch 11 / 100) Train Loss: 59.47368; Val Loss: 59.67561   Train ACC: 0.70558; Val ACC: 0.68400   Train NMI: 0.60526; Val NMI: 0.70757\n",
      "(Epoch 12 / 100) Train Loss: 59.45768; Val Loss: 59.69074   Train ACC: 0.66238; Val ACC: 0.64400   Train NMI: 0.58347; Val NMI: 0.69200\n",
      "(Epoch 13 / 100) Train Loss: 59.43190; Val Loss: 59.85175   Train ACC: 0.70006; Val ACC: 0.63200   Train NMI: 0.62637; Val NMI: 0.69362\n",
      "(Epoch 14 / 100) Train Loss: 59.31247; Val Loss: 59.74597   Train ACC: 0.70312; Val ACC: 0.64400   Train NMI: 0.64509; Val NMI: 0.68040\n",
      "(Epoch 15 / 100) Train Loss: 59.35736; Val Loss: 59.67591   Train ACC: 0.71048; Val ACC: 0.72200   Train NMI: 0.64673; Val NMI: 0.72817\n",
      "(Epoch 16 / 100) Train Loss: 59.30754; Val Loss: 59.45639   Train ACC: 0.67831; Val ACC: 0.74000   Train NMI: 0.60727; Val NMI: 0.72316\n",
      "(Epoch 17 / 100) Train Loss: 59.15846; Val Loss: 59.42494   Train ACC: 0.67494; Val ACC: 0.75600   Train NMI: 0.61412; Val NMI: 0.73899\n",
      "(Epoch 18 / 100) Train Loss: 59.18827; Val Loss: 59.43501   Train ACC: 0.64951; Val ACC: 0.68200   Train NMI: 0.61201; Val NMI: 0.69842\n",
      "(Epoch 19 / 100) Train Loss: 59.20133; Val Loss: 59.27150   Train ACC: 0.66146; Val ACC: 0.62000   Train NMI: 0.60668; Val NMI: 0.63468\n",
      "(Epoch 20 / 100) Train Loss: 59.08445; Val Loss: 59.26047   Train ACC: 0.67800; Val ACC: 0.63800   Train NMI: 0.61195; Val NMI: 0.66649\n",
      "(Epoch 21 / 100) Train Loss: 59.04557; Val Loss: 59.29353   Train ACC: 0.71140; Val ACC: 0.79200   Train NMI: 0.66207; Val NMI: 0.81235\n",
      "(Epoch 22 / 100) Train Loss: 58.97588; Val Loss: 59.16081   Train ACC: 0.72243; Val ACC: 0.76200   Train NMI: 0.66948; Val NMI: 0.75149\n",
      "(Epoch 23 / 100) Train Loss: 58.98205; Val Loss: 59.09383   Train ACC: 0.69638; Val ACC: 0.79200   Train NMI: 0.65825; Val NMI: 0.81882\n",
      "(Epoch 24 / 100) Train Loss: 58.90010; Val Loss: 59.04817   Train ACC: 0.73131; Val ACC: 0.79000   Train NMI: 0.68856; Val NMI: 0.84819\n",
      "(Epoch 25 / 100) Train Loss: 58.83217; Val Loss: 58.99627   Train ACC: 0.73989; Val ACC: 0.77400   Train NMI: 0.70283; Val NMI: 0.79133\n",
      "(Epoch 26 / 100) Train Loss: 58.78701; Val Loss: 58.87788   Train ACC: 0.74969; Val ACC: 0.78800   Train NMI: 0.72940; Val NMI: 0.79405\n",
      "(Epoch 27 / 100) Train Loss: 58.81139; Val Loss: 58.86927   Train ACC: 0.70833; Val ACC: 0.94600   Train NMI: 0.72021; Val NMI: 0.88788\n",
      "(Epoch 28 / 100) Train Loss: 58.74791; Val Loss: 58.82165   Train ACC: 0.75551; Val ACC: 0.73600   Train NMI: 0.71514; Val NMI: 0.77142\n",
      "(Epoch 29 / 100) Train Loss: 58.66947; Val Loss: 58.87099   Train ACC: 0.72855; Val ACC: 0.86600   Train NMI: 0.72971; Val NMI: 0.81623\n",
      "(Epoch 30 / 100) Train Loss: 58.65273; Val Loss: 58.89738   Train ACC: 0.70190; Val ACC: 0.79000   Train NMI: 0.69806; Val NMI: 0.81838\n",
      "(Epoch 31 / 100) Train Loss: 58.64084; Val Loss: 58.78527   Train ACC: 0.70588; Val ACC: 0.79000   Train NMI: 0.70239; Val NMI: 0.82245\n",
      "(Epoch 32 / 100) Train Loss: 58.58986; Val Loss: 58.73928   Train ACC: 0.74786; Val ACC: 0.80400   Train NMI: 0.71601; Val NMI: 0.79700\n",
      "(Epoch 33 / 100) Train Loss: 58.54490; Val Loss: 58.78495   Train ACC: 0.75980; Val ACC: 0.85200   Train NMI: 0.70822; Val NMI: 0.83153\n",
      "(Epoch 34 / 100) Train Loss: 58.58635; Val Loss: 58.67018   Train ACC: 0.69700; Val ACC: 0.78000   Train NMI: 0.70161; Val NMI: 0.78772\n",
      "(Epoch 35 / 100) Train Loss: 58.55874; Val Loss: 58.75371   Train ACC: 0.69271; Val ACC: 0.79400   Train NMI: 0.71708; Val NMI: 0.87188\n",
      "(Epoch 36 / 100) Train Loss: 58.52456; Val Loss: 58.74150   Train ACC: 0.80239; Val ACC: 0.78000   Train NMI: 0.72680; Val NMI: 0.80140\n",
      "(Epoch 37 / 100) Train Loss: 58.45832; Val Loss: 58.56984   Train ACC: 0.77083; Val ACC: 0.88800   Train NMI: 0.73499; Val NMI: 0.83060\n",
      "(Epoch 38 / 100) Train Loss: 58.42769; Val Loss: 58.63000   Train ACC: 0.82782; Val ACC: 0.86800   Train NMI: 0.74352; Val NMI: 0.82305\n",
      "(Epoch 39 / 100) Train Loss: 58.43928; Val Loss: 58.66123   Train ACC: 0.71661; Val ACC: 0.79600   Train NMI: 0.71761; Val NMI: 0.82595\n",
      "(Epoch 40 / 100) Train Loss: 58.42217; Val Loss: 58.49090   Train ACC: 0.76287; Val ACC: 0.89400   Train NMI: 0.72889; Val NMI: 0.85296\n",
      "(Epoch 41 / 100) Train Loss: 58.38272; Val Loss: 58.56625   Train ACC: 0.76624; Val ACC: 0.97200   Train NMI: 0.72346; Val NMI: 0.92784\n",
      "(Epoch 42 / 100) Train Loss: 58.39071; Val Loss: 58.45740   Train ACC: 0.77911; Val ACC: 0.95200   Train NMI: 0.73205; Val NMI: 0.91732\n",
      "(Epoch 43 / 100) Train Loss: 58.35033; Val Loss: 58.45786   Train ACC: 0.83762; Val ACC: 0.78000   Train NMI: 0.74802; Val NMI: 0.75275\n",
      "(Epoch 44 / 100) Train Loss: 58.39039; Val Loss: 58.53997   Train ACC: 0.81832; Val ACC: 0.88400   Train NMI: 0.71503; Val NMI: 0.85804\n",
      "(Epoch 45 / 100) Train Loss: 58.37128; Val Loss: 58.44062   Train ACC: 0.78738; Val ACC: 0.91600   Train NMI: 0.74061; Val NMI: 0.87007\n",
      "(Epoch 46 / 100) Train Loss: 58.30720; Val Loss: 58.45007   Train ACC: 0.80607; Val ACC: 0.83000   Train NMI: 0.73107; Val NMI: 0.85281\n",
      "(Epoch 47 / 100) Train Loss: 58.32652; Val Loss: 58.35126   Train ACC: 0.87531; Val ACC: 0.94400   Train NMI: 0.77470; Val NMI: 0.87477\n",
      "(Epoch 48 / 100) Train Loss: 58.29867; Val Loss: 58.39615   Train ACC: 0.90625; Val ACC: 0.86800   Train NMI: 0.83149; Val NMI: 0.84541\n",
      "(Epoch 49 / 100) Train Loss: 58.29379; Val Loss: 58.44150   Train ACC: 0.85815; Val ACC: 0.96400   Train NMI: 0.78201; Val NMI: 0.91357\n",
      "(Epoch 50 / 100) Train Loss: 58.30061; Val Loss: 58.35122   Train ACC: 0.80086; Val ACC: 0.80000   Train NMI: 0.71854; Val NMI: 0.83592\n",
      "(Epoch 51 / 100) Train Loss: 58.32191; Val Loss: 58.46479   Train ACC: 0.84099; Val ACC: 0.88000   Train NMI: 0.76059; Val NMI: 0.85683\n",
      "(Epoch 52 / 100) Train Loss: 58.30859; Val Loss: 58.35854   Train ACC: 0.88817; Val ACC: 0.90000   Train NMI: 0.80669; Val NMI: 0.83534\n",
      "(Epoch 53 / 100) Train Loss: 58.32699; Val Loss: 58.36042   Train ACC: 0.81556; Val ACC: 0.79600   Train NMI: 0.73511; Val NMI: 0.83422\n",
      "(Epoch 54 / 100) Train Loss: 58.27622; Val Loss: 58.37300   Train ACC: 0.83517; Val ACC: 0.84000   Train NMI: 0.75672; Val NMI: 0.83720\n",
      "(Epoch 55 / 100) Train Loss: 58.28226; Val Loss: 58.41729   Train ACC: 0.84957; Val ACC: 0.94600   Train NMI: 0.77436; Val NMI: 0.88586\n",
      "(Epoch 56 / 100) Train Loss: 58.28477; Val Loss: 58.37773   Train ACC: 0.89277; Val ACC: 0.91800   Train NMI: 0.80512; Val NMI: 0.86145\n",
      "(Epoch 57 / 100) Train Loss: 58.23924; Val Loss: 58.36038   Train ACC: 0.91820; Val ACC: 0.79400   Train NMI: 0.84560; Val NMI: 0.80288\n",
      "(Epoch 58 / 100) Train Loss: 58.26846; Val Loss: 58.48470   Train ACC: 0.82322; Val ACC: 0.77200   Train NMI: 0.77107; Val NMI: 0.80854\n",
      "(Epoch 59 / 100) Train Loss: 58.25903; Val Loss: 58.32674   Train ACC: 0.73928; Val ACC: 0.95800   Train NMI: 0.71520; Val NMI: 0.90596\n",
      "(Epoch 60 / 100) Train Loss: 58.23307; Val Loss: 58.37370   Train ACC: 0.88235; Val ACC: 0.92000   Train NMI: 0.78948; Val NMI: 0.86046\n",
      "(Epoch 61 / 100) Train Loss: 58.25176; Val Loss: 58.35458   Train ACC: 0.84620; Val ACC: 0.85600   Train NMI: 0.74489; Val NMI: 0.81794\n",
      "(Epoch 62 / 100) Train Loss: 58.26977; Val Loss: 58.36434   Train ACC: 0.86734; Val ACC: 0.71200   Train NMI: 0.76460; Val NMI: 0.82344\n",
      "(Epoch 63 / 100) Train Loss: 58.22398; Val Loss: 58.39841   Train ACC: 0.75643; Val ACC: 0.93400   Train NMI: 0.70730; Val NMI: 0.87842\n",
      "(Epoch 64 / 100) Train Loss: 58.24834; Val Loss: 58.33386   Train ACC: 0.89614; Val ACC: 0.97600   Train NMI: 0.81149; Val NMI: 0.93762\n",
      "(Epoch 65 / 100) Train Loss: 58.21697; Val Loss: 58.37703   Train ACC: 0.76317; Val ACC: 0.79400   Train NMI: 0.72829; Val NMI: 0.79621\n",
      "(Epoch 66 / 100) Train Loss: 58.24904; Val Loss: 58.24193   Train ACC: 0.84222; Val ACC: 0.80000   Train NMI: 0.77897; Val NMI: 0.86475\n",
      "(Epoch 67 / 100) Train Loss: 58.24192; Val Loss: 58.33001   Train ACC: 0.85692; Val ACC: 0.83800   Train NMI: 0.77085; Val NMI: 0.81719\n",
      "(Epoch 68 / 100) Train Loss: 58.22944; Val Loss: 58.28015   Train ACC: 0.79259; Val ACC: 0.85400   Train NMI: 0.72639; Val NMI: 0.81115\n",
      "(Epoch 69 / 100) Train Loss: 58.24588; Val Loss: 58.34531   Train ACC: 0.79442; Val ACC: 0.95200   Train NMI: 0.71490; Val NMI: 0.89538\n",
      "(Epoch 70 / 100) Train Loss: 58.22967; Val Loss: 58.32621   Train ACC: 0.85325; Val ACC: 0.90000   Train NMI: 0.76748; Val NMI: 0.82726\n",
      "(Epoch 71 / 100) Train Loss: 58.21552; Val Loss: 58.34001   Train ACC: 0.70680; Val ACC: 0.79800   Train NMI: 0.71160; Val NMI: 0.82129\n",
      "(Epoch 72 / 100) Train Loss: 58.22677; Val Loss: 58.32924   Train ACC: 0.83548; Val ACC: 0.85000   Train NMI: 0.75207; Val NMI: 0.84243\n",
      "(Epoch 73 / 100) Train Loss: 58.21052; Val Loss: 58.45807   Train ACC: 0.86826; Val ACC: 0.81000   Train NMI: 0.78667; Val NMI: 0.82353\n",
      "(Epoch 74 / 100) Train Loss: 58.27060; Val Loss: 58.31928   Train ACC: 0.77053; Val ACC: 0.94800   Train NMI: 0.75033; Val NMI: 0.89146\n",
      "(Epoch 75 / 100) Train Loss: 58.22756; Val Loss: 58.28919   Train ACC: 0.85754; Val ACC: 0.96800   Train NMI: 0.78823; Val NMI: 0.92659\n",
      "(Epoch 76 / 100) Train Loss: 58.22576; Val Loss: 58.22752   Train ACC: 0.90257; Val ACC: 0.93000   Train NMI: 0.82295; Val NMI: 0.88573\n",
      "(Epoch 77 / 100) Train Loss: 58.20175; Val Loss: 58.24476   Train ACC: 0.82414; Val ACC: 0.97000   Train NMI: 0.73054; Val NMI: 0.92016\n",
      "(Epoch 78 / 100) Train Loss: 58.21252; Val Loss: 58.28496   Train ACC: 0.88419; Val ACC: 0.84200   Train NMI: 0.78700; Val NMI: 0.86113\n",
      "(Epoch 79 / 100) Train Loss: 58.21311; Val Loss: 58.32757   Train ACC: 0.89614; Val ACC: 0.84800   Train NMI: 0.81902; Val NMI: 0.81243\n",
      "(Epoch 80 / 100) Train Loss: 58.17787; Val Loss: 58.34607   Train ACC: 0.84743; Val ACC: 0.87800   Train NMI: 0.77459; Val NMI: 0.86242\n",
      "(Epoch 81 / 100) Train Loss: 58.21529; Val Loss: 58.39857   Train ACC: 0.92433; Val ACC: 0.89600   Train NMI: 0.85822; Val NMI: 0.83474\n",
      "(Epoch 82 / 100) Train Loss: 58.23409; Val Loss: 58.28820   Train ACC: 0.89951; Val ACC: 0.95800   Train NMI: 0.81161; Val NMI: 0.91628\n",
      "(Epoch 83 / 100) Train Loss: 58.22687; Val Loss: 58.22870   Train ACC: 0.83732; Val ACC: 0.94200   Train NMI: 0.75615; Val NMI: 0.88929\n",
      "(Epoch 84 / 100) Train Loss: 58.23708; Val Loss: 58.27136   Train ACC: 0.90564; Val ACC: 0.96000   Train NMI: 0.84227; Val NMI: 0.92034\n",
      "(Epoch 85 / 100) Train Loss: 58.17546; Val Loss: 58.39271   Train ACC: 0.92678; Val ACC: 0.94600   Train NMI: 0.85896; Val NMI: 0.89605\n",
      "(Epoch 86 / 100) Train Loss: 58.23137; Val Loss: 58.37230   Train ACC: 0.90993; Val ACC: 0.83000   Train NMI: 0.82158; Val NMI: 0.86053\n",
      "(Epoch 87 / 100) Train Loss: 58.25134; Val Loss: 58.34415   Train ACC: 0.81863; Val ACC: 0.85000   Train NMI: 0.73790; Val NMI: 0.86876\n",
      "(Epoch 88 / 100) Train Loss: 58.16335; Val Loss: 58.28700   Train ACC: 0.85080; Val ACC: 0.85000   Train NMI: 0.77870; Val NMI: 0.86076\n",
      "(Epoch 89 / 100) Train Loss: 58.22661; Val Loss: 58.32805   Train ACC: 0.82966; Val ACC: 0.84400   Train NMI: 0.75588; Val NMI: 0.83553\n",
      "(Epoch 90 / 100) Train Loss: 58.21616; Val Loss: 58.34972   Train ACC: 0.75490; Val ACC: 0.78800   Train NMI: 0.69970; Val NMI: 0.82062\n",
      "(Epoch 91 / 100) Train Loss: 58.21209; Val Loss: 58.29582   Train ACC: 0.88817; Val ACC: 0.89200   Train NMI: 0.81831; Val NMI: 0.86947\n",
      "(Epoch 92 / 100) Train Loss: 58.21113; Val Loss: 58.33799   Train ACC: 0.84467; Val ACC: 0.79600   Train NMI: 0.79514; Val NMI: 0.81153\n",
      "(Epoch 93 / 100) Train Loss: 58.24261; Val Loss: 58.33786   Train ACC: 0.82200; Val ACC: 0.86600   Train NMI: 0.72257; Val NMI: 0.83022\n",
      "(Epoch 94 / 100) Train Loss: 58.25107; Val Loss: 58.25660   Train ACC: 0.78125; Val ACC: 0.90800   Train NMI: 0.72537; Val NMI: 0.87381\n",
      "(Epoch 95 / 100) Train Loss: 58.21897; Val Loss: 58.29633   Train ACC: 0.84314; Val ACC: 0.87200   Train NMI: 0.78039; Val NMI: 0.85771\n",
      "(Epoch 96 / 100) Train Loss: 58.23639; Val Loss: 58.29274   Train ACC: 0.82261; Val ACC: 0.87200   Train NMI: 0.75048; Val NMI: 0.83093\n",
      "(Epoch 97 / 100) Train Loss: 58.20632; Val Loss: 58.33748   Train ACC: 0.79228; Val ACC: 0.83600   Train NMI: 0.72824; Val NMI: 0.86940\n",
      "(Epoch 98 / 100) Train Loss: 58.19644; Val Loss: 58.37333   Train ACC: 0.78309; Val ACC: 0.77600   Train NMI: 0.73437; Val NMI: 0.84453\n",
      "(Epoch 99 / 100) Train Loss: 58.20883; Val Loss: 58.33648   Train ACC: 0.70558; Val ACC: 0.79600   Train NMI: 0.70496; Val NMI: 0.80226\n",
      "(Epoch 100 / 100) Train Loss: 58.16865; Val Loss: 58.25896   Train ACC: 0.81097; Val ACC: 0.98400   Train NMI: 0.75412; Val NMI: 0.95771\n",
      "WARNING: Entity <bound method Dense.call of <tensorflow.python.layers.core.Dense object at 0x00000253B14B2E48>> could not be transformed and will be executed as-is. Please report this to the AutgoGraph team. When filing the bug, set the verbosity to 10 (on Linux, `export AUTOGRAPH_VERBOSITY=10`) and attach the full output. Cause: converting <bound method Dense.call of <tensorflow.python.layers.core.Dense object at 0x00000253B14B2E48>>: AssertionError: Bad argument number for Name: 3, expecting 4\n",
      "WARNING: Entity <bound method Dense.call of <tensorflow.python.layers.core.Dense object at 0x00000253B14923C8>> could not be transformed and will be executed as-is. Please report this to the AutgoGraph team. When filing the bug, set the verbosity to 10 (on Linux, `export AUTOGRAPH_VERBOSITY=10`) and attach the full output. Cause: converting <bound method Dense.call of <tensorflow.python.layers.core.Dense object at 0x00000253B14923C8>>: AssertionError: Bad argument number for Name: 3, expecting 4\n",
      "WARNING: Entity <bound method Dense.call of <tensorflow.python.layers.core.Dense object at 0x00000253B14924A8>> could not be transformed and will be executed as-is. Please report this to the AutgoGraph team. When filing the bug, set the verbosity to 10 (on Linux, `export AUTOGRAPH_VERBOSITY=10`) and attach the full output. Cause: converting <bound method Dense.call of <tensorflow.python.layers.core.Dense object at 0x00000253B14924A8>>: AssertionError: Bad argument number for Name: 3, expecting 4\n",
      "WARNING: Entity <bound method Dense.call of <tensorflow.python.layers.core.Dense object at 0x00000253B1492E48>> could not be transformed and will be executed as-is. Please report this to the AutgoGraph team. When filing the bug, set the verbosity to 10 (on Linux, `export AUTOGRAPH_VERBOSITY=10`) and attach the full output. Cause: converting <bound method Dense.call of <tensorflow.python.layers.core.Dense object at 0x00000253B1492E48>>: AssertionError: Bad argument number for Name: 3, expecting 4\n",
      "WARNING: Entity <bound method Dense.call of <tensorflow.python.layers.core.Dense object at 0x00000253B1492E48>> could not be transformed and will be executed as-is. Please report this to the AutgoGraph team. When filing the bug, set the verbosity to 10 (on Linux, `export AUTOGRAPH_VERBOSITY=10`) and attach the full output. Cause: converting <bound method Dense.call of <tensorflow.python.layers.core.Dense object at 0x00000253B1492E48>>: AssertionError: Bad argument number for Name: 3, expecting 4\n",
      "WARNING: Entity <bound method Dense.call of <tensorflow.python.layers.core.Dense object at 0x00000253B1492E48>> could not be transformed and will be executed as-is. Please report this to the AutgoGraph team. When filing the bug, set the verbosity to 10 (on Linux, `export AUTOGRAPH_VERBOSITY=10`) and attach the full output. Cause: converting <bound method Dense.call of <tensorflow.python.layers.core.Dense object at 0x00000253B1492E48>>: AssertionError: Bad argument number for Name: 3, expecting 4\n",
      "WARNING: Entity <bound method Dense.call of <tensorflow.python.layers.core.Dense object at 0x00000253B1492E48>> could not be transformed and will be executed as-is. Please report this to the AutgoGraph team. When filing the bug, set the verbosity to 10 (on Linux, `export AUTOGRAPH_VERBOSITY=10`) and attach the full output. Cause: converting <bound method Dense.call of <tensorflow.python.layers.core.Dense object at 0x00000253B1492E48>>: AssertionError: Bad argument number for Name: 3, expecting 4\n",
      "Testing phase...\n",
      "Accuracy: 0.98400,  NMI: 0.95771\n"
     ]
    }
   ],
   "source": [
    "def del_all_flags(FLAGS):\n",
    "    flags_dict = FLAGS._flags()\n",
    "    keys_list = [keys for keys in flags_dict]\n",
    "    for keys in keys_list:\n",
    "        FLAGS.__delattr__(keys)\n",
    "\n",
    "\n",
    "del_all_flags(tf.flags.FLAGS)\n",
    "\n",
    "flags = tf.flags\n",
    "PARAMETERS = flags.FLAGS\n",
    "tf.app.flags.DEFINE_string('f', '', 'kernel')\n",
    "\n",
    "#########################################################\n",
    "## Input Parameters\n",
    "#########################################################\n",
    "\n",
    "## Dataset\n",
    "flags.DEFINE_string('dataset', 'mnist', 'Specify the desired dataset (mnist)')\n",
    "flags.DEFINE_integer('seed', -1, 'Random Seed')\n",
    "\n",
    "## GPU\n",
    "flags.DEFINE_integer('gpu', 1, 'Using Cuda, 1 to enable')\n",
    "flags.DEFINE_integer('gpuID', 1, 'Set GPU Id to use')\n",
    "\n",
    "## Training\n",
    "flags.DEFINE_integer('batch_size', 64, 'Batch size of training data')\n",
    "flags.DEFINE_integer('num_epochs', 100, 'Number of epochs in training phase')\n",
    "flags.DEFINE_float('learning_rate', 1e-3, 'Learning rate for training')\n",
    "flags.DEFINE_float('decay_epoch', -1,\n",
    "                   'Reduces the learning rate every decay_epoch')\n",
    "flags.DEFINE_float('lr_decay', 0.5, 'Learning rate decay for training')\n",
    "\n",
    "## Architecture\n",
    "flags.DEFINE_integer('num_classes', 5, 'Number of clusters')\n",
    "flags.DEFINE_integer('gaussian_size', 64,\n",
    "                     'Size of the gaussian learnt by the network')\n",
    "\n",
    "## Partition parameters\n",
    "flags.DEFINE_float(\n",
    "    'train_proportion', 1.0,\n",
    "    'Proportion of examples to consider for training only  (0.0-1.0)')\n",
    "flags.DEFINE_integer('batch_size_val', 200, 'Batch size of validation data')\n",
    "flags.DEFINE_integer('batch_size_test', 200, 'Batch size of test data')\n",
    "\n",
    "## Gumbel parameters\n",
    "flags.DEFINE_float(\n",
    "    'temperature', 1.0,\n",
    "    'Initial temperature used in gumbel-softmax (recommended 0.5-1.0)')\n",
    "flags.DEFINE_integer('decay_temperature', 1,\n",
    "                     'Set 1 to decay gumbel temperature at every epoch')\n",
    "flags.DEFINE_integer('hard_gumbel', 0, 'Hard version of gumbel-softmax')\n",
    "flags.DEFINE_float('min_temperature', 0.5,\n",
    "                   'Minimum temperature of gumbel-softmax after annealing')\n",
    "flags.DEFINE_float('decay_temp_rate', 0.00693,\n",
    "                   'Temperature decay rate at every epoch')\n",
    "\n",
    "## Loss function parameters\n",
    "flags.DEFINE_string('loss_type', 'bce',\n",
    "                    'Desired loss function to train (mse, bce)')\n",
    "flags.DEFINE_float('w_gaussian', 1.0, 'Weight of Gaussian regularization')\n",
    "flags.DEFINE_float('w_categorical', 1.0,\n",
    "                   'Weight of Categorical regularization')\n",
    "flags.DEFINE_float('w_reconstruction', 1.0, 'Weight of Reconstruction loss')\n",
    "\n",
    "## Others\n",
    "flags.DEFINE_integer('verbose', 0, \"Print extra information at every epoch.\")\n",
    "flags.DEFINE_integer('random_search_it', 20, 'Iterations of random search')\n",
    "\n",
    "if PARAMETERS.gpu == 1:\n",
    "    os.environ[\"CUDA_VISIBLE_DEVICES\"] = str(PARAMETERS.gpuID)\n",
    "\n",
    "if PARAMETERS.seed < 0:\n",
    "    np.random.seed(None)\n",
    "else:\n",
    "    np.random.seed(PARAMETERS.seed)\n",
    "\n",
    "#########################################################\n",
    "## Read Data\n",
    "#########################################################\n",
    "if PARAMETERS.dataset == \"mnist\":\n",
    "    print(\"Loading mnist dataset...\")\n",
    "    # load mnist data\n",
    "    # (x_train, y_train), (x_test, y_test) = mnist.load_data()\n",
    "    # x_train=np.load(\"x_scale4.npy\")\n",
    "    # y_train=np.load(\"y_label4.npy\")\n",
    "    # x_test =  np.load(\"test4.npy\")\n",
    "    # y_test =  np.load(\"y_test4.npy\")\n",
    "\n",
    "    x_train=np.load(\"x_scale5.npy\")\n",
    "    y_train=np.load(\"y_label5.npy\")\n",
    "    x_test =  np.load(\"x_test5.npy\")\n",
    "    y_test =  np.load(\"y_test5.npy\")\n",
    "\n",
    "    # x_train = x_train / 255.0\n",
    "    # x_test = x_test / 255.0\n",
    "else:\n",
    "    raise \"invalid dataset, valid datasets are: mnist\"\n",
    "\n",
    "## Set datatypes\n",
    "x_train = x_train.astype(np.float32)\n",
    "x_test = x_test.astype(np.float32)\n",
    "y_train = y_train.astype(np.int64)\n",
    "y_test = y_test.astype(np.int64)\n",
    "\n",
    "## Flatten data\n",
    "x_train = flatten_array(x_train)\n",
    "x_test = flatten_array(x_test)\n",
    "\n",
    "#########################################################\n",
    "## Data Partition\n",
    "#########################################################\n",
    "test_data, test_labels = x_test, y_test\n",
    "\n",
    "if PARAMETERS.train_proportion == 1.0:\n",
    "    train_data, train_labels, val_data, val_labels = x_train, y_train, x_test, y_test\n",
    "else:\n",
    "    train_data, train_labels, val_data, val_labels = partition_train_val(\n",
    "        x_train, y_train, PARAMETERS.train_proportion, PARAMETERS.num_classes)\n",
    "\n",
    "if PARAMETERS.verbose == 1:\n",
    "    print(\"Train size: %dx%d\" % (train_data.shape[0], train_data.shape[1]))\n",
    "    if PARAMETERS.train_proportion < 1.0:\n",
    "        print(\"Validation size: %dx%d\" %\n",
    "              (val_data.shape[0], val_data.shape[1]))\n",
    "    print(\"Test size: %dx%d\" % (test_data.shape[0], test_data.shape[1]))\n",
    "\n",
    "#########################################################\n",
    "## Train and Test Model\n",
    "#########################################################\n",
    "tf.reset_default_graph()\n",
    "if PARAMETERS.seed > -1:\n",
    "    tf.set_random_seed(PARAMETERS.seed)\n",
    "\n",
    "## Model Initialization\n",
    "gmvae = GMVAE(PARAMETERS)\n",
    "\n",
    "## Training Phase\n",
    "history_loss = gmvae.train(train_data, train_labels, val_data, val_labels)\n",
    "\n",
    "## Testing Phase\n",
    "accuracy, nmi = gmvae.test(test_data, test_labels, PARAMETERS.batch_size_test)\n",
    "\n",
    "print(\"Testing phase...\")\n",
    "print(\"Accuracy: %.5lf,  NMI: %.5lf\" % (accuracy, nmi))"
   ]
  },
  {
   "cell_type": "code",
   "execution_count": 3,
   "metadata": {},
   "outputs": [],
   "source": [
    "def revScale(tra):\n",
    "    lat_min= 48.90202222222222\n",
    "    lat_max=49.0623\n",
    "    lon_max=-123.02870277777778\n",
    "    lon_min=-123.41741944444445\n",
    "    lat=tra[:,0]*(lat_max-lat_min)+lat_min\n",
    "    lon=tra[:,1]*(lon_max-lon_min)+lon_min\n",
    "    new_tra=np.stack((lat,lon),axis=1)\n",
    "    return new_tra"
   ]
  },
  {
   "cell_type": "code",
   "execution_count": 4,
   "metadata": {},
   "outputs": [],
   "source": [
    "def randomcolor():\n",
    "    colorArr = ['1','2','3','4','5','6','7','8','9','A','B','C','D','E','F']\n",
    "    color = \"\"\n",
    "    for i in range(6):\n",
    "        color += colorArr[random.randint(0,14)]\n",
    "    return \"#\"+color"
   ]
  },
  {
   "cell_type": "code",
   "execution_count": 5,
   "metadata": {},
   "outputs": [],
   "source": [
    "orst=np.load(\"9m353.npy\")\n",
    "valdata=np.load(\"9msc.npy\")"
   ]
  },
  {
   "cell_type": "code",
   "execution_count": 8,
   "metadata": {},
   "outputs": [],
   "source": [
    "valdata = valdata.astype(np.float32)\n",
    "valdata = flatten_array(valdata)"
   ]
  },
  {
   "cell_type": "code",
   "execution_count": 9,
   "metadata": {},
   "outputs": [],
   "source": [
    "# test_batch_data = test_data"
   ]
  },
  {
   "cell_type": "code",
   "execution_count": 10,
   "metadata": {},
   "outputs": [],
   "source": [
    "test_batch_data = valdata"
   ]
  },
  {
   "cell_type": "code",
   "execution_count": 11,
   "metadata": {
    "collapsed": true,
    "jupyter": {
     "outputs_hidden": true
    }
   },
   "outputs": [
    {
     "name": "stdout",
     "output_type": "stream",
     "text": [
      "WARNING: Entity <bound method Dense.call of <tensorflow.python.layers.core.Dense object at 0x00000253B389A978>> could not be transformed and will be executed as-is. Please report this to the AutgoGraph team. When filing the bug, set the verbosity to 10 (on Linux, `export AUTOGRAPH_VERBOSITY=10`) and attach the full output. Cause: converting <bound method Dense.call of <tensorflow.python.layers.core.Dense object at 0x00000253B389A978>>: AssertionError: Bad argument number for Name: 3, expecting 4\n",
      "WARNING: Entity <bound method Dense.call of <tensorflow.python.layers.core.Dense object at 0x00000253B389A978>> could not be transformed and will be executed as-is. Please report this to the AutgoGraph team. When filing the bug, set the verbosity to 10 (on Linux, `export AUTOGRAPH_VERBOSITY=10`) and attach the full output. Cause: converting <bound method Dense.call of <tensorflow.python.layers.core.Dense object at 0x00000253B389A978>>: AssertionError: Bad argument number for Name: 3, expecting 4\n",
      "WARNING: Entity <bound method Dense.call of <tensorflow.python.layers.core.Dense object at 0x00000253B389A978>> could not be transformed and will be executed as-is. Please report this to the AutgoGraph team. When filing the bug, set the verbosity to 10 (on Linux, `export AUTOGRAPH_VERBOSITY=10`) and attach the full output. Cause: converting <bound method Dense.call of <tensorflow.python.layers.core.Dense object at 0x00000253B389A978>>: AssertionError: Bad argument number for Name: 3, expecting 4\n",
      "WARNING: Entity <bound method Dense.call of <tensorflow.python.layers.core.Dense object at 0x00000253B28C9518>> could not be transformed and will be executed as-is. Please report this to the AutgoGraph team. When filing the bug, set the verbosity to 10 (on Linux, `export AUTOGRAPH_VERBOSITY=10`) and attach the full output. Cause: converting <bound method Dense.call of <tensorflow.python.layers.core.Dense object at 0x00000253B28C9518>>: AssertionError: Bad argument number for Name: 3, expecting 4\n",
      "WARNING: Entity <bound method Dense.call of <tensorflow.python.layers.core.Dense object at 0x00000253B389A978>> could not be transformed and will be executed as-is. Please report this to the AutgoGraph team. When filing the bug, set the verbosity to 10 (on Linux, `export AUTOGRAPH_VERBOSITY=10`) and attach the full output. Cause: converting <bound method Dense.call of <tensorflow.python.layers.core.Dense object at 0x00000253B389A978>>: AssertionError: Bad argument number for Name: 3, expecting 4\n",
      "WARNING: Entity <bound method Dense.call of <tensorflow.python.layers.core.Dense object at 0x00000253B389A978>> could not be transformed and will be executed as-is. Please report this to the AutgoGraph team. When filing the bug, set the verbosity to 10 (on Linux, `export AUTOGRAPH_VERBOSITY=10`) and attach the full output. Cause: converting <bound method Dense.call of <tensorflow.python.layers.core.Dense object at 0x00000253B389A978>>: AssertionError: Bad argument number for Name: 3, expecting 4\n",
      "WARNING: Entity <bound method Dense.call of <tensorflow.python.layers.core.Dense object at 0x00000253B389A978>> could not be transformed and will be executed as-is. Please report this to the AutgoGraph team. When filing the bug, set the verbosity to 10 (on Linux, `export AUTOGRAPH_VERBOSITY=10`) and attach the full output. Cause: converting <bound method Dense.call of <tensorflow.python.layers.core.Dense object at 0x00000253B389A978>>: AssertionError: Bad argument number for Name: 3, expecting 4\n",
      "WARNING: Entity <bound method Dense.call of <tensorflow.python.layers.core.Dense object at 0x00000253B389A390>> could not be transformed and will be executed as-is. Please report this to the AutgoGraph team. When filing the bug, set the verbosity to 10 (on Linux, `export AUTOGRAPH_VERBOSITY=10`) and attach the full output. Cause: converting <bound method Dense.call of <tensorflow.python.layers.core.Dense object at 0x00000253B389A390>>: AssertionError: Bad argument number for Name: 3, expecting 4\n",
      "WARNING: Entity <bound method Dense.call of <tensorflow.python.layers.core.Dense object at 0x00000253B389A390>> could not be transformed and will be executed as-is. Please report this to the AutgoGraph team. When filing the bug, set the verbosity to 10 (on Linux, `export AUTOGRAPH_VERBOSITY=10`) and attach the full output. Cause: converting <bound method Dense.call of <tensorflow.python.layers.core.Dense object at 0x00000253B389A390>>: AssertionError: Bad argument number for Name: 3, expecting 4\n",
      "WARNING: Entity <bound method Dense.call of <tensorflow.python.layers.core.Dense object at 0x00000253B389ACC0>> could not be transformed and will be executed as-is. Please report this to the AutgoGraph team. When filing the bug, set the verbosity to 10 (on Linux, `export AUTOGRAPH_VERBOSITY=10`) and attach the full output. Cause: converting <bound method Dense.call of <tensorflow.python.layers.core.Dense object at 0x00000253B389ACC0>>: AssertionError: Bad argument number for Name: 3, expecting 4\n",
      "WARNING: Entity <bound method Dense.call of <tensorflow.python.layers.core.Dense object at 0x00000253B389ACC0>> could not be transformed and will be executed as-is. Please report this to the AutgoGraph team. When filing the bug, set the verbosity to 10 (on Linux, `export AUTOGRAPH_VERBOSITY=10`) and attach the full output. Cause: converting <bound method Dense.call of <tensorflow.python.layers.core.Dense object at 0x00000253B389ACC0>>: AssertionError: Bad argument number for Name: 3, expecting 4\n",
      "WARNING: Entity <bound method Dense.call of <tensorflow.python.layers.core.Dense object at 0x00000253B389ACC0>> could not be transformed and will be executed as-is. Please report this to the AutgoGraph team. When filing the bug, set the verbosity to 10 (on Linux, `export AUTOGRAPH_VERBOSITY=10`) and attach the full output. Cause: converting <bound method Dense.call of <tensorflow.python.layers.core.Dense object at 0x00000253B389ACC0>>: AssertionError: Bad argument number for Name: 3, expecting 4\n"
     ]
    }
   ],
   "source": [
    "reconstructed = gmvae.reconstruct_data(test_batch_data)"
   ]
  },
  {
   "cell_type": "markdown",
   "metadata": {},
   "source": [
    "### 重构数据得到loss"
   ]
  },
  {
   "cell_type": "code",
   "execution_count": 12,
   "metadata": {},
   "outputs": [],
   "source": [
    "res=[]\n",
    "for i in range(len(reconstructed)):\n",
    "    tra_r=revScale(reconstructed[i].reshape(50, 2))\n",
    "    tra_o=orst[i]\n",
    "    loss=dtw(tra_r,tra_o)[0]\n",
    "    res.append(loss)\n",
    "res=np.array(res)"
   ]
  },
  {
   "cell_type": "code",
   "execution_count": 12,
   "metadata": {},
   "outputs": [],
   "source": [
    "res=[]\n",
    "for i in range(len(reconstructed)):\n",
    "    tra_r=revScale(reconstructed[i].reshape(50, 2))\n",
    "    tra_o=revScale(test_batch_data[i].reshape(50, 2))\n",
    "    loss=mdf(tra_r,tra_o)\n",
    "    res.append(loss)\n",
    "res=np.array(res)"
   ]
  },
  {
   "cell_type": "code",
   "execution_count": 10,
   "metadata": {
    "collapsed": true,
    "jupyter": {
     "outputs_hidden": true
    }
   },
   "outputs": [
    {
     "data": {
      "text/plain": [
       "array([0.01375181, 0.02803171, 0.01484912, 0.03221203, 0.04114022,\n",
       "       0.01019641, 0.02918643, 0.05119988, 0.00836603, 0.01107196,\n",
       "       0.0587592 , 0.02506912, 0.01562613, 0.02554824, 0.01994032,\n",
       "       0.0257597 , 0.01653514, 0.01051698, 0.01771152, 0.01030062,\n",
       "       0.03885541, 0.00483643, 0.01604233, 0.03454036, 0.0221883 ,\n",
       "       0.0175289 , 0.01115478, 0.01282026, 0.0648049 , 0.01436787,\n",
       "       0.05662697, 0.02906307, 0.03681027, 0.0241573 , 0.01578862,\n",
       "       0.01627483, 0.02562875, 0.05127454, 0.02241537, 0.00643286,\n",
       "       0.01761228, 0.04849818, 0.01706159, 0.00391664, 0.03663599,\n",
       "       0.02065578, 0.02631254, 0.01251134, 0.0156165 , 0.068937  ,\n",
       "       0.02020783, 0.02225908, 0.00813835, 0.01471504, 0.07994926,\n",
       "       0.01756149, 0.0076667 , 0.01054017, 0.03206269, 0.02639198,\n",
       "       0.04174752, 0.01805676, 0.00826076, 0.01507649, 0.01767989,\n",
       "       0.01401713, 0.03075146, 0.05578736, 0.06129687, 0.02006168,\n",
       "       0.05653394, 0.01608173, 0.00445838, 0.02848429, 0.01302678,\n",
       "       0.04008688, 0.01036215, 0.00979428, 0.01436054, 0.01667974,\n",
       "       0.03219778, 0.02958199, 0.08230389, 0.02389166, 0.02431833,\n",
       "       0.00948894, 0.02156663, 0.01434003, 0.03643775, 0.0042629 ,\n",
       "       0.01841408, 0.04106144, 0.0209449 , 0.01037911, 0.01368514,\n",
       "       0.05199093, 0.01764777, 0.05617412, 0.04557171, 0.02516336,\n",
       "       0.00796818, 0.03649953, 0.01517898, 0.05083275, 0.01481356,\n",
       "       0.03098153, 0.03820092, 0.0408665 , 0.01684059, 0.0106128 ,\n",
       "       0.03905792, 0.02013173, 0.00877295, 0.03002843, 0.03981326,\n",
       "       0.0347538 , 0.05278282, 0.01200424, 0.0367915 , 0.05879847,\n",
       "       0.00954135, 0.03903524, 0.03511942, 0.07678132, 0.02868946,\n",
       "       0.02190467, 0.01264635, 0.01166183, 0.00718392, 0.03280632,\n",
       "       0.00848209, 0.01148809, 0.05197711, 0.02896376, 0.03724042,\n",
       "       0.02069866, 0.02490659, 0.01315702, 0.01392114, 0.00477047,\n",
       "       0.04861243, 0.00890434, 0.03173785, 0.00560114, 0.00961021,\n",
       "       0.01026103, 0.0163987 , 0.04991688, 0.0225778 , 0.02084887,\n",
       "       0.00659534, 0.03634107, 0.01623475, 0.01314372, 0.01391636,\n",
       "       0.01056761, 0.0234593 , 0.00905177, 0.01066973, 0.00839851,\n",
       "       0.06896755, 0.0665953 , 0.02191634, 0.02110116, 0.01444854,\n",
       "       0.00742184, 0.01537303, 0.0134792 , 0.01633041, 0.00796174,\n",
       "       0.01299125, 0.04304943, 0.01074401, 0.01706408, 0.01088547,\n",
       "       0.01042872, 0.0253187 , 0.0365177 , 0.02507467, 0.02747467,\n",
       "       0.02644719, 0.01465438, 0.00459665, 0.04405421, 0.03806493,\n",
       "       0.00812793, 0.00461168, 0.00549332, 0.01250957, 0.02212618,\n",
       "       0.00965947, 0.02470021, 0.01334426, 0.01878558, 0.02396816,\n",
       "       0.00529175, 0.03262498, 0.00790081, 0.04227636, 0.00464359,\n",
       "       0.02308786, 0.02842489, 0.0055234 , 0.0048765 , 0.02969144,\n",
       "       0.01256529, 0.00482008, 0.01014359, 0.01057145, 0.0100266 ,\n",
       "       0.01366573, 0.01254136, 0.04372242, 0.01195016, 0.02439148,\n",
       "       0.04596059, 0.01610802, 0.01878701, 0.03336366, 0.0201708 ,\n",
       "       0.02478547, 0.061     , 0.0217334 , 0.01279241, 0.03164783,\n",
       "       0.00715403, 0.01044185, 0.01294265, 0.0121658 , 0.02631097,\n",
       "       0.00889186, 0.01339525, 0.00992168, 0.03292619, 0.02423812,\n",
       "       0.01476197, 0.02358033, 0.00738779, 0.00890273, 0.02858719,\n",
       "       0.03177871, 0.01564714, 0.00981704, 0.03118408, 0.01489996,\n",
       "       0.03960287, 0.04714823, 0.007198  , 0.01758171, 0.00720441,\n",
       "       0.05704231, 0.03635373, 0.0319256 , 0.03888085, 0.01123676,\n",
       "       0.00807724, 0.0046223 , 0.02168684, 0.02081917, 0.00446845,\n",
       "       0.01370035, 0.01525394, 0.01142575, 0.00286118, 0.0041965 ,\n",
       "       0.00494395, 0.01383682, 0.00589485, 0.02275861, 0.03238125,\n",
       "       0.01590945, 0.05851814, 0.01021402, 0.00317755, 0.03083673,\n",
       "       0.04268886, 0.00357517, 0.0240684 , 0.01958252, 0.01325122,\n",
       "       0.00630717, 0.04173162, 0.03363059, 0.03634641, 0.04148618,\n",
       "       0.04588512, 0.04695316, 0.05266443, 0.02212651, 0.05702148,\n",
       "       0.03945235, 0.05186733, 0.04344715, 0.01454458, 0.02025523,\n",
       "       0.01186403, 0.04999192, 0.0448912 , 0.01894877, 0.03599168,\n",
       "       0.04110418, 0.00888578, 0.0228434 , 0.01794617, 0.01518918,\n",
       "       0.03697304, 0.01511365, 0.00598968, 0.01363167, 0.01407011,\n",
       "       0.01099882, 0.02084784, 0.01472938, 0.0483598 , 0.06208602,\n",
       "       0.04700081, 0.02144912, 0.02022407, 0.01316019, 0.00452505,\n",
       "       0.00917747, 0.02524989, 0.03385166, 0.00932182, 0.05782186,\n",
       "       0.02888592, 0.02316208, 0.00888474, 0.00951192, 0.01267616,\n",
       "       0.01618844, 0.01331384, 0.04367798, 0.00808646, 0.01863329,\n",
       "       0.0067513 , 0.09613156, 0.04640149, 0.03657156, 0.04938618,\n",
       "       0.03853949, 0.01044103, 0.13460121, 0.05962327, 0.05399128,\n",
       "       0.03542004, 0.01943052, 0.02544831, 0.01580031, 0.05479218,\n",
       "       0.04103341, 0.0506485 , 0.04682317])"
      ]
     },
     "execution_count": 10,
     "metadata": {},
     "output_type": "execute_result"
    }
   ],
   "source": [
    "res"
   ]
  },
  {
   "cell_type": "code",
   "execution_count": 11,
   "metadata": {},
   "outputs": [
    {
     "data": {
      "image/png": "[encoded data removed]",
      "text/plain": [
       "<Figure size 1152x576 with 1 Axes>"
      ]
     },
     "metadata": {
      "needs_background": "light"
     },
     "output_type": "display_data"
    },
    {
     "data": {
      "text/plain": [
       "<Figure size 640x480 with 0 Axes>"
      ]
     },
     "metadata": {},
     "output_type": "display_data"
    }
   ],
   "source": [
    "\n",
    "fig = plt.figure(figsize=(16,8))\n",
    "plt.figure(figsize=(8, 6), dpi=80) \n",
    "ax = fig.add_subplot(111)\n",
    "ax.plot([_ for _ in range(len(res))],res,'go-')\n",
    "plt.show()"
   ]
  },
  {
   "cell_type": "markdown",
   "metadata": {},
   "source": [
    "### 反归一化，格式调整，准备可视化"
   ]
  },
  {
   "cell_type": "code",
   "execution_count": 13,
   "metadata": {},
   "outputs": [],
   "source": [
    "streams=[]\n",
    "for i in range(len(test_batch_data)):\n",
    "    tra_o=revScale(test_batch_data[i].reshape(50, 2))\n",
    "    streams.append(tra_o)\n",
    "streams=np.array(streams)"
   ]
  },
  {
   "cell_type": "markdown",
   "metadata": {},
   "source": [
    "### 可视化异常轨迹"
   ]
  },
  {
   "cell_type": "code",
   "execution_count": 21,
   "metadata": {},
   "outputs": [],
   "source": [
    "check=[]\n",
    "streams=orst\n",
    "gmap = gmplot.GoogleMapPlotter(streams[0][0,0], streams[0][0,1], 12)\n",
    "\n",
    "for i in range(len(streams)):\n",
    "    if i in [292,314,315,336,342,147,161,291]:\n",
    "        check.append(i)\n",
    "        gmap.plot(streams[i][:,0], streams[i][:,1], \"#DC143C\", edge_width=2)\n",
    "        continue\n",
    "    if res[i]<0.068 :\n",
    "        \n",
    "        gmap.plot(streams[i][:,0], streams[i][:,1], \"#000000\", edge_width=1)\n",
    "    else:\t\n",
    "        check.append(i)\n",
    "        gmap.plot(streams[i][:,0], streams[i][:,1], \"#DC143C\", edge_width=2)\n",
    "gmap.draw(\"./HTML/re7.html\")"
   ]
  },
  {
   "cell_type": "code",
   "execution_count": 22,
   "metadata": {},
   "outputs": [
    {
     "data": {
      "text/plain": [
       "14"
      ]
     },
     "execution_count": 22,
     "metadata": {},
     "output_type": "execute_result"
    }
   ],
   "source": [
    "len(check)"
   ]
  },
  {
   "cell_type": "markdown",
   "metadata": {},
   "source": [
    "pd.DataFrame(streams[342]).to_csv(\"gz3.csv\")"
   ]
  },
  {
   "cell_type": "code",
   "execution_count": 43,
   "metadata": {},
   "outputs": [],
   "source": [
    "streams=orst\n",
    "gmap = gmplot.GoogleMapPlotter(streams[0][0,0], streams[0][0,1], 12)\n",
    "\n",
    "for i in range(len(streams)):\n",
    "#     if i in [292,314,315,336,342]:\n",
    "    if i in [292]:\n",
    "#     if i in [292,314,336,342]:\n",
    "\n",
    "#     if i in [292,314,315,336,342,147,161,291,143,146,20,211,217]:\n",
    "        \n",
    "        gmap.plot(streams[i][:,0], streams[i][:,1], \"#DC143C\", edge_width=3)\n",
    "#     else:\t\n",
    "# #         check.append(i)\n",
    "#         gmap.plot(streams[i][:,0], streams[i][:,1], \"#000000\", edge_width=1)\n",
    "gmap.draw(\"./HTML/re292.html\")"
   ]
  },
  {
   "cell_type": "code",
   "execution_count": 27,
   "metadata": {},
   "outputs": [],
   "source": [
    "for i in [292,314,315,336,342]:\n",
    "    pd.DataFrame(streams[i]).to_csv(f\"./streams/streams{i}.csv\")"
   ]
  },
  {
   "cell_type": "code",
   "execution_count": 23,
   "metadata": {},
   "outputs": [],
   "source": [
    "for i in check:\n",
    "    if i in [292,314,315,336,342]:\n",
    "        continue\n",
    "    pd.DataFrame(streams[i]).to_csv(f\"./streams/0.065/streams{i}.csv\")"
   ]
  },
  {
   "cell_type": "code",
   "execution_count": null,
   "metadata": {},
   "outputs": [],
   "source": [
    "###292横跨,左下(左314，右315)，不完整336，342弯曲\n",
    "###不完整147,中间弯曲161，横跨291，\n",
    "#[292,314,315,336,342,147,161,291]"
   ]
  },
  {
   "cell_type": "code",
   "execution_count": null,
   "metadata": {},
   "outputs": [],
   "source": [
    "# check  [53,54,59,73,77,122,125,138,143,217,249,292,314,315,324,336,342]"
   ]
  },
  {
   "cell_type": "code",
   "execution_count": 67,
   "metadata": {
    "collapsed": true,
    "jupyter": {
     "outputs_hidden": true
    }
   },
   "outputs": [
    {
     "data": {
      "text/plain": [
       "[20,\n",
       " 21,\n",
       " 32,\n",
       " 51,\n",
       " 53,\n",
       " 54,\n",
       " 59,\n",
       " 73,\n",
       " 77,\n",
       " 79,\n",
       " 96,\n",
       " 110,\n",
       " 111,\n",
       " 113,\n",
       " 122,\n",
       " 125,\n",
       " 138,\n",
       " 143,\n",
       " 146,\n",
       " 147,\n",
       " 161,\n",
       " 211,\n",
       " 217,\n",
       " 235,\n",
       " 249,\n",
       " 258,\n",
       " 286,\n",
       " 287,\n",
       " 291,\n",
       " 292,\n",
       " 314,\n",
       " 315,\n",
       " 324,\n",
       " 336,\n",
       " 339,\n",
       " 340,\n",
       " 342]"
      ]
     },
     "execution_count": 67,
     "metadata": {},
     "output_type": "execute_result"
    }
   ],
   "source": [
    "check"
   ]
  },
  {
   "cell_type": "code",
   "execution_count": 44,
   "metadata": {
    "collapsed": true,
    "jupyter": {
     "outputs_hidden": true
    }
   },
   "outputs": [
    {
     "data": {
      "text/plain": [
       "[53,\n",
       " 54,\n",
       " 59,\n",
       " 73,\n",
       " 77,\n",
       " 122,\n",
       " 125,\n",
       " 138,\n",
       " 143,\n",
       " 217,\n",
       " 249,\n",
       " 292,\n",
       " 314,\n",
       " 315,\n",
       " 324,\n",
       " 336,\n",
       " 342]"
      ]
     },
     "execution_count": 44,
     "metadata": {},
     "output_type": "execute_result"
    }
   ],
   "source": []
  },
  {
   "cell_type": "code",
   "execution_count": 52,
   "metadata": {},
   "outputs": [],
   "source": [
    "ind=0"
   ]
  },
  {
   "cell_type": "code",
   "execution_count": 53,
   "metadata": {},
   "outputs": [],
   "source": [
    "tra1=reconstructed[ind].reshape(50, 2)"
   ]
  },
  {
   "cell_type": "code",
   "execution_count": 54,
   "metadata": {},
   "outputs": [],
   "source": [
    "new_tra1=revScale(tra1)"
   ]
  },
  {
   "cell_type": "code",
   "execution_count": 43,
   "metadata": {},
   "outputs": [],
   "source": [
    "tra1_or=test_batch_data[ind].reshape(50,2)"
   ]
  },
  {
   "cell_type": "code",
   "execution_count": 44,
   "metadata": {},
   "outputs": [],
   "source": [
    "tra1_or=revScale(tra1_or)"
   ]
  },
  {
   "cell_type": "code",
   "execution_count": 45,
   "metadata": {},
   "outputs": [],
   "source": [
    "pd.DataFrame(tra1_or,columns=['lat','lon']).to_csv(f\"./generatetest/or_{ind}.csv\")"
   ]
  },
  {
   "cell_type": "code",
   "execution_count": 55,
   "metadata": {},
   "outputs": [],
   "source": [
    "pd.DataFrame(new_tra1,columns=['lat','lon']).to_csv(f\"./generatetest/new_{ind}.csv\")"
   ]
  },
  {
   "cell_type": "code",
   "execution_count": 13,
   "metadata": {},
   "outputs": [
    {
     "data": {
      "text/plain": [
       "0.014685261441497273"
      ]
     },
     "execution_count": 13,
     "metadata": {},
     "output_type": "execute_result"
    }
   ],
   "source": [
    "mdf(tra1_or,new_tra1)"
   ]
  },
  {
   "cell_type": "code",
   "execution_count": 45,
   "metadata": {},
   "outputs": [],
   "source": [
    "wr=pd.read_csv(\"wr.csv\",index_col=0)"
   ]
  },
  {
   "cell_type": "code",
   "execution_count": 210,
   "metadata": {},
   "outputs": [
    {
     "data": {
      "text/plain": [
       "0.009703701828518773"
      ]
     },
     "execution_count": 210,
     "metadata": {},
     "output_type": "execute_result"
    }
   ],
   "source": [
    "mdf(tra1_or,new_tra1)"
   ]
  },
  {
   "cell_type": "code",
   "execution_count": 211,
   "metadata": {},
   "outputs": [
    {
     "data": {
      "text/plain": [
       "0.4523026149061309"
      ]
     },
     "execution_count": 211,
     "metadata": {},
     "output_type": "execute_result"
    }
   ],
   "source": [
    "dtw(tra1_or,new_tra1)[0]"
   ]
  },
  {
   "cell_type": "code",
   "execution_count": 54,
   "metadata": {},
   "outputs": [
    {
     "data": {
      "text/plain": [
       "0.46914546797847834"
      ]
     },
     "execution_count": 54,
     "metadata": {},
     "output_type": "execute_result"
    }
   ],
   "source": [
    "dtw(tra1_or,np.array(wr))[0]"
   ]
  },
  {
   "cell_type": "code",
   "execution_count": 5,
   "metadata": {},
   "outputs": [
    {
     "data": {
      "text/plain": [
       "(500, 100)"
      ]
     },
     "execution_count": 5,
     "metadata": {},
     "output_type": "execute_result"
    }
   ],
   "source": [
    "test_data.shape"
   ]
  },
  {
   "cell_type": "code",
   "execution_count": 1,
   "metadata": {},
   "outputs": [
    {
     "ename": "NameError",
     "evalue": "name 'np' is not defined",
     "output_type": "error",
     "traceback": [
      "\u001b[1;31m---------------------------------------------------------------------------\u001b[0m",
      "\u001b[1;31mNameError\u001b[0m                                 Traceback (most recent call last)",
      "\u001b[1;32m<ipython-input-1-a22069ea96a1>\u001b[0m in \u001b[0;36m<module>\u001b[1;34m\u001b[0m\n\u001b[1;32m----> 1\u001b[1;33m \u001b[0mtest5\u001b[0m\u001b[1;33m=\u001b[0m\u001b[0mnp\u001b[0m\u001b[1;33m.\u001b[0m\u001b[0mload\u001b[0m\u001b[1;33m(\u001b[0m\u001b[1;34m\"x_test5.npy\"\u001b[0m\u001b[1;33m)\u001b[0m\u001b[1;33m\u001b[0m\u001b[1;33m\u001b[0m\u001b[0m\n\u001b[0m",
      "\u001b[1;31mNameError\u001b[0m: name 'np' is not defined"
     ]
    }
   ],
   "source": []
  },
  {
   "cell_type": "code",
   "execution_count": 22,
   "metadata": {},
   "outputs": [
    {
     "ename": "IndexError",
     "evalue": "too many indices for array",
     "output_type": "error",
     "traceback": [
      "\u001b[1;31m---------------------------------------------------------------------------\u001b[0m",
      "\u001b[1;31mIndexError\u001b[0m                                Traceback (most recent call last)",
      "\u001b[1;32m<ipython-input-22-026e24ed4e52>\u001b[0m in \u001b[0;36m<module>\u001b[1;34m\u001b[0m\n\u001b[1;32m----> 1\u001b[1;33m \u001b[0mstreams\u001b[0m\u001b[1;33m[\u001b[0m\u001b[1;36m0\u001b[0m\u001b[1;33m]\u001b[0m\u001b[1;33m[\u001b[0m\u001b[1;33m:\u001b[0m\u001b[1;33m,\u001b[0m\u001b[1;36m0\u001b[0m\u001b[1;33m]\u001b[0m\u001b[1;33m\u001b[0m\u001b[1;33m\u001b[0m\u001b[0m\n\u001b[0m",
      "\u001b[1;31mIndexError\u001b[0m: too many indices for array"
     ]
    }
   ],
   "source": [
    "streams[0][:,0]"
   ]
  },
  {
   "cell_type": "code",
   "execution_count": 23,
   "metadata": {},
   "outputs": [
    {
     "data": {
      "text/plain": [
       "array([49.06147, 49.05824, 49.05505, 49.05171, 49.04363, 49.03728,\n",
       "       49.03269, 49.02904, 49.02124, 49.0161 , 49.01465, 49.01173,\n",
       "       49.01035, 49.00674, 49.00553, 49.00427, 49.00318, 49.00233,\n",
       "       49.00142, 49.00052, 48.99945, 48.99841, 48.99786, 48.9983 ,\n",
       "       48.99884, 48.9997 , 49.00077, 49.00187, 49.00308, 49.00428,\n",
       "       49.00513, 49.00567])"
      ]
     },
     "execution_count": 23,
     "metadata": {},
     "output_type": "execute_result"
    }
   ],
   "source": [
    "orst[0][:,0]"
   ]
  },
  {
   "cell_type": "code",
   "execution_count": null,
   "metadata": {},
   "outputs": [],
   "source": []
  }
 ],
 "metadata": {
  "kernelspec": {
   "display_name": "Python 3.6.10 64-bit ('BY': conda)",
   "language": "python",
   "name": "python361064bitbyconda18ff7c5a2a8f40299e86077d23ec30cd"
  },
  "language_info": {
   "codemirror_mode": {
    "name": "ipython",
    "version": 3
   },
   "file_extension": ".py",
   "mimetype": "text/x-python",
   "name": "python",
   "nbconvert_exporter": "python",
   "pygments_lexer": "ipython3",
   "version": "3.6.10"
  }
 },
 "nbformat": 4,
 "nbformat_minor": 4
}
